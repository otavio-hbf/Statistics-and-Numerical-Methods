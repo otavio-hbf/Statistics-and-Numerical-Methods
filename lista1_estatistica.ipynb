{
  "nbformat": 4,
  "nbformat_minor": 0,
  "metadata": {
    "colab": {
      "provenance": [],
      "authorship_tag": "ABX9TyNVC84qmn6MHEvH8RqsYpl2",
      "include_colab_link": true
    },
    "kernelspec": {
      "name": "python3",
      "display_name": "Python 3"
    },
    "language_info": {
      "name": "python"
    }
  },
  "cells": [
    {
      "cell_type": "markdown",
      "metadata": {
        "id": "view-in-github",
        "colab_type": "text"
      },
      "source": [
        "<a href=\"https://colab.research.google.com/github/otavio-hbf/Statistics-and-Numerical-Methods/blob/main/lista1_estatistica.ipynb\" target=\"_parent\"><img src=\"https://colab.research.google.com/assets/colab-badge.svg\" alt=\"Open In Colab\"/></a>"
      ]
    },
    {
      "cell_type": "code",
      "source": [
        "import numpy as np\n",
        "import time\n",
        "import pandas as pd\n",
        "import matplotlib.pyplot as plt"
      ],
      "metadata": {
        "id": "wgzqzfp--ffk"
      },
      "execution_count": 2,
      "outputs": []
    },
    {
      "cell_type": "code",
      "source": [
        "matrix = []\n",
        "arr = []\n",
        "k = 10\n",
        "n = 1000000\n",
        "y_arr = [1,2,3,4,5,6,7,8,9,10]\n",
        "\n",
        "for i in range (k):\n",
        "  for j in range (n):\n",
        "    arr.append(np.random.randint(100))\n",
        "\n",
        "  copy_arr = arr.copy()\n",
        "  matrix.append(copy_arr)\n",
        "  arr.clear()\n"
      ],
      "metadata": {
        "id": "dzWvmLNvf-TW"
      },
      "execution_count": 3,
      "outputs": []
    },
    {
      "cell_type": "code",
      "source": [
        "def matrixCopy(matrix):\n",
        "\n",
        "  m_copy = []\n",
        "  copy_arr = []\n",
        "  for i in range(k):\n",
        "    copy_arr = matrix[i].copy()\n",
        "    m_copy.append(copy_arr)\n",
        "\n",
        "  return m_copy\n"
      ],
      "metadata": {
        "id": "ONpFaVu8qkyF"
      },
      "execution_count": 4,
      "outputs": []
    },
    {
      "cell_type": "code",
      "source": [
        "def bubbleSort(arr):\n",
        "  \n",
        "    n = len(arr)\n",
        "    swapped = False\n",
        "\n",
        "    for i in range(n-1):\n",
        "        for j in range(0, n-i-1):\n",
        "            if arr[j] > arr[j + 1]:\n",
        "                swapped = True\n",
        "                arr[j], arr[j + 1] = arr[j + 1], arr[j]\n",
        "         \n",
        "        if not swapped: return\n",
        "\n",
        "def insertion_sort(array):\n",
        "\n",
        "    for i in range(1, len(array)):\n",
        "        key_item = array[i]\n",
        "        j = i - 1\n",
        "\n",
        "        while j >= 0 and array[j] > key_item:\n",
        "            array[j + 1] = array[j]\n",
        "            j -= 1\n",
        "\n",
        "        array[j + 1] = key_item\n",
        "\n",
        "    return array\n",
        " "
      ],
      "metadata": {
        "id": "2YScqeBtdZSO"
      },
      "execution_count": 5,
      "outputs": []
    },
    {
      "cell_type": "code",
      "source": [
        "#Análise do .sort() do próprio python\n",
        "\n",
        "matrix_sortpy = matrixCopy(matrix)\n",
        "sortpy_stat_array = []\n",
        "\n",
        "for i in range (k):\n",
        "\n",
        "  t0 = time.time()\n",
        "  matrix_sortpy[i].sort()\n",
        "  tf = time.time()\n",
        "\n",
        "  t_exec = tf - t0\n",
        "\n",
        "  sortpy_stat_array.append(t_exec)\n",
        "\n",
        "\n",
        "print(sortpy_stat_array) \n",
        "\n"
      ],
      "metadata": {
        "colab": {
          "base_uri": "https://localhost:8080/"
        },
        "id": "TIExgC0N-TZh",
        "outputId": "b9710ec2-3c04-4e87-fc38-ae6fc41cdab7"
      },
      "execution_count": 6,
      "outputs": [
        {
          "output_type": "stream",
          "name": "stdout",
          "text": [
            "[0.13875341415405273, 0.14707612991333008, 0.1348109245300293, 0.14042377471923828, 0.14088797569274902, 0.14519953727722168, 0.1357710361480713, 0.1374962329864502, 0.14624619483947754, 0.13683676719665527]\n"
          ]
        }
      ]
    },
    {
      "cell_type": "code",
      "source": [
        "#Análise do bubblesort()\n",
        "\n",
        "matrix_bubblesort = matrixCopy(matrix)\n",
        "bubble_stat_array = []\n",
        "\n",
        "for i in range (k):\n",
        "\n",
        "  t0 = time.time()\n",
        "  matrix_bubblesort[i].sort()\n",
        "  tf = time.time()\n",
        "\n",
        "  t_exec = tf - t0\n",
        "\n",
        "  bubble_stat_array.append(t_exec)\n",
        "\n",
        "print(bubble_stat_array) "
      ],
      "metadata": {
        "id": "kgqVCe7C_uxR",
        "colab": {
          "base_uri": "https://localhost:8080/"
        },
        "outputId": "0b5e2971-02b6-444f-94f4-4f3bdc971b21"
      },
      "execution_count": 7,
      "outputs": [
        {
          "output_type": "stream",
          "name": "stdout",
          "text": [
            "[0.1483759880065918, 0.14614629745483398, 0.13937950134277344, 0.13971519470214844, 0.13987064361572266, 0.1418619155883789, 0.14701128005981445, 0.15416240692138672, 0.14331626892089844, 0.1377859115600586]\n"
          ]
        }
      ]
    },
    {
      "cell_type": "code",
      "source": [
        "#Análise do insertionsort()\n",
        "\n",
        "matrix_insertsort = matrixCopy(matrix)\n",
        "insert_stat_array = []\n",
        "\n",
        "for i in range (k):\n",
        "\n",
        "  t0 = time.time()\n",
        "  matrix_insertsort[i].sort()\n",
        "  tf = time.time()\n",
        "\n",
        "  t_exec = tf - t0\n",
        "\n",
        "  insert_stat_array.append(t_exec)\n",
        "\n",
        "print(insert_stat_array) "
      ],
      "metadata": {
        "colab": {
          "base_uri": "https://localhost:8080/"
        },
        "id": "nzsZehxHeDJb",
        "outputId": "a2dd028f-87b7-435a-d8c9-bd229ef5471e"
      },
      "execution_count": 8,
      "outputs": [
        {
          "output_type": "stream",
          "name": "stdout",
          "text": [
            "[0.1458899974822998, 0.14443397521972656, 0.14068198204040527, 0.140519380569458, 0.14611268043518066, 0.13357257843017578, 0.13494539260864258, 0.13465404510498047, 0.14461588859558105, 0.13448667526245117]\n"
          ]
        }
      ]
    },
    {
      "cell_type": "code",
      "source": [
        "media_sortpy = np.mean(sortpy_stat_array)\n",
        "media_bubblesort = np.mean(bubble_stat_array)\n",
        "media_insertsort = np.mean(insert_stat_array)\n",
        "\n",
        "print(np.mean(sortpy_stat_array))\n",
        "print(np.mean(bubble_stat_array))\n",
        "print(np.mean(insert_stat_array))"
      ],
      "metadata": {
        "colab": {
          "base_uri": "https://localhost:8080/"
        },
        "id": "w-4yJk1ezyEF",
        "outputId": "c4ed6241-2d44-4602-8f61-a10137448a65"
      },
      "execution_count": 9,
      "outputs": [
        {
          "output_type": "stream",
          "name": "stdout",
          "text": [
            "0.14035019874572754\n",
            "0.14376254081726075\n",
            "0.13999125957489014\n"
          ]
        }
      ]
    },
    {
      "cell_type": "code",
      "source": [
        "plt.bar(y_arr, sortpy_stat_array, color='y')\n",
        "plt.ylabel(\"Tempo de execução em segundos\")\n",
        "plt.xlabel(\"número do sorting\")\n",
        "plt.axhline(media_sortpy, color='r', label='média do tempo de execução')\n",
        "plt.title('.sort()')\n",
        "plt.ylim(0.12,0.15)\n",
        "plt.legend()\n",
        "print(f'Média do tempo de execução: {media_sortpy}')"
      ],
      "metadata": {
        "colab": {
          "base_uri": "https://localhost:8080/",
          "height": 314
        },
        "id": "9JwqOHXuz_Aw",
        "outputId": "acc58566-5a11-4227-f136-25817877546f"
      },
      "execution_count": 28,
      "outputs": [
        {
          "output_type": "stream",
          "name": "stdout",
          "text": [
            "Média do tempo de execução: 0.14035019874572754\n"
          ]
        },
        {
          "output_type": "display_data",
          "data": {
            "text/plain": [
              "<Figure size 432x288 with 1 Axes>"
            ],
            "image/png": "[encoded data removed]"
          },
          "metadata": {
            "needs_background": "light"
          }
        }
      ]
    },
    {
      "cell_type": "code",
      "source": [
        "plt.bar(y_arr, bubble_stat_array, color='r')\n",
        "plt.ylabel(\"Tempo de execução em segundos\")\n",
        "plt.xlabel(\"número do sorting\")\n",
        "plt.axhline(media_bubblesort , color='b', label='média do tempo de execução')\n",
        "plt.title('Bubblesort')\n",
        "plt.ylim(0.12,0.15)\n",
        "plt.legend()\n",
        "print(f'Média do tempo de execução: {media_bubblesort}')"
      ],
      "metadata": {
        "colab": {
          "base_uri": "https://localhost:8080/",
          "height": 314
        },
        "id": "t9zDQN2w5B6u",
        "outputId": "ede771d1-2614-4f16-f93b-bdb833839b9b"
      },
      "execution_count": 29,
      "outputs": [
        {
          "output_type": "stream",
          "name": "stdout",
          "text": [
            "Média do tempo de execução: 0.14376254081726075\n"
          ]
        },
        {
          "output_type": "display_data",
          "data": {
            "text/plain": [
              "<Figure size 432x288 with 1 Axes>"
            ],
            "image/png": "[encoded data removed]"
          },
          "metadata": {
            "needs_background": "light"
          }
        }
      ]
    },
    {
      "cell_type": "code",
      "source": [
        "plt.bar(y_arr, insert_stat_array)\n",
        "plt.ylabel(\"Tempo de execução em segundos\")\n",
        "plt.xlabel(\"número do sorting\")\n",
        "plt.axhline(media_insertsort , color='r', label='média do tempo de execução')\n",
        "plt.title('Insertionsort')\n",
        "plt.ylim(0.12,0.15)\n",
        "plt.legend()\n",
        "print(f'Média do tempo de execução: {media_insertsort}')"
      ],
      "metadata": {
        "colab": {
          "base_uri": "https://localhost:8080/",
          "height": 314
        },
        "id": "4LFb1gUZAoNM",
        "outputId": "07403512-0a0c-45e8-f38a-1fcfe8caca16"
      },
      "execution_count": 30,
      "outputs": [
        {
          "output_type": "stream",
          "name": "stdout",
          "text": [
            "Média do tempo de execução: 0.13999125957489014\n"
          ]
        },
        {
          "output_type": "display_data",
          "data": {
            "text/plain": [
              "<Figure size 432x288 with 1 Axes>"
            ],
            "image/png": "[encoded data removed]"
          },
          "metadata": {
            "needs_background": "light"
          }
        }
      ]
    },
    {
      "cell_type": "code",
      "source": [
        "median_arr = [media_sortpy, media_bubblesort, media_insertsort]\n",
        "names_arr = [\".sort()\", 'Bubblesort', 'Insertionsort']\n",
        "plt.bar(names_arr, median_arr, color='g')\n",
        "plt.title('Comparação entre tempos médios de execução')\n",
        "plt.ylim(0.12,0.15)\n"
      ],
      "metadata": {
        "colab": {
          "base_uri": "https://localhost:8080/",
          "height": 299
        },
        "id": "WC3QXSjlBTfm",
        "outputId": "84847595-d3be-448c-8b5a-2a7730ea188c"
      },
      "execution_count": 27,
      "outputs": [
        {
          "output_type": "execute_result",
          "data": {
            "text/plain": [
              "(0.12, 0.15)"
            ]
          },
          "metadata": {},
          "execution_count": 27
        },
        {
          "output_type": "display_data",
          "data": {
            "text/plain": [
              "<Figure size 432x288 with 1 Axes>"
            ],
            "image/png": "[encoded data removed]"
          },
          "metadata": {
            "needs_background": "light"
          }
        }
      ]
    },
    {
      "cell_type": "code",
      "source": [],
      "metadata": {
        "id": "fhoB-LvjpZ-j"
      },
      "execution_count": null,
      "outputs": []
    }
  ]
}