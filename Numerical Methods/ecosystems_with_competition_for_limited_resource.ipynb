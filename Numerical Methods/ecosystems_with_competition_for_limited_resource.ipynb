{
  "nbformat": 4,
  "nbformat_minor": 0,
  "metadata": {
    "colab": {
      "provenance": [],
      "collapsed_sections": [
        "JKt8k7A_zNoJ",
        "1s3w5UIbzY0H",
        "TvDrl81Gz6-7",
        "FaefOXknO3cY",
        "OXPV9QRpUo-p",
        "LM0VVdFvvprq",
        "K5uAlJtdYCsa",
        "sBPhuz83POmP",
        "QnCs1EWvQIjt",
        "enU5edVGUdb3",
        "_uEll_XgfIA4",
        "xiMoQ4y10MEp",
        "JrTGEWqv0T0D"
      ],
      "include_colab_link": true
    },
    "kernelspec": {
      "name": "python3",
      "display_name": "Python 3"
    },
    "language_info": {
      "name": "python"
    }
  },
  "cells": [
    {
      "cell_type": "markdown",
      "metadata": {
        "id": "view-in-github",
        "colab_type": "text"
      },
      "source": [
        "<a href=\"https://colab.research.google.com/github/otavio-hbf/Statistics-and-Numerical-Methods/blob/main/Numerical%20Methods/ecosystems_with_competition_for_limited_resource.ipynb\" target=\"_parent\"><img src=\"https://colab.research.google.com/assets/colab-badge.svg\" alt=\"Open In Colab\"/></a>"
      ]
    },
    {
      "cell_type": "markdown",
      "source": [
        "#**Ecossistemas com competição por um recurso limitante**\n",
        "\n",
        "Autores:\n",
        "\n",
        "* Luís Felipe Oliveira\n",
        "\n",
        "* Otávio Henrique Francisco\n",
        "\n",
        "* Pedro Nascimento Coêlho\n",
        "\n",
        "* Thiago Ramalho Magalhães\n"
      ],
      "metadata": {
        "id": "C6bJcNgggkRl"
      }
    },
    {
      "cell_type": "markdown",
      "source": [
        "# **I) Resumo**"
      ],
      "metadata": {
        "id": "JKt8k7A_zNoJ"
      }
    },
    {
      "cell_type": "markdown",
      "source": [
        "Este trabalho tem como objetivo explorar a dinâmica populacional presente em espécies que vivenciam uma competição interespecífica por recursos, cuja disponibilidade varia temporalmente devido ao seu consumo e à influência de *inputs* externos (que podem ser entradas sazonais ou constantes). Serão utilizados para este propósito modelos matemáticos (como o desenvolvimento de Equações Diferenciais Ordinárias) para obtenção dos resultados esperados. Foram consideradas variáveis como taxa em em que a espécie se reproduz, taxa de mortalidade, tempo de obtenção dos recursos, além de outras variáveis relevantes para o modelo.\n",
        "\n",
        "Ao longo do trabalho, será mostrado como as variações dos parâmetros influenciam na modelagem dos gráficos e como as espécies vão se comportar em diferentes cenários, evidenciando quais as condições necessárias ou para o equilíbrio entre as espécies ou para a extinção ou para sucesso das espécies envolvidas."
      ],
      "metadata": {
        "id": "8Fa85jt4zTYL"
      }
    },
    {
      "cell_type": "markdown",
      "source": [
        "# **II) Introdução e Objetivos**"
      ],
      "metadata": {
        "id": "1s3w5UIbzY0H"
      }
    },
    {
      "cell_type": "markdown",
      "source": [
        "Relações ecológicas são interaçẽs que ocorrem entre seres vivos. Elas podem ocorrer tanto entre indivíduos de mesma espécie, quanto entre indivíduos de espécies diferentes, podendo ser harmônicas, na qual ambos indivíduos se beneficiam, ou desarmônicas, quando há prejuizo para, pelo menos, um dos envolvidos.\n",
        "\n",
        "Nesse contexto, vale ressaltar uma relação ecológica essencial para a manutenção do meio ambiente: a competição entre espécies. Esta competição é um fenômeno natural comum, onde duas ou mais espécies disputam pelos mesmos recursos, como água, comida e abrigo. Quando esses recursos são limitados, a competição pode se tornar intensa e levar a mudanças na dinâmica populacional das espécies envolvidas, podendo acarretar a extinção de uma das espécies comprometidas.\n",
        "\n",
        "Neste cenário, o modelo matemático de Equações Diferenciais Ordinárias pode ser uma ferramenta poderosa para entender e prever como as populações das espécies interagem e evoluem ao longo do tempo. O modelo pode levar em consideração fatores como taxas de nascimento, mortalidade e tempo de obtenção do recurso pelas espécies envolvidas.\n",
        "\n",
        "Além disso, ao considerar a inserção constante de recursos no ambiente, pode-se analisar como essa entrada contínua de recursos, assim como as diferentes taxas de natalidade, mortalidade e outras variáveis relevantes, são capazes de afetar a competição entre espécies e influenciar a dinâmica populacional ao longo do período estudado. Ademais, será examinada a sensibilidade deste modelo às condições iniciais, e será investigado como esta entrada do recurso pode afetar o resultado final da competição entre as espécies.\n",
        "\n",
        "Esperam-se que, ao final do trabalho, seja obtida uma compreenção mais profunda da dinâmica populacional de espécies competidoras em ambientes naturais com recursos disponibilizados periodicamente."
      ],
      "metadata": {
        "id": "hVOJ_FgnznhF"
      }
    },
    {
      "cell_type": "markdown",
      "source": [
        "# **III) Mapa Mental**"
      ],
      "metadata": {
        "id": "Ilgs-j5MV7h-"
      }
    },
    {
      "cell_type": "markdown",
      "source": [
        "https://coggle.it/diagram/ZAkIBQdbg_zeVIjS/t/formula/25334aa285d89c6feeda847ac61b6503be14746355bffe0c1d6d7e3e120ac60d"
      ],
      "metadata": {
        "id": "wcZERjlmY7GB"
      }
    },
    {
      "cell_type": "markdown",
      "source": [
        "# **IV) Modelo**\n"
      ],
      "metadata": {
        "id": "TvDrl81Gz6-7"
      }
    },
    {
      "cell_type": "markdown",
      "source": [
        "### O modelo abaixo descreve a interação entre duas espécies competindo por um único recurso limitado."
      ],
      "metadata": {
        "id": "ydKoiuKRX9kD"
      }
    },
    {
      "cell_type": "markdown",
      "source": [
        "### $I. \\dfrac{dA_1}{dt} = \\dfrac{a_1b_1RA_1}{1 + a_1h_1R} - μ_1A_1$ ,##\n",
        "### $II.\\dfrac{dA_2}{dt} = \\dfrac{a_2b_2RA_2}{1 + a_2h_2R} - μ_2A_2$ ,##\n",
        "### $III.\\dfrac{dR}{dt} = f(t) - jR - \\dfrac{a_1RA_1}{1 + a_1h_1R} - \\dfrac{a_2RA_2}{1 + a_2h_2R}$\n"
      ],
      "metadata": {
        "id": "FaefOXknO3cY"
      }
    },
    {
      "cell_type": "markdown",
      "source": [
        "| Variável   | Significado                              ||\n",
        "|------------|------------------------------------------|--------|\n",
        "|$A_i $|Densidade populacional da espécie i             |        |\n",
        "|$R   $|Densidade de Recursos                           |        |\n",
        "|$t   $|Tempo                                           |        |\n",
        "|$a_i $|Taxa em que a espécie i se reproduz             |        |\n",
        "|$b_i $|Coeficiente de conversão de nutriente para biomassa da espécie i   |        |\n",
        "|$h_i $|Tempo de obtenção do recurso pela espécie i     |        |\n",
        "|$μ_i $|Taxa de Mortalidade da espécie i                |        |\n",
        "|$f(t)$|Entrada de nutriente                            |        |\n",
        "|$j $  |Taxa de esgotamento dos nutrientes              |        |"
      ],
      "metadata": {
        "id": "PmfpmYIwQKdB"
      }
    },
    {
      "cell_type": "markdown",
      "source": [
        "A fim de facilitar os cálculos e a análise de uma condição que será vista mais à frente, define-se $C_1$, $D_1$, $C_2$ e $D_2$ tais que:\n",
        "\n",
        "$C_i = \\dfrac{a_ib_i}{μ_i}$\n",
        "\n",
        "$D_i = -a_ih_i$\n"
      ],
      "metadata": {
        "id": "Jz5JleXfs74f"
      }
    },
    {
      "cell_type": "markdown",
      "source": [
        "##**Deduções Analíticas**"
      ],
      "metadata": {
        "id": "OXPV9QRpUo-p"
      }
    },
    {
      "cell_type": "markdown",
      "source": [
        "###Análise dos Pontos Estacionários"
      ],
      "metadata": {
        "id": "LM0VVdFvvprq"
      }
    },
    {
      "cell_type": "markdown",
      "source": [
        "\n",
        "Em um sistema de equações diferencias com esse perfil, sua resolução analítica é inviável, ou demasiadamente custosa, e a representação gráfica completa exigiria a construção de curvas em 4 dimensões. Dessa forma, é mais interessante e prático, a princípio, investigar o comportamento do sistema a partir de pontos estacionários, uma vez que próximo a tais pontos é possível linearizar as curvas e prever seu crescimento."
      ],
      "metadata": {
        "id": "n5bAKvCGTqil"
      }
    },
    {
      "cell_type": "markdown",
      "source": [
        "####Determinação dos pontos"
      ],
      "metadata": {
        "id": "jaKr-yL8FsV-"
      }
    },
    {
      "cell_type": "markdown",
      "source": [
        "Avaliando os pontos estacionários das curvas de $A_1$, $A_2$ e $R$, deve-se respeitar as seguintes equações:\n",
        "\n",
        "$I. A_1\\mu_1(\\dfrac{C_1}{1/R - D_1} - 1) = 0$ ,\n",
        "\n",
        "$II. A_2\\mu_2(\\dfrac{C_2}{1/R - D_2} - 1) = 0$ ,\n",
        "\n",
        "$III. f(t) - jR - \\dfrac{a_1A_1}{1/R - D_1} - \\dfrac{a_2A_2}{1/R - D_2} = 0$\n",
        "\n",
        "Resolvendo o sistema, nota-se uma condição que gera duas situações possíveis de pontos estacionários: a relação entre $C_1+D_1$ e $C_2+D_2$.\n",
        "\n",
        "Sendo $S = (S_{A_1},S_{A_2},S_R)$ um ponto estacionário cujas coordenadas representam valores para as curvas $A_1$, $A_2$ e $R$, respectivamente, tem-se que:\n",
        "\n",
        "* Se $(C_1+D_1) \\ne (C_2+D_2) $:\n",
        "\n",
        "  $S_1 = \\left(\\dfrac{C_1}{a_1}(f(t) - \\dfrac{j}{C_1+D_1}),0,\\dfrac{1}{C_1+D_1}\\right)$\n",
        "  \n",
        "  $S_2 = \\left(0,\\dfrac{C_2}{a_2}(f(t) - \\dfrac{j}{C_2+D_2}),\\dfrac{1}{C_2+D_2}\\right)$\n",
        "\n",
        "  $S_3 = \\left(0, 0, \\dfrac{f(t)}{j}\\right)$\n",
        "\n",
        "* Se $(C_1+D_1) = (C_2+D_2) = C + D$:\n",
        "\n",
        "  $S_4 = \\left(A_1, (f(t)-\\dfrac{j}{C+D}-\\dfrac{a_1A_1}{C_1})\\dfrac{C_2}{a_2}, \\dfrac{1}{C+D}\\right)$\n",
        "\n",
        "Esse último caso é chamado de \"meta-estabilidade\", o qual será explicado e discutido posteriormente. Para essa situação, há uma variável livre, expressa nesse caso como a densidade da espécie 1."
      ],
      "metadata": {
        "id": "om4GW2peeShW"
      }
    },
    {
      "cell_type": "markdown",
      "source": [
        "Para avaliar se tais pontos são estáveis ou instáveis, recorre-se ao uso de autovalores, soluções do polinômio característico que exprimem os expoentes das funções exponenciais que resolvem o sistema de equações diferenciais homogêneas próximas aos pontos estacionários:\n",
        "\n",
        "\n",
        "$\\begin{pmatrix}\n",
        "\\dfrac{d(A_1-S_{A_1})}{dt}\\\\\n",
        "\\dfrac{d(A_2-S_{A_2})}{dt}\\\\\n",
        "\\dfrac{d(R-S_R)}{dt}\\\\\n",
        "\\end{pmatrix}\n",
        "= J_S\\cdot \\begin{pmatrix}\n",
        "A_1-S_{A_1}\\\\\n",
        "A_2-S_{A_2}\\\\\n",
        "R-S_R\\\\\n",
        "\\end{pmatrix}$\n",
        "\n",
        "Em que $J_S$ é o jacobiano para um ponto estacionário $S$."
      ],
      "metadata": {
        "id": "PQ8bcHG1spkM"
      }
    },
    {
      "cell_type": "markdown",
      "source": [
        "* Para o ponto estacionário $S_1$, o seu Jacobiano será:\n",
        "\n",
        "$\\begin{pmatrix}\n",
        "0 & 0 & ((C_1+D_1)^2\\cdot f(t)-j(C_1+D_1))\\dfrac{b_1}{C_1}\\\\\n",
        "0 & \\mu_1(\\dfrac{(C_2+D_2)-(C_1+D_1)}{C_1+D_1-D_2}) & 0\\\\\n",
        "-\\dfrac{\\mu_1}{b_1}&\\dfrac{-a_2}{C_1+D_1-D_2} & (-(C_1+D_1)^2\\cdot f(t)-jD_1)\\dfrac{1}{C_1}\\\\\n",
        "\\end{pmatrix} =\n",
        "\\begin{pmatrix}\n",
        "0 & 0 & J_{1,3}\\\\\n",
        "0 & J_{2,2} & 0\\\\\n",
        "J_{3,1} & J_{3,2} & J_{3,3}\\\\\n",
        "\\end{pmatrix}$\n",
        "\n",
        "Logo, seu polinômio característico deve respeitar a equação:\n",
        "\n",
        "$ (J_{2,2}-λ) \\cdot \\begin{vmatrix}\n",
        "-\\lambda & J_{1,3}\\\\\n",
        "J_{3,1} & J_{3,3}-\\lambda\\\\\n",
        "\\end{vmatrix} = 0$\n",
        "\n",
        "Cuja resolução fornece os seguintes autovalores:\n",
        "\n",
        "$\\lambda_1 = J_{2,2}$\n",
        "\n",
        "$\\lambda_2 = \\dfrac{J_{3,3}}{2}+\\sqrt{\\dfrac{J_{3,3}^2}{4}+J_{1,3}\\cdot J_{3,1}}$\n",
        "\n",
        "$\\lambda_3 = \\dfrac{J_{3,3}}{2}-\\sqrt{\\dfrac{J_{3,3}^2}{4}+J_{1,3}\\cdot J_{3,1}}$\n",
        "\n",
        "*(Os cálculos continuarão na Parte 2)*"
      ],
      "metadata": {
        "id": "gFGmWt-A2BWb"
      }
    },
    {
      "cell_type": "markdown",
      "source": [
        "* Para o ponto estacionário $S_2$ o procedimento é análogo ao caso anterior, trocando-se os índices 1 e 2 no Jacobiano calculado.\n",
        "\n",
        "*(Os cálculos continuarão na Parte 2)*"
      ],
      "metadata": {
        "id": "zAehf_QW_FzD"
      }
    },
    {
      "cell_type": "markdown",
      "source": [
        "* Para o ponto estacionário $S_3$ o Jacobiano será:\n",
        "\n",
        "$\\begin{pmatrix}\n",
        "\\mu_1\\cdot (\\dfrac{C_1}{j/f(t)-D_1}-1) & 0 & 0\\\\\n",
        "0 & \\mu_2(\\dfrac{C_2}{j/f(t)-D_2}-1) & 0\\\\\n",
        "\\dfrac{a_1}{j/f(t)-D_1}&\\dfrac{a_2}{j/f(t)-D_2}&-j\\\\\n",
        "\\end{pmatrix} =\n",
        "\\begin{pmatrix}\n",
        "J_{1,1} & 0 & 0\\\\\n",
        "0 & J_{2,2} & 0\\\\\n",
        "J_{3,1} & J_{3,2} & J_{3,3}\\\\\n",
        "\\end{pmatrix}$\n",
        "\n",
        "Logo, seu polinômio característico deve respeitar a equação:\n",
        "\n",
        "$ (J_{1,1}-λ) \\cdot \\begin{vmatrix}\n",
        "J_{2,2}-\\lambda & 0\\\\\n",
        "J_{3,2} & J_{3,3}-\\lambda\\\\\n",
        "\\end{vmatrix} = 0$\n",
        "\n",
        "Cuja resolução fornece os seguintes autovalores:\n",
        "\n",
        "$\\lambda_1 = J_{1,1}$\n",
        "\n",
        "$\\lambda_2 = J_{2,2}$\n",
        "\n",
        "$\\lambda_3 = J_{3,3}$"
      ],
      "metadata": {
        "id": "4s6r-TFjAXd_"
      }
    },
    {
      "cell_type": "markdown",
      "source": [
        "* Para o ponto estacionário $S_4$ o Jacobiano será:\n",
        "\n",
        "*(Os cálculos continuarão na Parte 2)*"
      ],
      "metadata": {
        "id": "zfXaHD7SEaDi"
      }
    },
    {
      "cell_type": "markdown",
      "source": [
        "####Estabilidade dos pontos"
      ],
      "metadata": {
        "id": "NlkxqRDrJ3YZ"
      }
    },
    {
      "cell_type": "markdown",
      "source": [
        "A estabilidade só pode ocorrer apenas se as partes reais de cada autovalor forem todas não positivas. Se forem todas negativas a estabilidade é garantida, mas se forem nulas cada caso precisa ser avaliado separadamente.\n",
        "\n",
        "Durante a determinação do sinal de cada autovalor **será considerado a princípio que a função $f(t)$ de entrada de recursos é constante**. Posteriormente sua variação pode ser avaliada em alguns casos específicos.\n",
        "\n",
        "*(Os cálculos continuarão na Parte 2)*"
      ],
      "metadata": {
        "id": "g5g3Ch2-JLGJ"
      }
    },
    {
      "cell_type": "markdown",
      "source": [
        "#### Crescimento a partir dos pontos estacionários"
      ],
      "metadata": {
        "id": "9RDt0lZ-FfAf"
      }
    },
    {
      "cell_type": "markdown",
      "source": [
        "Para avaliar então o crescimento das curvas a partir dos pontos estacionários encontra-se os autovetores, cujas componentes multiplicam as funções exponenciais relativas a solução das equações diferenciais homogêneas do sistema próximo aos pontos estacionários.\n",
        "\n",
        "O cálculo de cada autovetor $\\vec{v_i}$ para cada autovalor $\\lambda_i$ de um ponto estacionário provém da sequinte relação:\n",
        "\n",
        "$\\lambda_i\\cdot J = \\lambda_i \\cdot \\vec{v_i}$\n",
        "\n",
        "*(Os cálculos continuarão na Parte 2)*"
      ],
      "metadata": {
        "id": "1yovM_LHFqSF"
      }
    },
    {
      "cell_type": "markdown",
      "source": [
        "### Determinação e Variação de parâmetros"
      ],
      "metadata": {
        "id": "A9Ppd8f7KVsO"
      }
    },
    {
      "cell_type": "markdown",
      "source": [
        "Visto que a estabilidade e o crescimento das curvas depende dos valores atribuídos para cada parâmetro, é fundamental determiná-los segundo o modelo que se deseja analisar. Além de usar parâmetros do mundo real, pode-se investigar também o comportamento das curvas segundo a variação de alguns desses parâmetros.\n",
        "\n",
        "*(A discussão continuará na Parte 2)*"
      ],
      "metadata": {
        "id": "g0BbLd84Kfyj"
      }
    },
    {
      "cell_type": "markdown",
      "source": [
        "##**Códigos do Modelo**"
      ],
      "metadata": {
        "id": "K5uAlJtdYCsa"
      }
    },
    {
      "cell_type": "markdown",
      "source": [
        "*Obs.: Os gráficos abaixo ainda não exploram os resultados encontrados em função dos autovalores e autovetores. Quando estes forem determinados, os códigos comprovarão especificamente que as curvas obedecem as a estabilidade e o crescimento previstos através desses fatores analíticos*"
      ],
      "metadata": {
        "id": "CsUUWSE8MBXZ"
      }
    },
    {
      "cell_type": "code",
      "source": [
        "#importando os pacotes necessários para a modelagem da ODE\n",
        "\n",
        "import numpy as np\n",
        "import matplotlib.pyplot as plt\n",
        "from scipy.integrate import odeint\n",
        "import plotly.express as px\n",
        "import pandas as pd"
      ],
      "metadata": {
        "id": "4QrWXRxxPA76"
      },
      "execution_count": null,
      "outputs": []
    },
    {
      "cell_type": "code",
      "source": [
        "#Declarando as variáveis que são usadas no modelo e usando um vetor 'param' (parâmetros) para empacotá-las.\n",
        "#Isso vai auxiliar na modularização do código, com param sendo passado como argumento em algumas funções.\n",
        "\n",
        "A10 = 0; A20= 0; R0= 0; a1= 0;a2= 0; b1= 0; b2= 0; h1= 0; h2= 0; u1= 0; u2= 0; j= 0;\n",
        "param = A10, A20, R0, a1,a2, b1 , b2, h1, h2, u1, u2, j"
      ],
      "metadata": {
        "id": "G2mJq506Uqll"
      },
      "execution_count": null,
      "outputs": []
    },
    {
      "cell_type": "code",
      "source": [
        "#Cada uma dessas funções representa uma possibilidade para f(t).\n",
        "#Essas funções são passadas como argumentos em outras funções mais abaixo no código.\n",
        "\n",
        "def func1(x):\n",
        "  return 10;\n",
        "\n",
        "def func2(x):\n",
        "  return np.sin(x)"
      ],
      "metadata": {
        "id": "NG_mJM24HrkL"
      },
      "execution_count": null,
      "outputs": []
    },
    {
      "cell_type": "code",
      "source": [
        "#Esse trecho corresponde ao nosso modelo, escrito em forma de código para que\n",
        "#possa, justamente, ser usada pela função que resolve numericamente o problema.\n",
        "\n",
        "def deriv(y, t, setMyFunc, param):\n",
        "  \n",
        "  A10, A20, R0, a1,a2, b1 , b2, h1, h2, u1, u2, ft, j = param #Os valores de param são copiados para as variáveis usadas dentro do escopo da função\n",
        "  ft = setMyFunc(t) #F(t) recebe uma das funções anteriormente definidas e passadas como argumento de deriv\n",
        "  A1, A2, R = y\n",
        "  dA1dt = (a1*b1*R*A1) / (1+a1*h1*R) - u1*A1 #equação I\n",
        "  dA2dt = (a2*b2*R*A2) / (1+a2*h2*R) - u2*A2 #equação II\n",
        "  dRdt = ft - j*R - (a1*R*A1) / (1+a1*h1*R) - (a2*b2*R*A2) / (1+a2*h2*R) #equação III\n",
        "\n",
        "  return dA1dt, dA2dt, dRdt"
      ],
      "metadata": {
        "id": "9vYcZj9dTOQE"
      },
      "execution_count": null,
      "outputs": []
    },
    {
      "cell_type": "code",
      "source": [
        "#Essa função serve para configurar alguns parâmetros importantes, bem como para resolver numericamente a equação.\n",
        "\n",
        "def setMyPlot(param, begin, end, interval, setMyFunc):\n",
        "\n",
        "  y0 = param[0], param[1], param[2] #Y0 = A10, A20, R0\n",
        "\n",
        "  #Cria o vetor t para o eixo tempo do gráfico.\n",
        "  #Begin para o início de t, End para o final e Interval determina a quantidade de pontos t, igualmente espaçados dentro do intervalo [begin, end]\n",
        "  t = np.linspace(begin, end, interval)\n",
        "\n",
        "  ret = odeint(deriv, y0, t, args = (setMyFunc, param)) #Solução numérica para o modelo \n",
        "  A1, A2, R = ret.T #Recebendo os valores que aparecerão no gráfico\n",
        "\n",
        "  return A1, A2, R , t"
      ],
      "metadata": {
        "id": "Wuy4uuoLTOqR"
      },
      "execution_count": null,
      "outputs": []
    },
    {
      "cell_type": "code",
      "source": [
        "#Essa função plota o gráfico \n",
        "\n",
        "def plotMyGraph(A1, A2, R, t):\n",
        "\n",
        "  fig = plt.figure(facecolor='w')\n",
        "  ax = fig.add_subplot(111, axisbelow=True)\n",
        "\n",
        "  ax.plot(t, A1, 'b', alpha=0.7, lw=2, label='A1')\n",
        "  ax.plot(t, A2, 'r', alpha=0.7, lw=2, label='A2')\n",
        "  ax.plot(t, R, 'g', alpha=0.7, lw=2, label='R')\n",
        "\n",
        "  ax.set_xlabel('Segundos')\n",
        "  ax.set_ylabel('População')\n",
        "\n",
        "  legend = ax.legend(loc='best')\n",
        "  legend.get_frame().set_alpha(0.5)\n",
        "\n",
        "  plt.show()\n"
      ],
      "metadata": {
        "id": "ghaJwAj0UUZF"
      },
      "execution_count": null,
      "outputs": []
    },
    {
      "cell_type": "code",
      "source": [
        "#Função para printar a lista de parâmetros. Facilita na visualização na plotagem dos gráficos.\n",
        "\n",
        "def printParam(param):\n",
        "  pnames = 'A10', 'A20', 'R0', 'a1','a2', 'b1' , 'b2', 'h1', 'h2', 'u1', 'u2', 'j'\n",
        "  for i in range(len(pnames)):\n",
        "    if i == (len(pnames) - 1): print(f'{pnames[i]} = {param[i]}', end='')\n",
        "    else: print(f'{pnames[i]} = {param[i]}, ', end='')"
      ],
      "metadata": {
        "id": "d5qwv2ErVkz7"
      },
      "execution_count": null,
      "outputs": []
    },
    {
      "cell_type": "markdown",
      "source": [
        "##**Gráficos:**"
      ],
      "metadata": {
        "id": "sBPhuz83POmP"
      }
    },
    {
      "cell_type": "markdown",
      "source": [
        "### *Situação 1: Equilíbrio* \n"
      ],
      "metadata": {
        "id": "QnCs1EWvQIjt"
      }
    },
    {
      "cell_type": "markdown",
      "source": [
        "#### Nessa situação as populações iniciais, as taxas de reprodução e coeficientes de conversão de nutriente para biomassa das espécies são iguais. É possível perceber que A1 tem a vantagem competitiva nessa situação, porque tem menor taxa de mortalidade e menor tempo de obtenção do recurso. Por causa disso, percebe-se que, no início, A1 tem um pico. Entretanto, percebe-se que a similaridade competitiva entre as duas espécies causa uma situação onde nenhuma das duas espécies é extinta."
      ],
      "metadata": {
        "id": "ANuDD1IxiKes"
      }
    },
    {
      "cell_type": "code",
      "source": [
        "param_sit1 = [5, 5, 10, 1, 1, 1, 1, 0.5, 2, 1, 0.4, 10, 1]\n",
        "A1, A2, R, t = setMyPlot(param_sit1, 0, 20, 100, func1)\n",
        "printParam(param_sit1)\n",
        "plotMyGraph(A1, A2, R, t)"
      ],
      "metadata": {
        "colab": {
          "base_uri": "https://localhost:8080/",
          "height": 297
        },
        "id": "k79yo-amDnU8",
        "outputId": "5e329f96-ab9b-4781-8cb4-1b64f3564b62"
      },
      "execution_count": null,
      "outputs": [
        {
          "output_type": "stream",
          "name": "stdout",
          "text": [
            "A10 = 5, A20 = 5, R0 = 10, a1 = 1, a2 = 1, b1 = 1, b2 = 1, h1 = 0.5, h2 = 2, u1 = 1, u2 = 0.4, j = 10"
          ]
        },
        {
          "output_type": "display_data",
          "data": {
            "text/plain": [
              "<Figure size 432x288 with 1 Axes>"
            ],
            "image/png": "[encoded data removed]"
          },
          "metadata": {}
        }
      ]
    },
    {
      "cell_type": "markdown",
      "source": [
        "### *Situação 2: Vantagem de competitiva*"
      ],
      "metadata": {
        "id": "enU5edVGUdb3"
      }
    },
    {
      "cell_type": "markdown",
      "source": [
        "####a) Nesse caso, o tempo de obtenção do recurso para A2 é muito maior do que A1 e a mortalidade de A1 também é consideravelmente maior que de A2. É possível perceber que essas desvantagens competitivas eventualmente levam à extinção de A1 e ao sucesso e procriação de A2."
      ],
      "metadata": {
        "id": "hlFO2deaevKo"
      }
    },
    {
      "cell_type": "code",
      "source": [
        "param_sit2a = [5, 5, 10, 1, 1, 1, 1, 0.6, 2, 1, 0.4, 10, 1]\n",
        "A1, A2, R, t = setMyPlot(param_sit2a, 0, 50, 200, func1)\n",
        "printParam(param_sit2a)\n",
        "plotMyGraph(A1, A2, R, t )"
      ],
      "metadata": {
        "id": "RFIyBzVISVo0",
        "colab": {
          "base_uri": "https://localhost:8080/"
        },
        "outputId": "6c7baea6-3eb8-422e-d68a-61a6c8997b53"
      },
      "execution_count": null,
      "outputs": [
        {
          "output_type": "stream",
          "name": "stdout",
          "text": [
            "A10 = 5, A20 = 5, R0 = 10, a1 = 1, a2 = 1, b1 = 1, b2 = 1, h1 = 0.6, h2 = 2, u1 = 1, u2 = 0.4, j = 10"
          ]
        },
        {
          "output_type": "display_data",
          "data": {
            "text/plain": [
              "<Figure size 432x288 with 1 Axes>"
            ],
            "image/png": "[encoded data removed]"
          },
          "metadata": {}
        }
      ]
    },
    {
      "cell_type": "markdown",
      "source": [
        "#### b) Modificando apenas a taxa de mortalidade de A1, de modo a ficar igual a de A2 (u1 = u2), percebe-se que a situação é totalmente distinta. Agora o A1 tem uma gigantesca vantagem competitiva. Isso se dá porque o tempo de obtenção do recurso é muito menor para A1 do que para A2."
      ],
      "metadata": {
        "id": "1L1NNbYac9NI"
      }
    },
    {
      "cell_type": "code",
      "source": [
        "param_sit2b = [5, 5, 10, 1, 1, 1, 1, 0.6, 2, 0.4, 0.4, 10, 1]\n",
        "A1, A2, R, t = setMyPlot(param_sit2b, 0, 50, 200, func1)\n",
        "printParam(param_sit2b)\n",
        "plotMyGraph(A1, A2, R, t )"
      ],
      "metadata": {
        "id": "IB6OZRF6dA6K",
        "colab": {
          "base_uri": "https://localhost:8080/"
        },
        "outputId": "6b240ce6-5334-4b43-f4e2-c44a105810b5"
      },
      "execution_count": null,
      "outputs": [
        {
          "output_type": "stream",
          "name": "stdout",
          "text": [
            "A10 = 5, A20 = 5, R0 = 10, a1 = 1, a2 = 1, b1 = 1, b2 = 1, h1 = 0.6, h2 = 2, u1 = 0.4, u2 = 0.4, j = 10"
          ]
        },
        {
          "output_type": "display_data",
          "data": {
            "text/plain": [
              "<Figure size 432x288 with 1 Axes>"
            ],
            "image/png": "[encoded data removed]"
          },
          "metadata": {}
        }
      ]
    },
    {
      "cell_type": "markdown",
      "source": [
        "### *Situação 3: F(t) não é constante*"
      ],
      "metadata": {
        "id": "_uEll_XgfIA4"
      }
    },
    {
      "cell_type": "markdown",
      "source": [
        "F(t) representa a função de entrada de recurso no sistema. Para os gráficos anteriores, F(t) era uma constante. "
      ],
      "metadata": {
        "id": "oh3kNpFFOF23"
      }
    },
    {
      "cell_type": "markdown",
      "source": [
        "#### a) Equílibrio com F(t) = Sin(t)"
      ],
      "metadata": {
        "id": "b9Mqv5ysgmpZ"
      }
    },
    {
      "cell_type": "markdown",
      "source": [
        "Nesse exemplo, os valores dos parâmetros são os mesmos da situação 1.a), com exceção de F(t) que agora tem valor de Sin(t)."
      ],
      "metadata": {
        "id": "6sRMc4CoNvjP"
      }
    },
    {
      "cell_type": "code",
      "source": [
        "param_sit3a = [5, 5, 10, 1, 1, 1, 1, 0.5, 2, 1, 0.4, 10, 1]\n",
        "A1, A2, R, t = setMyPlot(param_sit3a, 0, 15, 50, func2)\n",
        "printParam(param_sit3a)\n",
        "plotMyGraph(A1, A2, R, t)"
      ],
      "metadata": {
        "id": "3IwqbSQUftp4",
        "colab": {
          "base_uri": "https://localhost:8080/",
          "height": 297
        },
        "outputId": "18cafa2f-596e-49ff-a6dc-865cd029eb96"
      },
      "execution_count": null,
      "outputs": [
        {
          "output_type": "stream",
          "name": "stdout",
          "text": [
            "A10 = 5, A20 = 5, R0 = 10, a1 = 1, a2 = 1, b1 = 1, b2 = 1, h1 = 0.5, h2 = 2, u1 = 1, u2 = 0.4, j = 10"
          ]
        },
        {
          "output_type": "display_data",
          "data": {
            "text/plain": [
              "<Figure size 432x288 with 1 Axes>"
            ],
            "image/png": "[encoded data removed]"
          },
          "metadata": {}
        }
      ]
    },
    {
      "cell_type": "markdown",
      "source": [
        "#### b) Vantagem competitiva com F(t) = Sin(x)"
      ],
      "metadata": {
        "id": "KUm3LpcDgzwA"
      }
    },
    {
      "cell_type": "markdown",
      "source": [
        "Já nesse exemplo, os parâmetros correspondem aos da seção 2.a). O interessante nesse caso é que ambas as espécies são levadas a extinção, inclusive, em tempo menor em comparação ao caso supracitado."
      ],
      "metadata": {
        "id": "e6obcyptO1jg"
      }
    },
    {
      "cell_type": "code",
      "source": [
        "param_sit3b = [5, 5, 10, 1, 1, 1, 1, 0.6, 2, 0.4, 0.4, 10, 1]\n",
        "A1, A2, R, t = setMyPlot(param_sit3b, 0, 15, 50, func2)\n",
        "printParam(param_sit3b)\n",
        "plotMyGraph(A1, A2, R, t )"
      ],
      "metadata": {
        "id": "d3Y_lECig_o2",
        "colab": {
          "base_uri": "https://localhost:8080/",
          "height": 297
        },
        "outputId": "338f99c8-6631-4dbb-be96-be46511987ed"
      },
      "execution_count": null,
      "outputs": [
        {
          "output_type": "stream",
          "name": "stdout",
          "text": [
            "A10 = 5, A20 = 5, R0 = 10, a1 = 1, a2 = 1, b1 = 1, b2 = 1, h1 = 0.6, h2 = 2, u1 = 0.4, u2 = 0.4, j = 10"
          ]
        },
        {
          "output_type": "display_data",
          "data": {
            "text/plain": [
              "<Figure size 432x288 with 1 Axes>"
            ],
            "image/png": "[encoded data removed]"
          },
          "metadata": {}
        }
      ]
    },
    {
      "cell_type": "markdown",
      "source": [
        "A informação pode ser visualizada também no plano tridimensional:"
      ],
      "metadata": {
        "id": "pogaDPk5YHpC"
      }
    },
    {
      "cell_type": "code",
      "source": [
        "A1, A2, R, t = setMyPlot([5, 6, 10, 1, 1, 1, 1, 0.6, 2, 1, 0.4, 10, 1], 0, 15, 100, func1) #Configura os valores dos parâmetros \n",
        "\n",
        "#Criação de um Dataframe para ser usado na função que plota o gráfico\n",
        "d = {'x': A1, 'y': A2, 'z': R, 't': t} \n",
        "df = pd.DataFrame(data=d)\n",
        "\n",
        "\n",
        "fig = px.line_3d(df, x=A1, y=A2, z=R, labels={'x':'A1', 'y':'A2','z':'Recurso' }, custom_data=['t']) #Plota o gráfico tridimensional\n",
        "\n",
        "#Customiza as informações mostradas ao passar o mouse em cima da linha do gráfico\n",
        "fig.update_traces(\n",
        "    hovertemplate=\"<br>\".join([\n",
        "        \"X: %{x}\",\n",
        "        \"Y: %{y}\",\n",
        "        \"Z: %{z}\",\n",
        "        \"t: %{customdata[0]}\",\n",
        "    ])\n",
        ")\n",
        "\n",
        "fig.show()"
      ],
      "metadata": {
        "colab": {
          "base_uri": "https://localhost:8080/"
        },
        "id": "RdOPCLtnX7DD",
        "outputId": "720f2f29-c02a-4065-c8c1-a641891ca6a6"
      },
      "execution_count": null,
      "outputs": [
        {
          "output_type": "display_data",
          "data": {
            "text/html": [
              "<html>\n",
              "<head><meta charset=\"utf-8\" /></head>\n",
              "<body>\n",
              "    <div>            <script src=\"https://cdnjs.cloudflare.com/ajax/libs/mathjax/2.7.5/MathJax.js?config=TeX-AMS-MML_SVG\"></script><script type=\"text/javascript\">if (window.MathJax) {MathJax.Hub.Config({SVG: {font: \"STIX-Web\"}});}</script>                <script type=\"text/javascript\">window.PlotlyConfig = {MathJaxConfig: 'local'};</script>\n",
              "        <script src=\"https://cdn.plot.ly/plotly-2.8.3.min.js\"></script>                <div id=\"234419f8-4b38-4505-91ec-60540393ce4a\" class=\"plotly-graph-div\" style=\"height:525px; width:100%;\"></div>            <script type=\"text/javascript\">                                    window.PLOTLYENV=window.PLOTLYENV || {};                                    if (document.getElementById(\"234419f8-4b38-4505-91ec-60540393ce4a\")) {                    Plotly.newPlot(                        \"234419f8-4b38-4505-91ec-60540393ce4a\",                        [{\"customdata\":[[0.0],[0.15151515151515152],[0.30303030303030304],[0.4545454545454546],[0.6060606060606061],[0.7575757575757576],[0.9090909090909092],[1.0606060606060606],[1.2121212121212122],[1.3636363636363638],[1.5151515151515151],[1.6666666666666667],[1.8181818181818183],[1.9696969696969697],[2.121212121212121],[2.272727272727273],[2.4242424242424243],[2.5757575757575757],[2.7272727272727275],[2.878787878787879],[3.0303030303030303],[3.181818181818182],[3.3333333333333335],[3.484848484848485],[3.6363636363636367],[3.787878787878788],[3.9393939393939394],[4.090909090909091],[4.242424242424242],[4.3939393939393945],[4.545454545454546],[4.696969696969697],[4.848484848484849],[5.0],[5.151515151515151],[5.303030303030303],[5.454545454545455],[5.606060606060606],[5.757575757575758],[5.909090909090909],[6.0606060606060606],[6.212121212121212],[6.363636363636364],[6.515151515151516],[6.666666666666667],[6.818181818181818],[6.96969696969697],[7.121212121212121],[7.272727272727273],[7.424242424242425],[7.575757575757576],[7.7272727272727275],[7.878787878787879],[8.030303030303031],[8.181818181818182],[8.333333333333334],[8.484848484848484],[8.636363636363637],[8.787878787878789],[8.93939393939394],[9.090909090909092],[9.242424242424242],[9.393939393939394],[9.545454545454545],[9.696969696969697],[9.84848484848485],[10.0],[10.151515151515152],[10.303030303030303],[10.454545454545455],[10.606060606060606],[10.757575757575758],[10.90909090909091],[11.06060606060606],[11.212121212121213],[11.363636363636363],[11.515151515151516],[11.666666666666668],[11.818181818181818],[11.96969696969697],[12.121212121212121],[12.272727272727273],[12.424242424242424],[12.575757575757576],[12.727272727272728],[12.878787878787879],[13.030303030303031],[13.181818181818182],[13.333333333333334],[13.484848484848484],[13.636363636363637],[13.787878787878789],[13.93939393939394],[14.090909090909092],[14.242424242424242],[14.393939393939394],[14.545454545454547],[14.696969696969697],[14.84848484848485],[15.0]],\"hovertemplate\":\"X: %{x}<br>Y: %{y}<br>Z: %{z}<br>t: %{customdata[0]}\",\"legendgroup\":\"\",\"line\":{\"color\":\"#636efa\",\"dash\":\"solid\"},\"marker\":{\"symbol\":\"circle\"},\"mode\":\"lines\",\"name\":\"\",\"scene\":\"scene\",\"showlegend\":false,\"x\":[5.0,5.322359160524193,5.634985486421078,5.929093554891785,6.194639981675209,6.421060634505997,6.598642821361476,6.72046240148128,6.784347483224738,6.79388962519334,6.757717527358324,6.687246265212325,6.594063832512234,6.488082583330406,6.37680449786386,6.2654036568836355,6.157179641976091,6.054071453346402,5.957093264825185,5.866658760611193,5.782806302279771,5.705348916185005,5.633971793343158,5.568294283491895,5.507908834283936,5.452404869224461,5.401383027674181,5.35446324803137,5.3112889586315175,5.27152883380988,5.23487703960331,5.201052577489256,5.169798110195785,5.1408785207786645,5.114079342525839,5.089205178383498,5.066078159402585,5.044536468013216,5.02443295490085,5.005633852544397,4.988017588597483,4.971473692424079,4.955901795971864,4.941210721722463,4.927317654836298,4.914147380293819,4.901631589759164,4.889708271626862,4.878321123351249,4.867419030652235,4.85695559566546,4.846888715521361,4.83718018117307,4.827795325695081,4.818702696846745,4.809873755847976,4.801282677291757,4.792905986576303,4.78472235956294,4.776712536916105,4.7688590364555825,4.761146005442098,4.753559082164979,4.746085279783556,4.738712776051592,4.731430894145,4.724229958469482,4.717101201659171,4.710036681172081,4.703029198959453,4.696072233452385,4.689159912131333,4.6822868975000995,4.6754483054414875,4.668639762074613,4.661857303362685,4.655097335941546,4.648356607359815,4.641632167979899,4.634921350782885,4.628221733371252,4.621531131408355,4.614847559661464,4.608169228815377,4.601494502579243,4.594821902568935,4.5881501055746945,4.581477896174965,4.574804182120607,4.568127974699131,4.561448368214105,4.554764552697921,4.548075789046567,4.5413814028301696,4.53468079383284,4.527973411852019,4.521258757966614,4.514536383689011,4.507805876936366,4.501066868789808],\"y\":[6.0,6.067991964421167,6.1329510963004985,6.1940298718918925,6.250226845134046,6.300418490083513,6.343458440690159,6.378370018746174,6.404616146801849,6.422348656095196,6.432483905903883,6.436521956731638,6.436196486115605,6.4331397112656905,6.428685928987605,6.4238199042433415,6.419213667056866,6.415295472044905,6.412318310927877,6.410415429578241,6.409641133340752,6.4099992007343065,6.411462092410942,6.413983666575827,6.417507521524183,6.421972393587129,6.427315612486436,6.433475272847049,6.440391562210265,6.4480075359558,6.4562695285047385,6.465127328964269,6.474534205020306,6.48444683210952,6.494825161421229,6.50563225610091,6.5168341101799685,6.528399459217631,6.54029959205746,6.55250816699946,6.565001035305375,6.577756073950488,6.590753027304817,6.6039733591643515,6.617400116087743,6.631017798377997,6.644812240742351,6.658770505618146,6.672880778794431,6.687132275517932,6.701515154236914,6.7160204386989335,6.730639942943611,6.745366204758919,6.760192423134662,6.775112400105284,6.790120501938179,6.805211588005554,6.8203809714573564,6.835624400962343,6.850938003845333,6.866318256119029,6.881761954428008,6.897266192124011,6.912828315654341,6.928445920678083,6.944116822233696,6.959839035035683,6.9756107558961284,6.9914303467231695,7.007296320017897,7.023207333035713,7.039162163074183,7.055159690275106,7.071198909370381,7.087278908237638,7.1033988591523265,7.1195580121966096,7.135755686961577,7.151991267899996,7.168264196052921,7.184573967410264,7.200920124315752,7.217302254488366,7.233719981685087,7.250172966588109,7.266660906067156,7.283183522713042,7.299740567968611,7.316331817717607,7.33295706769716,7.349616136148483,7.366308858221769,7.383035084538723,7.399794683342539,7.416587534921829,7.433413531799481,7.450272578419894,7.467164588006414,7.484089484032695],\"z\":[10.0,8.572203822040574,7.30864279723294,6.1973627683604775,5.230778053263541,4.404475064386563,3.715378606469499,3.159323250282287,2.7285827900340616,2.410428949081829,2.1876412536065075,2.040812904870839,1.9511825502521878,1.9026745342125548,1.8826841617841037,1.8819114042357905,1.8937542179661604,1.9136303807127386,1.9383972796828322,1.9659120423415708,1.994718028206736,2.023828462613483,2.052579066393699,2.0805283355968953,2.107389623068487,2.1329847004193008,2.1572116783238617,2.1800226225604247,2.2014077553384426,2.221384175543102,2.2399877324317665,2.2572671105580535,2.2732794914261127,2.2880873445919327,2.301756067200165,2.3143522219224577,2.3259422303452677,2.3365914225441746,2.34636334240951,2.3553192561234733,2.363517817510511,2.371014836894211,2.3778631654338858,2.3841126441332765,2.3898100915575142,2.3949993487517367,2.399721353445502,2.4040142291017066,2.4079133984455443,2.4114517079547486,2.4146595594299094,2.4175650396848756,2.4201940580615315,2.4225704803673342,2.4247162619394618,2.4266515806761713,2.428394926523281,2.4299632699805227,2.4313721686735983,2.4326358400294716,2.4337672936163472,2.434778417125764,2.435680049067841,2.4364820597431405,2.437193494816099,2.4378225722671765,2.438376774396166,2.43886291593112,2.4392871989244953,2.4396552669879594,2.4399722533115447,2.4402427991363003,2.4404711351176895,2.440661136793931,2.4408162915607656,2.4409397682290566,2.441034445999299,2.441102937671224,2.4411476156427057,2.4411706263470574,2.4411739214560386,2.4411592672516162,2.4411282701376056,2.441082379710301,2.4410229229761935,2.4409510996291646,2.4408679835404543,2.4407745603437196,2.4406717177610493,2.4405602604804417,2.4404409252827852,2.4403143714498827,2.4401812006601498,2.4400419617273976,2.439897142243506,2.4397471884314372,2.4395925048878415,2.4394334563407014,2.4392703774731634,2.439103567526351],\"type\":\"scatter3d\"}],                        {\"template\":{\"data\":{\"bar\":[{\"error_x\":{\"color\":\"#2a3f5f\"},\"error_y\":{\"color\":\"#2a3f5f\"},\"marker\":{\"line\":{\"color\":\"#E5ECF6\",\"width\":0.5},\"pattern\":{\"fillmode\":\"overlay\",\"size\":10,\"solidity\":0.2}},\"type\":\"bar\"}],\"barpolar\":[{\"marker\":{\"line\":{\"color\":\"#E5ECF6\",\"width\":0.5},\"pattern\":{\"fillmode\":\"overlay\",\"size\":10,\"solidity\":0.2}},\"type\":\"barpolar\"}],\"carpet\":[{\"aaxis\":{\"endlinecolor\":\"#2a3f5f\",\"gridcolor\":\"white\",\"linecolor\":\"white\",\"minorgridcolor\":\"white\",\"startlinecolor\":\"#2a3f5f\"},\"baxis\":{\"endlinecolor\":\"#2a3f5f\",\"gridcolor\":\"white\",\"linecolor\":\"white\",\"minorgridcolor\":\"white\",\"startlinecolor\":\"#2a3f5f\"},\"type\":\"carpet\"}],\"choropleth\":[{\"colorbar\":{\"outlinewidth\":0,\"ticks\":\"\"},\"type\":\"choropleth\"}],\"contour\":[{\"colorbar\":{\"outlinewidth\":0,\"ticks\":\"\"},\"colorscale\":[[0.0,\"#0d0887\"],[0.1111111111111111,\"#46039f\"],[0.2222222222222222,\"#7201a8\"],[0.3333333333333333,\"#9c179e\"],[0.4444444444444444,\"#bd3786\"],[0.5555555555555556,\"#d8576b\"],[0.6666666666666666,\"#ed7953\"],[0.7777777777777778,\"#fb9f3a\"],[0.8888888888888888,\"#fdca26\"],[1.0,\"#f0f921\"]],\"type\":\"contour\"}],\"contourcarpet\":[{\"colorbar\":{\"outlinewidth\":0,\"ticks\":\"\"},\"type\":\"contourcarpet\"}],\"heatmap\":[{\"colorbar\":{\"outlinewidth\":0,\"ticks\":\"\"},\"colorscale\":[[0.0,\"#0d0887\"],[0.1111111111111111,\"#46039f\"],[0.2222222222222222,\"#7201a8\"],[0.3333333333333333,\"#9c179e\"],[0.4444444444444444,\"#bd3786\"],[0.5555555555555556,\"#d8576b\"],[0.6666666666666666,\"#ed7953\"],[0.7777777777777778,\"#fb9f3a\"],[0.8888888888888888,\"#fdca26\"],[1.0,\"#f0f921\"]],\"type\":\"heatmap\"}],\"heatmapgl\":[{\"colorbar\":{\"outlinewidth\":0,\"ticks\":\"\"},\"colorscale\":[[0.0,\"#0d0887\"],[0.1111111111111111,\"#46039f\"],[0.2222222222222222,\"#7201a8\"],[0.3333333333333333,\"#9c179e\"],[0.4444444444444444,\"#bd3786\"],[0.5555555555555556,\"#d8576b\"],[0.6666666666666666,\"#ed7953\"],[0.7777777777777778,\"#fb9f3a\"],[0.8888888888888888,\"#fdca26\"],[1.0,\"#f0f921\"]],\"type\":\"heatmapgl\"}],\"histogram\":[{\"marker\":{\"pattern\":{\"fillmode\":\"overlay\",\"size\":10,\"solidity\":0.2}},\"type\":\"histogram\"}],\"histogram2d\":[{\"colorbar\":{\"outlinewidth\":0,\"ticks\":\"\"},\"colorscale\":[[0.0,\"#0d0887\"],[0.1111111111111111,\"#46039f\"],[0.2222222222222222,\"#7201a8\"],[0.3333333333333333,\"#9c179e\"],[0.4444444444444444,\"#bd3786\"],[0.5555555555555556,\"#d8576b\"],[0.6666666666666666,\"#ed7953\"],[0.7777777777777778,\"#fb9f3a\"],[0.8888888888888888,\"#fdca26\"],[1.0,\"#f0f921\"]],\"type\":\"histogram2d\"}],\"histogram2dcontour\":[{\"colorbar\":{\"outlinewidth\":0,\"ticks\":\"\"},\"colorscale\":[[0.0,\"#0d0887\"],[0.1111111111111111,\"#46039f\"],[0.2222222222222222,\"#7201a8\"],[0.3333333333333333,\"#9c179e\"],[0.4444444444444444,\"#bd3786\"],[0.5555555555555556,\"#d8576b\"],[0.6666666666666666,\"#ed7953\"],[0.7777777777777778,\"#fb9f3a\"],[0.8888888888888888,\"#fdca26\"],[1.0,\"#f0f921\"]],\"type\":\"histogram2dcontour\"}],\"mesh3d\":[{\"colorbar\":{\"outlinewidth\":0,\"ticks\":\"\"},\"type\":\"mesh3d\"}],\"parcoords\":[{\"line\":{\"colorbar\":{\"outlinewidth\":0,\"ticks\":\"\"}},\"type\":\"parcoords\"}],\"pie\":[{\"automargin\":true,\"type\":\"pie\"}],\"scatter\":[{\"marker\":{\"colorbar\":{\"outlinewidth\":0,\"ticks\":\"\"}},\"type\":\"scatter\"}],\"scatter3d\":[{\"line\":{\"colorbar\":{\"outlinewidth\":0,\"ticks\":\"\"}},\"marker\":{\"colorbar\":{\"outlinewidth\":0,\"ticks\":\"\"}},\"type\":\"scatter3d\"}],\"scattercarpet\":[{\"marker\":{\"colorbar\":{\"outlinewidth\":0,\"ticks\":\"\"}},\"type\":\"scattercarpet\"}],\"scattergeo\":[{\"marker\":{\"colorbar\":{\"outlinewidth\":0,\"ticks\":\"\"}},\"type\":\"scattergeo\"}],\"scattergl\":[{\"marker\":{\"colorbar\":{\"outlinewidth\":0,\"ticks\":\"\"}},\"type\":\"scattergl\"}],\"scattermapbox\":[{\"marker\":{\"colorbar\":{\"outlinewidth\":0,\"ticks\":\"\"}},\"type\":\"scattermapbox\"}],\"scatterpolar\":[{\"marker\":{\"colorbar\":{\"outlinewidth\":0,\"ticks\":\"\"}},\"type\":\"scatterpolar\"}],\"scatterpolargl\":[{\"marker\":{\"colorbar\":{\"outlinewidth\":0,\"ticks\":\"\"}},\"type\":\"scatterpolargl\"}],\"scatterternary\":[{\"marker\":{\"colorbar\":{\"outlinewidth\":0,\"ticks\":\"\"}},\"type\":\"scatterternary\"}],\"surface\":[{\"colorbar\":{\"outlinewidth\":0,\"ticks\":\"\"},\"colorscale\":[[0.0,\"#0d0887\"],[0.1111111111111111,\"#46039f\"],[0.2222222222222222,\"#7201a8\"],[0.3333333333333333,\"#9c179e\"],[0.4444444444444444,\"#bd3786\"],[0.5555555555555556,\"#d8576b\"],[0.6666666666666666,\"#ed7953\"],[0.7777777777777778,\"#fb9f3a\"],[0.8888888888888888,\"#fdca26\"],[1.0,\"#f0f921\"]],\"type\":\"surface\"}],\"table\":[{\"cells\":{\"fill\":{\"color\":\"#EBF0F8\"},\"line\":{\"color\":\"white\"}},\"header\":{\"fill\":{\"color\":\"#C8D4E3\"},\"line\":{\"color\":\"white\"}},\"type\":\"table\"}]},\"layout\":{\"annotationdefaults\":{\"arrowcolor\":\"#2a3f5f\",\"arrowhead\":0,\"arrowwidth\":1},\"autotypenumbers\":\"strict\",\"coloraxis\":{\"colorbar\":{\"outlinewidth\":0,\"ticks\":\"\"}},\"colorscale\":{\"diverging\":[[0,\"#8e0152\"],[0.1,\"#c51b7d\"],[0.2,\"#de77ae\"],[0.3,\"#f1b6da\"],[0.4,\"#fde0ef\"],[0.5,\"#f7f7f7\"],[0.6,\"#e6f5d0\"],[0.7,\"#b8e186\"],[0.8,\"#7fbc41\"],[0.9,\"#4d9221\"],[1,\"#276419\"]],\"sequential\":[[0.0,\"#0d0887\"],[0.1111111111111111,\"#46039f\"],[0.2222222222222222,\"#7201a8\"],[0.3333333333333333,\"#9c179e\"],[0.4444444444444444,\"#bd3786\"],[0.5555555555555556,\"#d8576b\"],[0.6666666666666666,\"#ed7953\"],[0.7777777777777778,\"#fb9f3a\"],[0.8888888888888888,\"#fdca26\"],[1.0,\"#f0f921\"]],\"sequentialminus\":[[0.0,\"#0d0887\"],[0.1111111111111111,\"#46039f\"],[0.2222222222222222,\"#7201a8\"],[0.3333333333333333,\"#9c179e\"],[0.4444444444444444,\"#bd3786\"],[0.5555555555555556,\"#d8576b\"],[0.6666666666666666,\"#ed7953\"],[0.7777777777777778,\"#fb9f3a\"],[0.8888888888888888,\"#fdca26\"],[1.0,\"#f0f921\"]]},\"colorway\":[\"#636efa\",\"#EF553B\",\"#00cc96\",\"#ab63fa\",\"#FFA15A\",\"#19d3f3\",\"#FF6692\",\"#B6E880\",\"#FF97FF\",\"#FECB52\"],\"font\":{\"color\":\"#2a3f5f\"},\"geo\":{\"bgcolor\":\"white\",\"lakecolor\":\"white\",\"landcolor\":\"#E5ECF6\",\"showlakes\":true,\"showland\":true,\"subunitcolor\":\"white\"},\"hoverlabel\":{\"align\":\"left\"},\"hovermode\":\"closest\",\"mapbox\":{\"style\":\"light\"},\"paper_bgcolor\":\"white\",\"plot_bgcolor\":\"#E5ECF6\",\"polar\":{\"angularaxis\":{\"gridcolor\":\"white\",\"linecolor\":\"white\",\"ticks\":\"\"},\"bgcolor\":\"#E5ECF6\",\"radialaxis\":{\"gridcolor\":\"white\",\"linecolor\":\"white\",\"ticks\":\"\"}},\"scene\":{\"xaxis\":{\"backgroundcolor\":\"#E5ECF6\",\"gridcolor\":\"white\",\"gridwidth\":2,\"linecolor\":\"white\",\"showbackground\":true,\"ticks\":\"\",\"zerolinecolor\":\"white\"},\"yaxis\":{\"backgroundcolor\":\"#E5ECF6\",\"gridcolor\":\"white\",\"gridwidth\":2,\"linecolor\":\"white\",\"showbackground\":true,\"ticks\":\"\",\"zerolinecolor\":\"white\"},\"zaxis\":{\"backgroundcolor\":\"#E5ECF6\",\"gridcolor\":\"white\",\"gridwidth\":2,\"linecolor\":\"white\",\"showbackground\":true,\"ticks\":\"\",\"zerolinecolor\":\"white\"}},\"shapedefaults\":{\"line\":{\"color\":\"#2a3f5f\"}},\"ternary\":{\"aaxis\":{\"gridcolor\":\"white\",\"linecolor\":\"white\",\"ticks\":\"\"},\"baxis\":{\"gridcolor\":\"white\",\"linecolor\":\"white\",\"ticks\":\"\"},\"bgcolor\":\"#E5ECF6\",\"caxis\":{\"gridcolor\":\"white\",\"linecolor\":\"white\",\"ticks\":\"\"}},\"title\":{\"x\":0.05},\"xaxis\":{\"automargin\":true,\"gridcolor\":\"white\",\"linecolor\":\"white\",\"ticks\":\"\",\"title\":{\"standoff\":15},\"zerolinecolor\":\"white\",\"zerolinewidth\":2},\"yaxis\":{\"automargin\":true,\"gridcolor\":\"white\",\"linecolor\":\"white\",\"ticks\":\"\",\"title\":{\"standoff\":15},\"zerolinecolor\":\"white\",\"zerolinewidth\":2}}},\"scene\":{\"domain\":{\"x\":[0.0,1.0],\"y\":[0.0,1.0]},\"xaxis\":{\"title\":{\"text\":\"A1\"}},\"yaxis\":{\"title\":{\"text\":\"A2\"}},\"zaxis\":{\"title\":{\"text\":\"Recurso\"}}},\"legend\":{\"tracegroupgap\":0},\"margin\":{\"t\":60}},                        {\"responsive\": true}                    ).then(function(){\n",
              "                            \n",
              "var gd = document.getElementById('234419f8-4b38-4505-91ec-60540393ce4a');\n",
              "var x = new MutationObserver(function (mutations, observer) {{\n",
              "        var display = window.getComputedStyle(gd).display;\n",
              "        if (!display || display === 'none') {{\n",
              "            console.log([gd, 'removed!']);\n",
              "            Plotly.purge(gd);\n",
              "            observer.disconnect();\n",
              "        }}\n",
              "}});\n",
              "\n",
              "// Listen for the removal of the full notebook cells\n",
              "var notebookContainer = gd.closest('#notebook-container');\n",
              "if (notebookContainer) {{\n",
              "    x.observe(notebookContainer, {childList: true});\n",
              "}}\n",
              "\n",
              "// Listen for the clearing of the current output cell\n",
              "var outputEl = gd.closest('.output');\n",
              "if (outputEl) {{\n",
              "    x.observe(outputEl, {childList: true});\n",
              "}}\n",
              "\n",
              "                        })                };                            </script>        </div>\n",
              "</body>\n",
              "</html>"
            ]
          },
          "metadata": {}
        }
      ]
    },
    {
      "cell_type": "markdown",
      "source": [
        "# **V) Resultados e discussão**\n"
      ],
      "metadata": {
        "id": "xiMoQ4y10MEp"
      }
    },
    {
      "cell_type": "markdown",
      "source": [
        "Nota-se que as soluções numéricas exprimem de fato os comportamentos esperados segundo as deduções analíticas.\n",
        "\n",
        "Embora a visualização gráfica completa das variáveis seja de difícil interpretação considerando a complexidade do sistema e a quantidade de dimensões envolvidas, um estudo em torno dos pontos estacionários possibilita compreender a maneira como as densidades dos recursos bem como das populações de espécies se modificam ao longo do tempo, considerando uma situação de competição interespecífica. Verifica-se, por exemplo, que elevados coeficientes de conversão em biomassa realmente aumentam a chance de sobrevivência de uma espécie, enquanto o aumento no tempo de obtenção do recurso prejudica esse crescimento populacional. Por outro lado, fatores como a taxa de reprodução tem contribuição \"ambígua\" à sobrevivência de uma espécie, a depender dos valores dos demais parâmetros.\n",
        "\n",
        "Ademais, a variação de tais parâmetros, em especial da função de entrada de recurso $f(t)$, possibilita encontrar situações mais condizentes com aqueleas encontradas no mundo real. Nos casos em que a função é constante, a estabilidade ocorre apenas através da extinção de uma espécie ou por meio de uma \"meta-estabilidade\", que ocorreria quando ambas as espécies tivesse a mesma taxa efetiva de consumo dos recursos, algo bastante improvável na realidade. Com a introdução de oscilações nessa entrada de recurso, simulando os efeitos sazonais que ocorrem em diversos ecossistemas, observa-se uma maior possibilidade de mútuo convívio entre essas espécies que competem pelo recurso. Sua limitação periódica regula o crescimento daqueles que o consumiriam com mais velocidade e favorece as espécies que, embora tenham menor taxa de reprodução menor, desenvolvem mecanismos para aproveitar a quantidade limitada que está a sua disposição.\n",
        "\n",
        "*(A discussão continuará na Parte 2)*"
      ],
      "metadata": {
        "id": "9YMGSlUtMvSW"
      }
    },
    {
      "cell_type": "markdown",
      "source": [
        "#**VI) Conclusão**"
      ],
      "metadata": {
        "id": "JrTGEWqv0T0D"
      }
    },
    {
      "cell_type": "markdown",
      "source": [
        "Ao final deste trabalho, foi possível compreender melhor como as Equações Diferenciais Ordinárias podem ser utilizadas para modelar a competição entre espécies em um ambiente com entrada constante de recursos, um ambiente controlado. Mostrou-se como a entrada de recursos pode afetar a dinâmica populacional e a competição entre espécies e como a sensibilidade do modelo a diferentes condições iniciais pode influenciar os resultados da competição.\n",
        "\n",
        "No entanto, é importante destacar que existem limitações em relação à aplicabilidade dos modelos matemáticos baseados em Equações Diferenciais Ordinárias. Embora esses modelos possam ser úteis para prever a dinâmica populacional em ambientes controlados, eles podem não ser capazes de capturar a complexidade de sistemas ecológicos reais, que são influenciados por uma ampla variedade de fatores.\n",
        "\n",
        "Dessa forma, é importante continuar a desenvolver modelos e abordagens que permitam uma compreensão mais completa e precisa da dinâmica populacional de espécies competidoras em ambientes naturais. Espera-se que este trabalho possa contribuir para avanços nesse campo e para a promoção de políticas de conservação que possam garantir a sobrevivência e a diversidade da vida em nosso planeta."
      ],
      "metadata": {
        "id": "LE3Ckv71BPh9"
      }
    }
  ]
}