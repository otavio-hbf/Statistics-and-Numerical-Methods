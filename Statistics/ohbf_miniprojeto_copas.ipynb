{
  "nbformat": 4,
  "nbformat_minor": 0,
  "metadata": {
    "colab": {
      "provenance": [],
      "toc_visible": true,
      "authorship_tag": "ABX9TyOxURDB8Gt+c18rHTrgQiFC",
      "include_colab_link": true
    },
    "kernelspec": {
      "name": "python3",
      "display_name": "Python 3"
    },
    "language_info": {
      "name": "python"
    }
  },
  "cells": [
    {
      "cell_type": "markdown",
      "metadata": {
        "id": "view-in-github",
        "colab_type": "text"
      },
      "source": [
        "<a href=\"https://colab.research.google.com/github/otavio-hbf/Statistics-and-Numerical-Methods/blob/main/Statistics/ohbf_miniprojeto_copas.ipynb\" target=\"_parent\"><img src=\"https://colab.research.google.com/assets/colab-badge.svg\" alt=\"Open In Colab\"/></a>"
      ]
    },
    {
      "cell_type": "code",
      "execution_count": null,
      "metadata": {
        "id": "v9Ky-UzLg3e_"
      },
      "outputs": [],
      "source": [
        "import pandas as pd\n",
        "import matplotlib.pyplot as plt\n",
        "import numpy as np\n",
        "\n",
        "#Importando as bibliotecas que são comumente usadas para análise de dados"
      ]
    },
    {
      "cell_type": "code",
      "source": [
        "fifa2006_df = pd.read_csv(\"/content/FIFA - 2006.csv\", sep=',', encoding='utf8')\n",
        "fifa2010_df = pd.read_csv(\"/content/FIFA - 2010.csv\", sep=',', encoding='utf8')\n",
        "fifa2014_df = pd.read_csv(\"/content/FIFA - 2014.csv\", sep=',', encoding='utf8')\n",
        "fifa2018_df = pd.read_csv(\"/content/FIFA - 2018.csv\", sep=',', encoding='utf8')\n",
        "\n",
        "#lendo os arquivos .csv disponibilizados pela atividade. Nessa versão do código é necessário fazer o upload dos arquivos no notebook quando for rodá-lo."
      ],
      "metadata": {
        "id": "jYzi4kRZg-t1"
      },
      "execution_count": null,
      "outputs": []
    },
    {
      "cell_type": "code",
      "source": [
        "selected_columns = ['Position','Team','Goals For', 'Goals Against']\n",
        "\n",
        "filtered2006_df = fifa2006_df.filter(items=selected_columns)\n",
        "filtered2010_df = fifa2010_df.filter(items=selected_columns)\n",
        "filtered2014_df = fifa2014_df.filter(items=selected_columns)\n",
        "filtered2018_df = fifa2018_df.filter(items=selected_columns)\n",
        "\n",
        "#filtrando cada um dos conjuntos de dados com as variáveis de interesses."
      ],
      "metadata": {
        "id": "LWhH3UYrjCUv"
      },
      "execution_count": null,
      "outputs": []
    },
    {
      "cell_type": "code",
      "source": [
        "filtered2006_df = filtered2006_df[filtered2006_df.Position <= 15]\n",
        "filtered2010_df = filtered2010_df[filtered2010_df.Position <= 15]\n",
        "filtered2014_df = filtered2014_df[filtered2014_df.Position <= 15]\n",
        "filtered2018_df = filtered2018_df[filtered2018_df.Position <= 15]\n",
        "\n",
        "#filtrando ainda mais, para apenas analisar os 15 melhores de cada uma das copas"
      ],
      "metadata": {
        "id": "hjoOR7SxkAYL"
      },
      "execution_count": null,
      "outputs": []
    },
    {
      "cell_type": "code",
      "source": [
        "geral_df = pd.concat([filtered2006_df, filtered2010_df,filtered2014_df, filtered2018_df])\n",
        "\n",
        "#concatenando os dados filtrados."
      ],
      "metadata": {
        "id": "QPgCj1ILrh_6"
      },
      "execution_count": null,
      "outputs": []
    },
    {
      "cell_type": "code",
      "source": [
        "goals_for= list(geral_df['Goals For'])\n",
        "goals_agst = list(geral_df['Goals Against'])\n",
        "\n",
        "#gerando listas com as variáveis de interesse, a fim de poder utilizar as funções do numpy"
      ],
      "metadata": {
        "id": "uTKuxK3OwRzH"
      },
      "execution_count": null,
      "outputs": []
    },
    {
      "cell_type": "code",
      "source": [
        "#calculando a média de gol feitos\n",
        "goals_for_mean = np.mean(goals_for)\n",
        "\n",
        "#calculando o desvio padrão dos gols feitos\n",
        "goals_for_std = np.std(goals_for)\n",
        "\n",
        "#calculando os limites superior e inferior de gols marcados respectivamente\n",
        "goals_for_sup_limit = goals_for_mean + goals_for_std\n",
        "goals_for_low_limit = goals_for_mean - goals_for_std\n",
        "\n",
        "\n",
        "#------ DEBUG -----------\n",
        "# print(goals_for_mean)\n",
        "# print(goals_for_std)\n",
        "# print(goals_for_sup_limit)\n",
        "# print(goals_for_low_limit)\n"
      ],
      "metadata": {
        "id": "CvooORDLDfPj"
      },
      "execution_count": null,
      "outputs": []
    },
    {
      "cell_type": "code",
      "source": [
        "#calculando a média de gols sofridos\n",
        "goals_agst_mean = np.mean(goals_agst)\n",
        "\n",
        "#calculando o desvio padrão de gols sofridos\n",
        "goals_agst_std = np.std(goals_agst)\n",
        "\n",
        "#calculando os limites superior e inferior de gols sofridos respectivamente \n",
        "goals_agst_sup_limit = goals_agst_mean + goals_agst_std\n",
        "goals_agst_low_limit = goals_agst_mean - goals_agst_std\n",
        "\n",
        "#------ DEBUG -----------\n",
        "# print(goals_agst_mean)\n",
        "# print(goals_agst_std)\n",
        "# print(goals_agst_sup_limit)\n",
        "# print(goals_agst_low_limit)"
      ],
      "metadata": {
        "id": "aUS8X-pwJLIW"
      },
      "execution_count": null,
      "outputs": []
    },
    {
      "cell_type": "code",
      "source": [
        "#Plota cada uma das linhas horizontais dos dados em análise\n",
        "\n",
        "plt.axhline(y = goals_for_mean, color = 'b', linestyle = '-', label='Média de gols marcados ao longo do torneio')\n",
        "plt.axhline(y = goals_for_sup_limit, color = 'g', linestyle = '-', label='Limite superior de gols marcados ao longo do torneio')\n",
        "plt.axhline(y = goals_for_low_limit , color = 'r', linestyle = '-', label='Limite inferior de gols marcados ao longo do torneio')\n",
        "\n",
        "#Ajustes de estética e compreensão no gráfico\n",
        "\n",
        "plt.title('Média, limite superior e limite inferior de Gols\\nmarcados nas Copas do Mundo entre 2006 e 2018')\n",
        "plt.legend()\n",
        "plt.tight_layout()\n",
        "plt.ylabel('Gols por campeonato')\n",
        "plt.show()"
      ],
      "metadata": {
        "colab": {
          "base_uri": "https://localhost:8080/",
          "height": 297
        },
        "id": "Mh8iAAUbK9RH",
        "outputId": "71522836-06c0-4e54-bc0f-c896798a5b37"
      },
      "execution_count": null,
      "outputs": [
        {
          "output_type": "display_data",
          "data": {
            "text/plain": [
              "<Figure size 432x288 with 1 Axes>"
            ],
            "image/png": "[encoded data removed]"
          },
          "metadata": {
            "needs_background": "light"
          }
        }
      ]
    },
    {
      "cell_type": "code",
      "source": [
        "#Plota cada uma das linhas horizontais dos dados em análise\n",
        "\n",
        "plt.axhline(y = goals_agst_mean, color = 'b', linestyle = '-', label='Média de gols sofridos ao longo do torneio')\n",
        "plt.axhline(y = goals_agst_sup_limit, color = 'g', linestyle = '-', label='limite superior de gols sofridos ao longo do torneio')\n",
        "plt.axhline(y = goals_agst_low_limit , color = 'r', linestyle = '-', label='limite inferior de gols sofridos ao longo do torneio')\n",
        "\n",
        "#Ajustes de estética e compreensão no gráfico\n",
        "\n",
        "plt.title('Média, limite superior e limite inferior de Gols\\nsofridos nas Copas do Mundo entre 2006 e 2018')\n",
        "plt.legend()\n",
        "plt.tight_layout()\n",
        "plt.ylabel('Gols por campeonato')\n",
        "plt.show()"
      ],
      "metadata": {
        "colab": {
          "base_uri": "https://localhost:8080/",
          "height": 297
        },
        "id": "A452-D9KL00H",
        "outputId": "f404b3e8-5bc7-4b47-bce9-073516f7d4b5"
      },
      "execution_count": null,
      "outputs": [
        {
          "output_type": "display_data",
          "data": {
            "text/plain": [
              "<Figure size 432x288 with 1 Axes>"
            ],
            "image/png": "[encoded data removed]"
          },
          "metadata": {
            "needs_background": "light"
          }
        }
      ]
    }
  ]
}