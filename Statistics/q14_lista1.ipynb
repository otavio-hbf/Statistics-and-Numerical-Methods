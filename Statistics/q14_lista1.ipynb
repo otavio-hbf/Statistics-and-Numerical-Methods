{
  "nbformat": 4,
  "nbformat_minor": 0,
  "metadata": {
    "colab": {
      "provenance": [],
      "authorship_tag": "ABX9TyMs3lw3bRSieIZ8k1Yk4rSc",
      "include_colab_link": true
    },
    "kernelspec": {
      "name": "python3",
      "display_name": "Python 3"
    },
    "language_info": {
      "name": "python"
    }
  },
  "cells": [
    {
      "cell_type": "markdown",
      "metadata": {
        "id": "view-in-github",
        "colab_type": "text"
      },
      "source": [
        "<a href=\"https://colab.research.google.com/github/otavio-hbf/Statistics-and-Numerical-Methods/blob/main/Statistics/q14_lista1.ipynb\" target=\"_parent\"><img src=\"https://colab.research.google.com/assets/colab-badge.svg\" alt=\"Open In Colab\"/></a>"
      ]
    },
    {
      "cell_type": "code",
      "source": [
        "import numpy as np\n",
        "import matplotlib.pyplot as plt\n",
        "import decimal"
      ],
      "metadata": {
        "id": "GJDidnIHiPXf"
      },
      "execution_count": 111,
      "outputs": []
    },
    {
      "cell_type": "code",
      "execution_count": 40,
      "metadata": {
        "colab": {
          "base_uri": "https://localhost:8080/"
        },
        "id": "FyuIKQ8ChYmf",
        "outputId": "dfc8a398-edc7-433f-944a-f50bc3743886"
      },
      "outputs": [
        {
          "output_type": "stream",
          "name": "stdout",
          "text": [
            "[11.9, 12.0, 13.1, 13.3, 13.4, 13.5, 14.8, 14.8, 15.0, 15.2, 15.4, 15.8, 15.8, 15.9, 16.1, 16.2, 16.2, 16.3, 16.7, 16.9, 17.1, 17.1, 17.2, 17.2, 17.5, 17.6, 17.7, 18.5, 18.6, 18.7, 18.8, 19.0, 19.3, 19.4, 19.5, 19.7, 19.8, 19.9, 20.2, 20.7, 21.6, 21.7, 21.7, 21.9, 22.1, 22.2, 22.8, 23.9, 23.9, 24.1]\n"
          ]
        }
      ],
      "source": [
        "arr = [17.2, 22.1, 18.5, 17.2, 18.6, 14.8, 21.7, 15.8, 16.3, 22.8, 24.1, \n",
        "13.3, 16.2, 17.5, 19.0, 23.9, 14.8, 22.2, 21.7, 20.7, 13.5, 15.8, 13.1, \n",
        "16.1, 21.9, 23.9, 19.3, 12.0, 19.9, 19.4, 15.4, 16.7, 19.5, 16.2, 16.9, \n",
        "17.1, 20.2, 13.4, 19.8, 17.7, 19.7, 18.7, 17.6, 15.9, 15.2, 17.1, 15.0, \n",
        "18.8, 21.6, 11.9]\n",
        "\n",
        "arr.sort()\n",
        "print(arr)"
      ]
    },
    {
      "cell_type": "code",
      "source": [
        "f =np.floor(np.sqrt(len(arr)))\n",
        "print(f) #numero de classes\n",
        "interval = (np.max(arr) - np.min(arr))/f\n",
        "print(interval) #cálculo para ter uma noção do intervalo\n",
        "k = 1.75 #intervalo que eu escolhi\n"
      ],
      "metadata": {
        "colab": {
          "base_uri": "https://localhost:8080/"
        },
        "id": "-KSDJE3Bk9ZU",
        "outputId": "9cbdb579-9887-4dc3-9520-808c05f8756e"
      },
      "execution_count": 152,
      "outputs": [
        {
          "output_type": "stream",
          "name": "stdout",
          "text": [
            "7.0\n",
            "1.742857142857143\n"
          ]
        }
      ]
    },
    {
      "cell_type": "code",
      "source": [
        "def sethigh(low, interval):\n",
        "  high = format(low + interval , '.3f')\n",
        "  return float(decimal.Decimal(high))"
      ],
      "metadata": {
        "id": "d3eEsMNdddUi"
      },
      "execution_count": 140,
      "outputs": []
    },
    {
      "cell_type": "code",
      "source": [
        "def count(array, low, inter):\n",
        "  i = 0; c = 0; j = 0;\n",
        "  high = sethigh(low, k)\n",
        "  graph_list = [0]\n",
        "\n",
        "  for i in array:\n",
        "    if(i < high):\n",
        "      graph_list[j] += 1\n",
        "    else:\n",
        "      graph_list.append(1)\n",
        "      j += 1\n",
        "      high = sethigh(high, k)\n",
        "\n",
        "  return graph_list\n",
        "\n",
        "  "
      ],
      "metadata": {
        "id": "1VUbMcX-iF2y"
      },
      "execution_count": 153,
      "outputs": []
    },
    {
      "cell_type": "code",
      "source": [
        "plot_array = count(arr, np.min(arr), k)\n",
        "print(plot_array)\n",
        "x_array = ['[11.9, 13,65)', '[13.65, 15.4)', '[15.4, 17.15)','[17.15, 18.9)', '[18.9, 20.65)','[20.65, 22.4)','[22.4, 24.15)']\n",
        "plt.figure(figsize=(12.8, 7.2))\n",
        "plt.bar(x_array, plot_array, color='r')\n",
        "plt.ylabel('frequência',size=20)\n",
        "plt.xlabel('intervalos',size=20)"
      ],
      "metadata": {
        "colab": {
          "base_uri": "https://localhost:8080/",
          "height": 499
        },
        "id": "HN3sopnpk-8M",
        "outputId": "58a4d5ea-3c56-4d08-de5c-61836e5c0671"
      },
      "execution_count": 176,
      "outputs": [
        {
          "output_type": "stream",
          "name": "stdout",
          "text": [
            "[6, 4, 12, 9, 8, 7, 4]\n"
          ]
        },
        {
          "output_type": "execute_result",
          "data": {
            "text/plain": [
              "Text(0.5, 0, 'intervalos')"
            ]
          },
          "metadata": {},
          "execution_count": 176
        },
        {
          "output_type": "display_data",
          "data": {
            "text/plain": [
              "<Figure size 921.6x518.4 with 1 Axes>"
            ],
            "image/png": "[encoded data removed]"
          },
          "metadata": {
            "needs_background": "light"
          }
        }
      ]
    },
    {
      "cell_type": "code",
      "source": [],
      "metadata": {
        "id": "DzfMZOKFqAxV"
      },
      "execution_count": null,
      "outputs": []
    }
  ]
}