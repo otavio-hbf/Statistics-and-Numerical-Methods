{
  "nbformat": 4,
  "nbformat_minor": 0,
  "metadata": {
    "colab": {
      "provenance": [],
      "authorship_tag": "ABX9TyOApOykIGd7hsSVeQ3NBulv",
      "include_colab_link": true
    },
    "kernelspec": {
      "name": "python3",
      "display_name": "Python 3"
    },
    "language_info": {
      "name": "python"
    }
  },
  "cells": [
    {
      "cell_type": "markdown",
      "metadata": {
        "id": "view-in-github",
        "colab_type": "text"
      },
      "source": [
        "<a href=\"https://colab.research.google.com/github/otavio-hbf/Statistics-and-Numerical-Methods/blob/main/%5CStatistics%5Ctendencia_central_e_dispers%C3%A3o.ipynb\" target=\"_parent\"><img src=\"https://colab.research.google.com/assets/colab-badge.svg\" alt=\"Open In Colab\"/></a>"
      ]
    },
    {
      "cell_type": "markdown",
      "source": [
        "#<center>**Exercício Escolar N°1**<center>\n",
        "###<center>**Otávio Henrique Baudel Francisco**<center>"
      ],
      "metadata": {
        "id": "rHSmPSFsETPM"
      }
    },
    {
      "cell_type": "code",
      "execution_count": 4,
      "metadata": {
        "id": "F8hzgR7Xjo98"
      },
      "outputs": [],
      "source": [
        "#Comece aqui importando as bibliotecas necessárias! =D\n",
        "\n",
        "import numpy as np\n",
        "import matplotlib.pyplot as plt\n",
        "import seaborn as sns"
      ]
    },
    {
      "cell_type": "markdown",
      "source": [
        "#Questão 1 : \n",
        "**Explique como os dados podem ser classificados.**"
      ],
      "metadata": {
        "id": "NvCRYUkpD3IF"
      }
    },
    {
      "cell_type": "markdown",
      "source": [
        "Dados podem ser classificados em duas grande categoria que se dividem em algumas subcategorias:\n",
        "\n",
        "\n",
        "\n",
        "*   Categórica: que se dividem em \n",
        "      1.   Nominal : ex.: Nome, endereço...\n",
        "      2.   Ordinal: ex.: Ranking\n",
        "\n",
        "*   Item da lista\n",
        "      1.   Contínuas: ex.: altura, intervalo de tempo\n",
        "      2.   Discretas: ex.: quantidades (laranjas, carros, etc...)\n",
        "\n",
        "\n"
      ],
      "metadata": {
        "id": "SPYfrVs9nNu7"
      }
    },
    {
      "cell_type": "markdown",
      "source": [
        "#Questão 2:\n",
        "**Um pesquisador deseja estimar o peso médio dos recém-nascidos de Pernambuco nos últimos cinco anos. Ele\n",
        "pega uma amostra aleatória de 235 recém-nascidos e obtém uma média de 3,27 quilos.**"
      ],
      "metadata": {
        "id": "NKbBLIVuDmD6"
      }
    },
    {
      "cell_type": "markdown",
      "source": [
        "\n",
        "\n",
        "**a) Qual é a população de interesse?** Todos os recém nascidos de Pernambuco\n",
        "\n",
        "**b) Qual é o parâmetro de interesse?** O peso dos recém nascidos\n",
        "\n",
        "**c) Com base nessa amostra, conhecemos o peso médio dos recém-nascidos na América do Sul? Explique\n",
        "completamente.**\n",
        "\n",
        "Não, por dois motivos principalmente: Para se ter uma estimativa com mesma margem de erro da que foi realizada em Pernambuco, para a América do Sul, seria necessária uma amostra maior. E a amostra em Pernambuco poderia ser enviesada em relação a população da América do Sul, já que fatores como acesso a saúde pré-natal e níveis de nutrição da mãe podem variar de região para região.\n"
      ],
      "metadata": {
        "id": "yXDnONVfpgqt"
      }
    },
    {
      "cell_type": "markdown",
      "source": [
        "#Questão 3:\n",
        "**Considere os dados apresentados na Tabela 1 onde temos o número de pacotes transmitidos através de um link de comunicação e suas respectivas taxas de transferências. Calcule a média da taxa de transferência (use a média\n",
        "harmônica).**"
      ],
      "metadata": {
        "id": "dnotI56JDTjF"
      }
    },
    {
      "cell_type": "markdown",
      "source": [
        "\n",
        "##𝐇=$\\frac{n}{\\frac{1}{n1} + \\frac{1}{n2} ... +\\frac{1}{ni}}$\n",
        "\n",
        "##𝐇=$\\frac{51200}{\\frac{12800}{310} + \\frac{12800}{290} + \\frac{12800}{340} +\\frac{12800}{270}}= 300,32$ \n"
      ],
      "metadata": {
        "id": "RGXOkmiUs2SK"
      }
    },
    {
      "cell_type": "markdown",
      "source": [
        "#Questão 4:\n",
        "**Tempos de inicialização de máquinas virtuais (VMs) foram coletados. Os tempos (em segundos) estão sendo\n",
        "mostrados na Tabela 2.**\n",
        "\n",
        "**a) Calcule a média da amostra, o desvio padrão, variância, coeficiente de variação, assimetria e curtose da amostra;**"
      ],
      "metadata": {
        "id": "evYyn0I71tOD"
      }
    },
    {
      "cell_type": "code",
      "source": [
        "tempo = [67.45,\t107.67,\t119.53,\t46.23,\t288.88,\t340.51,\t29.21, 127.07, 73.39,\t109.56,\t69.52, 229.54, 261.67, 174.45, 79.90,\t5398,\t108.28,\t70.96, 155.37, 155.74, 256.50, 59.66, 65.94, 51.48,\t74.52, 236.84, 160.52, 3.99,\n",
        "96.40, 72.54,\t96.98, 46.97, 158.52, 257.21, 5.52, 117.92,\t105.96,\t63.13, 86.43, 83.32, 154.74, 33.61, 132.83,\t86.14, 135.23, 116.40, 282.67, 213.38, 209.17, 85.73,\t84.93, 79.50, 94.37, 212.06, 360.13, 31.14, 101.47,92.90,\n",
        "128.06,\t97.66, 321.05, 25.25,\t377.00, 88.94, 104.94, 76.53,\t81.62, 312.62, 108.04, 263.58]\n"
      ],
      "metadata": {
        "id": "9kZTpdRP1_1B"
      },
      "execution_count": 26,
      "outputs": []
    },
    {
      "cell_type": "markdown",
      "source": [
        "Num conjunto de dados não agrupados calcula-se a **média aritmética** como o somátorio de todos os items divido pela quantidade de itens:\n",
        "###$\\frac{1}{n}\\sum_{i=1}^nVal_i$"
      ],
      "metadata": {
        "id": "s511pBNWVVBR"
      }
    },
    {
      "cell_type": "code",
      "source": [
        "q4media = np.mean(tempo)\n",
        "print(f'A média de tempo de inicialização das máquinas virtuais é {q4media:.2f}')"
      ],
      "metadata": {
        "colab": {
          "base_uri": "https://localhost:8080/"
        },
        "id": "W1EOXoQT-nc4",
        "outputId": "f2b19dad-0b4e-4189-ff44-c0bf4ddfc39e"
      },
      "execution_count": 27,
      "outputs": [
        {
          "output_type": "stream",
          "name": "stdout",
          "text": [
            "A média de tempo de inicialização das máquinas virtuais é 208.64\n"
          ]
        }
      ]
    },
    {
      "cell_type": "markdown",
      "source": [
        "O **desvio padrão** é calculado por:\n",
        "\n",
        "###$σ=\\sqrt{\\frac{\\sum_i^k(Xi - Media)^2}{N} }$\n",
        "\n",
        "sendo Xi um elemento arbitrário da amostra e N a quantidade de elementos total da amostra."
      ],
      "metadata": {
        "id": "azAO303-VjOo"
      }
    },
    {
      "cell_type": "code",
      "source": [
        "q4desviopadrao = np.std(tempo)\n",
        "print(f'O desvio padrão do dataset é {q4desviopadrao:.2f}')"
      ],
      "metadata": {
        "colab": {
          "base_uri": "https://localhost:8080/"
        },
        "id": "LwMRWuKc_nTe",
        "outputId": "ce2353d9-d56b-47b5-da5b-107e5964b2a9"
      },
      "execution_count": 28,
      "outputs": [
        {
          "output_type": "stream",
          "name": "stdout",
          "text": [
            "O desvio padrão do dataset é 630.96\n"
          ]
        }
      ]
    },
    {
      "cell_type": "markdown",
      "source": [
        "A **variância** é o quadrado do desvio padrão $σ^2$."
      ],
      "metadata": {
        "id": "gw639f7xWr_x"
      }
    },
    {
      "cell_type": "code",
      "source": [
        "q4variancia = q4desviopadrao**2\n",
        "print(f'A variância é {q4variancia:.2f}')"
      ],
      "metadata": {
        "colab": {
          "base_uri": "https://localhost:8080/"
        },
        "id": "2AxtTDpLDHdA",
        "outputId": "ea4e500e-1a22-44f3-b489-95fa30b821c8"
      },
      "execution_count": 29,
      "outputs": [
        {
          "output_type": "stream",
          "name": "stdout",
          "text": [
            "A variância é 398112.89\n"
          ]
        }
      ]
    },
    {
      "cell_type": "markdown",
      "source": [
        "O **coeficiente de variação** é dado por (desvio padrão / média) x 100 para que seja dado em valor percentual\n",
        "\n",
        "###$\\frac{σ^2}{media}\\times100 = var$%"
      ],
      "metadata": {
        "id": "cME5rBwxW5PA"
      }
    },
    {
      "cell_type": "code",
      "source": [
        "def coef_var(media, desvio):\n",
        "  return desvio/media*100"
      ],
      "metadata": {
        "id": "Idf3Z5BLBDuS"
      },
      "execution_count": 42,
      "outputs": []
    },
    {
      "cell_type": "code",
      "source": [
        "q4coefvariacao = coef_var(q4media, q4desviopadrao)\n",
        "print(f'coeficiente de variação:{q4coefvariacao:.2f}%')"
      ],
      "metadata": {
        "colab": {
          "base_uri": "https://localhost:8080/"
        },
        "id": "VSGpSp5zTLxB",
        "outputId": "01784c70-fb72-4d35-d770-01d2803e4d84"
      },
      "execution_count": 43,
      "outputs": [
        {
          "output_type": "stream",
          "name": "stdout",
          "text": [
            "coeficiente de variação:302.41%\n"
          ]
        }
      ]
    },
    {
      "cell_type": "markdown",
      "source": [
        "A **mediana** é calculada pela média aritmética dos dois elementos mais centrais nesse caso, onde o número de elementos é par.\n",
        "\n",
        "###$\\frac{X_{n/2} + X_{n/2 + 1} }{2}= Mediana$ "
      ],
      "metadata": {
        "id": "W3eHhhlwV3_n"
      }
    },
    {
      "cell_type": "code",
      "source": [
        "q4mediana = np.median(tempo)\n",
        "print(f'A mediana é {q4mediana:.2f}')"
      ],
      "metadata": {
        "colab": {
          "base_uri": "https://localhost:8080/"
        },
        "id": "zdr_6QiHBxxY",
        "outputId": "a219ccd9-05dd-416a-bbf9-2d58df7c925d"
      },
      "execution_count": 31,
      "outputs": [
        {
          "output_type": "stream",
          "name": "stdout",
          "text": [
            "A mediana é 105.45\n"
          ]
        }
      ]
    },
    {
      "cell_type": "markdown",
      "source": [
        "Pra definir a **assimetria**, como o conjunto não tem uma moda, convém usar o *2° coeficiente de Pearson* que consiste em\n",
        "\n",
        "###$\\frac{3(Media-Mediana)}{σ}= As$"
      ],
      "metadata": {
        "id": "S-k8VJIqXPig"
      }
    },
    {
      "cell_type": "code",
      "source": [
        "def coef2_pearson(media, mediana, desvio):\n",
        "    return 3*(media - mediana)/desvio"
      ],
      "metadata": {
        "id": "zGHlTUbWACZI"
      },
      "execution_count": 49,
      "outputs": []
    },
    {
      "cell_type": "code",
      "source": [
        "q4_as = coef2_pearson(q4media,q4mediana, q4desviopadrao)\n",
        "print(f'a assimetria calculada foi: {assimetria:.2f}')"
      ],
      "metadata": {
        "colab": {
          "base_uri": "https://localhost:8080/"
        },
        "id": "aaDtQop6YA9i",
        "outputId": "d1cf0f0e-e090-403c-9095-20b5b47e2bed"
      },
      "execution_count": 50,
      "outputs": [
        {
          "output_type": "stream",
          "name": "stdout",
          "text": [
            "a assimetria calculada foi: 0.49\n"
          ]
        }
      ]
    },
    {
      "cell_type": "markdown",
      "source": [
        "###**b) Calcule a mediana, o primeiro e terceiros quartis, explique os resultados apresentados;**"
      ],
      "metadata": {
        "id": "x6sEuFFgaDi1"
      }
    },
    {
      "cell_type": "markdown",
      "source": [
        "A mediana já foi calculada acima e tem valor 105.45.\n",
        "\n",
        "Para calcular o 1° e 3° quartil devemos, primeiramente ordenar o nosso conjunto de dados, obtendo o rol."
      ],
      "metadata": {
        "id": "nslsuEihcDvz"
      }
    },
    {
      "cell_type": "code",
      "source": [
        "tempo.sort()\n",
        "print(f'rol: {tempo}')"
      ],
      "metadata": {
        "colab": {
          "base_uri": "https://localhost:8080/"
        },
        "id": "EhH9ShomePQZ",
        "outputId": "cb09234d-7e7f-4114-f619-8f23d96ffa84"
      },
      "execution_count": 33,
      "outputs": [
        {
          "output_type": "stream",
          "name": "stdout",
          "text": [
            "rol: [3.99, 5.52, 25.25, 29.21, 31.14, 33.61, 46.23, 46.97, 51.48, 59.66, 63.13, 65.94, 67.45, 69.52, 70.96, 72.54, 73.39, 74.52, 76.53, 79.5, 79.9, 81.62, 83.32, 84.93, 85.73, 86.14, 86.43, 88.94, 92.9, 94.37, 96.4, 96.98, 97.66, 101.47, 104.94, 105.96, 107.67, 108.04, 108.28, 109.56, 116.4, 117.92, 119.53, 127.07, 128.06, 132.83, 135.23, 154.74, 155.37, 155.74, 158.52, 160.52, 174.45, 209.17, 212.06, 213.38, 229.54, 236.84, 256.5, 257.21, 261.67, 263.58, 282.67, 288.88, 312.62, 321.05, 340.51, 360.13, 377.0, 5398]\n"
          ]
        }
      ]
    },
    {
      "cell_type": "markdown",
      "source": [
        "Já sabemos que nossa mediana é a média aritmética dos elementos centrais tempo[34] e tempo[35], que dividem nosso rol em dois subconjuntos. Agora devemos achar a mediana de cada um desses subconjuntos!\n",
        "\n",
        "No subconjunto [ tempo[0], tempo[33] ] temos 34 elementos, ou seja, a mediana desse subconjunto (1° Quartil) vai ser a média aritmética entre seus dois elementos mais centrais **tempo[16]** e **tempo[17]**"
      ],
      "metadata": {
        "id": "14uEcx6Beaxr"
      }
    },
    {
      "cell_type": "code",
      "source": [
        "q4_1quartil = (tempo[16]+tempo[17])/2.0\n",
        "print(f'O primeiro quartil é: {q4_1quartil:.2f}')"
      ],
      "metadata": {
        "colab": {
          "base_uri": "https://localhost:8080/"
        },
        "id": "Bz-pfn95gLUS",
        "outputId": "09bbca03-4151-41b7-f4f0-eec8a0119c2d"
      },
      "execution_count": 34,
      "outputs": [
        {
          "output_type": "stream",
          "name": "stdout",
          "text": [
            "O primeiro quartil é: 73.95\n"
          ]
        }
      ]
    },
    {
      "cell_type": "markdown",
      "source": [
        "Para o 3° quartil, usamos essa mesma metodologia para o conjunto [ tempo[36], tempo[69] ], fazendo a média aritmética entre os elementos mais centrais : **tempo[52] e tempo[53].**"
      ],
      "metadata": {
        "id": "tsBKu8xogpa8"
      }
    },
    {
      "cell_type": "code",
      "source": [
        "q4_2quartil = (tempo[52]+tempo[53])/2.0\n",
        "print(f'O terceiro quartil é: {q4_2quartil:.2f}')"
      ],
      "metadata": {
        "colab": {
          "base_uri": "https://localhost:8080/"
        },
        "id": "rgyUxabEhIiP",
        "outputId": "11894369-ce54-4fff-cf47-40d6e362c30f"
      },
      "execution_count": 35,
      "outputs": [
        {
          "output_type": "stream",
          "name": "stdout",
          "text": [
            "O terceiro quartil é: 191.81\n"
          ]
        }
      ]
    },
    {
      "cell_type": "markdown",
      "source": [
        "### **c) Construa o gráfico de caixa, histograma explique sobre o comportamento dos dados.**"
      ],
      "metadata": {
        "id": "KPeMqfZVhahU"
      }
    },
    {
      "cell_type": "markdown",
      "source": [
        "![boxplotq4.jpeg](data:image/jpeg;base64,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)"
      ],
      "metadata": {
        "id": "wyB3TaEluppz"
      }
    },
    {
      "cell_type": "markdown",
      "source": [
        "Percebe-se, pelo boxplot, um outlier claro: o elemento de valor 5398, que distoa muito do restante dos elementos. É justamente por essa discrepância tão grande que o histograma torna-se, de certa forma, inadequado:\n"
      ],
      "metadata": {
        "id": "QmhaHRrnu0S8"
      }
    },
    {
      "cell_type": "markdown",
      "source": [
        "![histogramaq4-1.PNG](data:image/png;base64,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)"
      ],
      "metadata": {
        "id": "zopAHCq00t8H"
      }
    },
    {
      "cell_type": "markdown",
      "source": [
        "(Obs.: A ferramenta de histograma do excel gerou automaticamente um histograma com 10 classes, quando seria mais adequado 8 classes segundo a regra de Sturges.)\n",
        "\n",
        "Ao remover o *outlier* o histograma fica mais adequado:"
      ],
      "metadata": {
        "id": "phXNIXLw087g"
      }
    },
    {
      "cell_type": "markdown",
      "source": [
        "![histogramaq4-2.PNG](data:image/png;base64,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)"
      ],
      "metadata": {
        "id": "Dxcp_Fev1WO3"
      }
    },
    {
      "cell_type": "markdown",
      "source": [
        "#Questão 5:\n",
        "**Você está estudando as diferenças das distribuições de um serviço de streaming implementado em uma\n",
        "plataforma de computação em nuvem. Você organiza os dados como mostra o Gráfico 1 a seguir em um relatório que\n",
        "estuda o número de streams durante o primeiro trimestre do ano. Interprete o gráfico usando a Tabela 3 com as medidas\n",
        "de tendência central e variabilidade. Tenha em mente que os dados estão em milhares.**"
      ],
      "metadata": {
        "id": "dCj2bprR12xe"
      }
    },
    {
      "cell_type": "markdown",
      "source": [
        "![q0005.PNG](data:image/png;base64,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)"
      ],
      "metadata": {
        "id": "ZYOvvqoLt2GC"
      }
    },
    {
      "cell_type": "markdown",
      "source": [
        "As medidas de tendência central que conhecemos são: *As médias (aritmética, ponderada, geométrica, harmônica...), a mediana e a moda.*\n",
        "\n",
        "As medidas de dispersão que conhecemos são: *amplitude, variância, desvio padrão e coeficiente de variação.*"
      ],
      "metadata": {
        "id": "Ir0KbZ5quHhb"
      }
    },
    {
      "cell_type": "markdown",
      "source": [
        "Com as informações fornecidas pela combinação desses dois gráficos conseguimos saber a mediana, que corresponde ao valor do Q2:\n",
        "\n",
        "*   Mediana em Janeiro: 130\n",
        "*   Mediana em Fevereiro: 100\n",
        "*   Mediana em Março: 125\n"
      ],
      "metadata": {
        "id": "u3dDE9rkxcAL"
      }
    },
    {
      "cell_type": "markdown",
      "source": [
        "Também conseguimos saber a **amplitude** em cada mês que é definida por \n",
        "\n",
        "$Q4(valmax) - Q0(valmin) = A$\n"
      ],
      "metadata": {
        "id": "XtjzEBk3ze81"
      }
    },
    {
      "cell_type": "code",
      "source": [
        "def amplitude(q4,q0):\n",
        "  return q4-q0"
      ],
      "metadata": {
        "id": "zQ32AIKJ06t6"
      },
      "execution_count": 15,
      "outputs": []
    },
    {
      "cell_type": "code",
      "source": [
        "a_jan = amplitude(160,90)\n",
        "a_fev = amplitude(125,65)\n",
        "a_mar = amplitude(155,85)\n",
        "print(f'Amplitude de janeiro: {a_jan}mil\\nAmplitude de Fevereiro: {a_fev}mil\\nAmplitude de Março: {a_mar}mil')"
      ],
      "metadata": {
        "colab": {
          "base_uri": "https://localhost:8080/"
        },
        "id": "FCw3efKP1EBR",
        "outputId": "1e9fe014-8498-4029-8ee8-d34311e72d7d"
      },
      "execution_count": 22,
      "outputs": [
        {
          "output_type": "stream",
          "name": "stdout",
          "text": [
            "Amplitude de janeiro: 70mil\n",
            "Amplitude de Fevereiro: 60mil\n",
            "Amplitude de Março: 70mil\n"
          ]
        }
      ]
    },
    {
      "cell_type": "markdown",
      "source": [
        "Mas além disso podemos achar outra medida interessante, que é o chamado *intervalo interquartil* definido por:\n",
        "\n",
        "$Q3 - Q1 = I$\n",
        "\n",
        "Dentro desse intervalo, por definição ficam concentrados 50% dos valores da nossa amostra."
      ],
      "metadata": {
        "id": "Lri0fjSR1vJG"
      }
    },
    {
      "cell_type": "code",
      "source": [
        "def interquartil(q3,q1):\n",
        "  return q3 - q1"
      ],
      "metadata": {
        "id": "xxKG-n6O2IqQ"
      },
      "execution_count": 19,
      "outputs": []
    },
    {
      "cell_type": "code",
      "source": [
        "i_jan = interquartil(140,120)\n",
        "i_fev = interquartil(110,90)\n",
        "i_mar = interquartil(135,115)\n",
        "print(f'intervalo interquartil de janeiro: {i_jan}mil\\nintervalo interquartil de Fevereiro: {i_fev}mil\\nintervalo interquartil de Março: {i_mar}mil')"
      ],
      "metadata": {
        "colab": {
          "base_uri": "https://localhost:8080/"
        },
        "id": "XdH-mKeb2iBR",
        "outputId": "d9e46c40-2a75-4ae6-d017-7ed8f4a5aa68"
      },
      "execution_count": 23,
      "outputs": [
        {
          "output_type": "stream",
          "name": "stdout",
          "text": [
            "intervalo interquartil de janeiro: 20mil\n",
            "intervalo interquartil de Fevereiro: 20mil\n",
            "intervalo interquartil de Março: 20mil\n"
          ]
        }
      ]
    },
    {
      "cell_type": "markdown",
      "source": [
        "**Conclusões**: Pode-se dizer que o uso mediano em Janeiro foi o maior. Mas para além disso, é possível extrair resultados a partir do boxplot: Embora não saibamos a média, podemos inferir que a média em janeiro e em março foi maior do que em fevereiro, porque 50% (ou mais) dos valores desses ultrapassam o valor mais alto de fevereiro."
      ],
      "metadata": {
        "id": "5QCKU9ojI5PJ"
      }
    },
    {
      "cell_type": "markdown",
      "source": [
        "#Questão 6:\n",
        "**Usando os dados apresentados no histograma da Gráfico 2, responda, numericamente, a média e a mediana dos\n",
        "dados no histograma.**"
      ],
      "metadata": {
        "id": "KC8CrfImOT_5"
      }
    },
    {
      "cell_type": "markdown",
      "source": [
        "![q006.PNG](data:image/png;base64,iVBORw0KGgoAAAANSUhEUgAAAo4AAAITCAYAAACJ9p19AAAAAXNSR0IArs4c6QAAAARnQU1BAACxjwv8YQUAAAAJcEhZcwAADsMAAA7DAcdvqGQAAJsoSURBVHhe7N0FeBRnwz38fu/jdaNOBXd3DyS4u0sIQYKG4O7u7u4uCQQLEiwJMSDu7i7r55t7CTxQlhaa57/MwPldPVdadjY7bGdnztwj+4Gfnx8YhmEYhmEY5s/yQUBAABiGYRiGYRjmz/JBUFAQgoODwZ/8yZ/8yZ/8yZ/8yZ/8+Uc/PwgJCQHDMAzDMAzD/Fk+CA8PB8MwDMMwDMP8WT6IjIwEwzAMwzAMw/xZPoiOjgbDMAzDMAzD/Fk+iI2NBcMwDMMwDMP8WT6Ij48HwzAMwzAMw/xZPkhMTATDMAzDMAzD/Fk+SE5OBsMwDMMwDMP8WT5ITU0FwzAMwzAMw/xZPkhPT0dGRgb4kz/5kz/5kz/5kz/5kz//6OcHmZmZeKeTIf1F09OQmpKM5KREJCYkIEFEHKtPkv4sNR1p6RnIePYc6d+lNyc9NRkpL0yfhKTkFKSKxzKe+/0MwzAMwzDvST7IycmBSHZ2tvHnu/Tf2dlZyEyORFzgfdy+cAzH9m7F1o3rsHbNOqzfvAPb95/G2Rs+8A5NQHJmNrLE78hMQnKMPx7dOo8Lh3Zi2/o1WL9uIzZs24f9p6/h+sNIhCZI5TKr8PPH/+Z/87/53/xv/jf/m/+tpP/+IC8vD+9mpL9gVhLiHl/DnUMLsGDcIPTv0g7tW1rBspklrFq2Q7vug2AzdTM2nXWHb1wGUjKzkB7jCz+Xvdg+yw5jendA+xbNYGXVEi3a9UDPoVMweYszTrtFIDpNKpq5pl6XYRiGYRjm3cwHKpUK72Tys5Cd9gj3Ds7Dkj7N0NN6MkYt2Ikdh07g1OljOLJ9PlZO7oUerbpiwISN2HwvAaGJiQhz2YlDM3qhU7ehsJ64CtuOncGx4wdxcNMsLBjbF607jMe4FedwLTIdSbkmXpdhGIZhGOYdzQcajQbvZNS5yMsKxaPLB3Bo0Qys3n0BJ++FISwxHVnZaUgKcMSdfXYY1KQx2vWbgznXouEX7Yc7u6ZibhcLNLddhZlHvBCcmoPU9Hgk+F/AlR0T0LdBC/Qbvgyb3RIQnq6C2tRrS1Gr1cZmnpSUhJiYmBcSERGBR48eGRMcHIzQ0NDXSkBAAHx8fODl5QVPT89CRfyOx48fIygoyORrMQzDMAzzxxHf3SzubSgO55rqAu9iPtDpdHg3o4VWq0J+TiYy01KQnpGN7Lx85OfnIj8rGYn+Trh7aCLsOnTDwLHrsMEtCiHRLji71A52zdph8LrrOOyXBZVGK71R+VDnhSHcfR9WtK8N2wH2mHwuCv6JamhNvrbO+OaKq49ESbt27RquXLnyLGfPnsWaNWuMOXLkCE6fPm38sz/KmTNnsGfPHixdugwLFy6WshRLlqw0ZunSVW/0c9GiZVIWYePGjTh48OBrvT7DMAzDMP/NuXPncPnyZbi7uxu/UcVUF3gX84HBYMD7Ew1UmTFI8D6N06vHw75Xe/QZtRSLDt+Hd3wC0hKccHzeCNhY9MS4fR5witIUPE8Hgy4Z8Y/PYne/WrAbNBKjDofiYYIaev3vX+NJxIij+DLwXbt2YdasWZg+ffqzjB49Gg0bNkTTpk1hZ2eHmTNnYsGCBX+YefPmYcgQW9SuXQ81ajSSnt8BLVpYo1Ur2zfMEDRq1AnVq9dGx44dMWbMGMyZM8fkazIMwzAMYzqLFy/GqlWrsHXrVvj6+prsAu9iPsA7T/qLalVQpYUjwscFLqd2YseaeZg7ZTLGO8zDyiN3cCMoFdmqVGmaSzi10A62TXtgrFQcHaO0Bb9DL/2TjASpOO7qXQsjBo7CmGPheJwoimXBJL+j1WqNd1h3dnbG3r17sXv37mcRC1zFihVRpUoVODg4YNu2bTh27Ngf5tChQxg3zh6//loWpUq1QP36DmjTZq1U/ra8Udq334g6dezwyy+VpH/viPnz52P//v0mX5NhGIZhmJcjjhaKbfuWLVuwevVqPHjwoGDr/+57p4ujwaCHXpOH/NRIRLodw4nlozGubye07OmAsWvPw9EvDXFZauhEi9ZnQZtzFxdWjsFYq3awWX8Dhx/nQqPTQ6fTQKeKQIT7PixvWxu2/R0wzSkOgak6qZa+mmjmpoZ5xXmKrVq1QvPmzY2FMCoqyuR0zyc/P1+a9giqV28KS0sx+uiBqVOzMXOm9o0yfXo++vY9j1q1OmHSpOlwdXU1npth6jUZhmEYhnk54iKR8PBwuLi4GI8sihHH98U7XBxFacxCWpAL7h+cizljx2DM+LmYv+EgDji5wvVhOMKTs5GRkweVWisVxHxoVZHwPjIfy/tZosXgxZiy9w5849IQnxiNGJ8zuLBxLHrWb4cBo9dht28aYvP0f1gcX0VcFNO6dWu0aNHCuNcSGxtb8MiriXMmjxw5hho1xO2BFmLoUC9Mm5aH2bPxRpk5U4N+/ZxQu3YXTJkyA3fv3jVexENERESvRxxVFIM+169fNx5JfPjwYcEj7753tzjq8qBO9YHH0blY0LMm6lSogRrNeqPv+EVYsm4ztmzfju1SduzaiyMX7+FWaBZSs7OQ8OAELqwaDut+QzBo5HTMX7MBa9auxMp5Dpg6chC69puL2Tuuwy0pD1m6v1IbWRyJiIiUjMXxHWTQZCIv6iIc14/F4CY10KB6dVSrWRf1GlmgqaUVrJo3Nx4qbtmmE/pP24xVLsmISFNDmxmBGK+zOLZiIqbadEeXts3RulVbtO08AAPtpdJ55D6uB6YiXaXDX+yNLI5EREQKxuL4LtJLJTAnGtH+bnB1voBLTk5wMpELFy/Bxd0fD+Pyka0SF8GooM5KRHyQF3zuuuCa9FxnaZpLV13h+sAfgXGZSM2TSqO4mrrgpd4UiyMREZFysTiSWbE4EhERKReLI5kViyMREZFysTiSWbE4EhERKReLI5kViyMREZFysTiSWbE4EhERKReLI5kViyMREZFysTiSWbE4EhERKReLI5kViyMREZFysTiSWbE4EhERKReLI5kViyMREZFysTiSWbE4EhERKReLI5kViyMREZFysTiSWbE4EhERKReLI5kViyMREZFysTiSWbE4EhERKReLI5kViyMREZFysTiSWbE4EhERKReLI5kViyMREZFysTiSWbE4EhERKReLI5kViyMREZFysTiSWbE4EhERKReLI5kViyMREZFysTiSWbE4EhERKReLI5kViyMREZFysTiSWbE4EhERKReLI5kViyMREZFysTiSWbE4EhERKReLI5kViyMREZFysTiSWbE4EhERKReLI5kViyMREZFysTiSWbE4EhERKReL43vCYNBBp8lDbnoiUlPTkZSlgVprKHj0CYNemkadi9yMFKQkxiE2Ohox0TGIiY1HQnIa0nNUyNfooZee9uIzXx+LIxERkXKxOL4XDDBoM5ER6Q63/QuxbccBLHaKQWhSfsHjgjSNOhXpkW64fWw9Ns8dj7FDB2PokOEYNnY6pq/Yi/03g/EwPg8qnZ7FkYiI6D3E4viuMkjVTq+BNj8dKVF+8He7BKddC7GwRyV06DMSTZc9xr2w7KcTS5NrkRvtDp+zyzB3WC/0ad8abdq0kdIWbdu0R6ceg9F/+gHsuBKEiGwNVPqCp74hFkciIiLlYnF8VxmkZqdJR06CF+6dWIs1k0dgUPsWaFX5S9RoNxhNXiiOehh0uYi+sR2HJrZFkxYD0WfKNhx19cZd91u4dXQZ1o/tgkb1B2PwnOO4FJeDNG3BU98QiyMREZFysTi+q0RxVCUiM9oNN84cw5G9+7Ft1QLM71wMnXqbKo45iLqyAXvHNEU1Cxv0nXcS1yPSEZMQjvAb23BwSmfUrdoLvSYfxPmYbKSyOBIREb13WBzfVaI4qlORmxyMR97+8AuKQsCDy7hgXw12tjYvF0d9PlI8j+PCsv7o2LobutpMw8JtB7FzzzZsW2yPqYM6waLtJNivu4J7yXnI0hU81QSDwQCdTofMzEykpKQgOTn5WW7duoWmTZvCwsIC27dvNxbJ5x83lfj4eGnanahatbFUHBcUujjWrNkRY8c64MKFC4iOjjb5mgzDMAzDvJyEhAT4+voat6E7duww/vv74t2/OEYqjwa9FlqNFJ0aKYG34DKxOkYNHfJicTSeD6mFOuURAi+vxsJeddC09Pf46usiKFLkGxT55hf8VqU12s88gV13YpCQK/0+8ZxX0Ov1yMnJMe6FuLq6Gsvi04i9k+rVq6NGjRqYO3cuTp8+/cLjpuLi4oI5c+ahXLk6aNZsXqGKY58+jqhcuTX69h2ETZs24fLlyyZfk2EYhmGYlyNGGs+ePYt9+/YZt6Pe3t4FW/9337tfHF+gRVrQK4qjXgV9bggeXdyCrRMGw2bwKAx3mIcFK9Zh9eoVWLFgCqaNHYJ+vWxhv/gADnkmIz5b98orq8WhZbFHcvz4cen5q7Fy5UqsWCH9HikODg4oWbIkSpUqhUGDBkmFcM6zx16VZcuWoX//gShWrCqaNi1scTwvFVArWFm1wqhRo7B48WKTr8kwDMMwjOksWbLEGPHvDx48KNj6v/tYHJ8WR10mdBm3cHG1HYY3aYzmw9Zj3glfBCdnIy0jEcnBV3Fjz2QMa1AFHXo6wOFkGAKSNMaBSlNEcUxMTDSOJm7cuBHr1q17lqlTp6JMmTLGDBkyBAsWLHjhcVMR5dPa2gbFi1f7n4w4li/fHC1atIW9vb2x1Jp6TYZhGIZhTEdsO5cvX2786eHhUbD1f/exOL5QHF1xacNYjGphhVY2SzFt5zXc9g3EY38fPLx7Cmc2OcC2aS107jcZE0+I4qh+ZXEU5ziK8piammo8PzEuLu5ZxGFncY5jkyZNsGXLFnh5eb3wuKlERkZK025DlSqNYWlZuHMc+/Z1Qo0aHTFqlD3OnTuHsLAwk6/JMAzDMMzLEdcGeHp64vz589i2bRt8fHwKtv7vPhbH5w9V50ciyGUP9s0ciqEDBqB330GwtraG9WBrDLYegAHSn/XoOxqTVh3HSd9UJOb8wdUxf4BXVRMRESkXr6p+b+iQFfMQPttHYePaNZh4PAIB8U9Lk0H6R4O8BH8E3zyAfUsnYtKwvujdpRM6d+qCLr2sMWjMXMzc5ISzbhGIydFAzRuAExERvXdYHN8bBug0KuSnxiE1JRnxmRqotE/bnzjmbIBeq4I6Jx3pSXGIj4lCZEQEIkQioxEdm4iE1Cxk5mmg0UvTvurKmD/B4khERKRcLI5kViyOREREysXiSGbF4khERKRcLI5kViyOREREysXiSGbF4khERKRcLI5kViyOREREysXiSGbF4khERKRcLI5kViyOREREysXiSGbF4khERKRcLI5kViyOREREysXiSGbF4khERKRcLI5kViyOREREysXiSGbF4khERKRcLI5kViyOREREysXiSGbF4khERKRcLI5kViyOREREysXiSGbF4khERKRcLI5kViyOREREysXiSGbF4khERKRcLI5kViyOREREysXiSGbF4khERKRcLI5kViyOREREysXiSGbF4khERKRcLI5kViyOREREysXiSGbF4khERKRcLI5kViyOREREysXiSGbF4khERKRcLI5kViyOREREysXiSGbF4khERKRcLI5kViyOREREysXiSGbF4khERKRcLI5kViyOREREysXiSGbF4khERKRcLI5kViyOREREysXiSGbF4khERKRcLI7vBQMMejXUOSlIDvVFUHAYHsbkIitfV/B4AYMW2vxMZMaFIdzPC5737+DenTu4c88DHr5BCIpNR2qOFjq99PsKnvKmWByJiIiUi8XxfWDQw6CWSqP/JVxc2A9TZyzCwJ3B8InOLZhAkKqgNgtZsZ7wOLwQK0Z1QYeGNVCnWnVUq9sSLfpNxdS9d3E1MB3ZGj30Bc96UyyOREREysXi+K4ySEVQnwdVVjTCH1zG5cObsXbGCIxsXhzNug2HxbLHuBeWXTCxVCz1+UgPugG3o0uwcOZMTJ4yC3PmzsHsWTMwY9Jo2I+0Ra+BczB/+1Xcjc9FpvavjTqyOBIRESkXi+O7yqCXGlcqMmPu48a+RVg4ciB6WDWBZbnPULWNNZo8XxwNGug1iQg8txLb7dqi/dD5sN/oiKvuPvDwvAe3SztxcNkIdGvSC0On7MSx4Ewkql5dGw1SadXr9VCpVMZilpub+yzu7u5o3rw5LC0tsW/fPoSEhLzwuKlkZGRg794DqFZNmn/LBYUujjVrdoKDwxS4uLggJSXF5GsyDMMwDPNyMjMzERQUhMuXL2Pnzp3w8fEp2Pq/+97x4qgD8hOl4uiJ286XcNHpCs4e3oYtA8ui74DBLxZHfTa02e64umEqJlhZosfQURg0dizG2vRFv26d0LljR3TuZYN+Dluw8Yw3/FJVyNW9ujiK0igKY3BwMDw9PfHgwYNnOXr0KGrXro06depg6dKlcHZ2fuFxU7l//z4WL16KChXqS8VxfqGKY9++jqhatS0GDbI17induXPH5GsyDMMwDPNyxACQKI2HDx/G5s2b4e3tXbD1f/e9ByOOWcjPiEVEaDSi4lIQ8fA6rkyojlFDh7xQHA3aNGiSL+DE/MHoWakWLLqNwMBJ87F40ULMmz0d0yeOxNgRQ9Bn4FTM3nwBV8Ozkap69aFqMYydlJSEs2fPGheqDRs2PMu0adNQqlQplC1bViqAQ6VCuPiFx01l7dq1sLEZghIlqqFZs7mFKo59+pxH+fLN0bJlWzg4OGD16tUmX5NhGIZhGNMR284VK1Zg1apVxjL5vnj3L44xSOXOoINOJ0WvQUrgLbhMNFEcNSnQxJ/E4Vnd0K5sZVTpPBcOO13hGZGE6PgoRPtdgsuuqRjaqAF628zBouvxCM3QvbI4inMS4+LijHsjy5Ytw5IlS4wFUWTcuHEoWbKksTz2798f06dPf/bYq7JgwQKp8PVFsWJV0LRp4Ytj2bKWsLBogeHDh2PevHkmX5NhGIZhGNNZuHChMWIb7+HhUbD1f/e9+8XxBVqkBb2iOGrToUlxwvF5/dG3ThN0mnMeW++lIFutk0qgCprcaES6HcbGnnVgO2g0Rh8NxeNEtfH6G1Oent+YkJCAyMhIREREPMulS5fQpEkTNG7c2LjX4ubm9sLjpiIOea9fvxGVKzcs9DmOffs6oXr1DhgxYgxOnjyJgIAAk6/JMAzDMMzLCQ0NNW67z5w5g61bt/Icx3fXq4sj9DnQZXvh+qZxmNiqMVrYbcL8034IT89DZm4WcpIe4uHFtZjVuh4GDZ6MGReiEZiqfWVx/CN/9arqw4d5VTUREdHbxquq3xt/UBwNWug1SQi+tAk7x3VG2652sJm+GXsdXXDx2mVcObMNu5aMQt/WPTFi+nYceJSGuFy9WW/Hw+JIRET09rE4vjf+qDhKFVCvRl6SHwJddmHLNGvYdmwKizrVUbNGLdSsbwmrbsMxZNFR7L8RgshMNfL/4KrqP8LiSEREpFwsju8NPfKSwxF2YQPOnTqJbbcSEZWqLnhMMMCgFYelA+F3/QRO71yFFfNmYe7sOZizaA3W7DqNM27hCEzMg0oqjeb+5hgWRyIiorePxZHMisWRiIhIuVgcyaxYHImIiJSLxZHMisWRiIhIuVgcyaxYHImIiJSLxZHMisWRiIhIuVgcyaxYHImIiJSLxZHMisWRiIhIuVgcyaxYHImIiJSLxZHMisWRiIhIuVgcyaxYHImIiJSLxZHMisWRiIhIuVgcyaxYHImIiJSLxZHMisWRiIhIuVgcyaxYHImIiJSLxZHMisWRiIhIuVgcyaxYHImIiJSLxZHMisWRiIhIuVgcyaxYHImIiJSLxZHMisWRiIhIuVgcyaxYHImIiJSLxZHMisWRiIhIuVgcyaxYHImIiJSLxZHMisWRiIhIuVgcyaxYHImIiJSLxZHMisWRiIhIuVgcyaxYHImIiJSLxZHMisWRiIhIuVgcyaxYHImIiJSLxZHMisWRiIhIuVgcyaxYHImIiJSLxZHMisWRiIhIuVgcyaxYHImIiJSLxfG9YIBBl4fclDCE3D4Ll+u3cc47FYmZmoLHTTBooVWlIzHAFXcvnMWpU9dxLzwF8SoDdAZDwURvjsWRiIhIuVgc32lSYdSLApiLvPRwhN45iH12DdF/8DhYLn+M+2HZBdP9nh46dTqy4h7g5paRGNemKerWG4IpZ31xK12PfD2LIxER0fuIxfFdJUYFddnISwnEwysHsH/lTEy07oaedX5AvY62sFhmqjiKkUkVdPnxCL9/Co4rR2HaiA5oXrcp6tS2YXEkIiJ6z7E4vqsMekCdjMzo+7hxdDM2LZyDScMHYXCj72DR2RpNXiqOUmnU5iI3OQTBrsdwctMizHMYiamTBqJHm45oWs8W01kciYiI3mssju8qgw7IT0RWnC/cbt3HXbeHuH/9DE6OrAxbG5sXiqNBmlaUxpykQARKpXHf7FGYNWMpJm+/BKezq7DGYQg6NRmGWederzgaDAbo9XqoVCpjMXs+Hh4eaN68OSwtLbFv3z6Ehoa+NM3vk5mZib17D6BaNQupOC4odHGsVasTHBymwMXFBampqSZfk2EYhmGYl5OVlYWgoCBcuXIFO3fuhK+vb8HW/933HhyqzocmPx2pKWlIy8hCnN8NXJtQHaOGDnmxOGpzoEn2wYMzm7Fx5mRMXrQdm87ch0dIJCI8d2P3tGHoajH8jYpjfn4+wsLCjAuUj4/Psxw/fhx16tQxZvny5bh69eoLj5vKgwcPsHTpclSsWF8qnPMLVRz79nVC1artMHjwMKmM7sX9+/dNvibDMAzDMC/Hy8sL165dw7Fjx7Blyxbjn70v3oOLY56nRVrQLbhM/H1xNECbHYfke1uxa2I3dGrYCE16O2D4nLXYtm0jNi60xZB2TVCjjAU6jJmPecdv4bJfGlJztU9+rQliGFuM5F26dMlYzsRQ9tPMnz8f5cqVQ/ny5TFq1CisWbPmhcdNZceOHRgxYiRKlqyOZs3mFao49unjiAoVWqBt206YPn06tm7davI1GYZhGIZ5Obt27cLmzZuxbt064zbc09OzYOv/7mNxNBZHPVSp4Yg4PQsrh1mica1qqFKjLmrXb4TGjRugYa2yKPvLDyjy+Y/4tWIdWNotxZwz4QhJVkuV0zRxTmJ8fDyOHj2KlStXYtmyZc9ib28vFcCSxgwYMEAqczNfeNxUFi1aLBW+/ihWrMr/pDiWK2cl/Z4WsLOzw4IFC0y+JsMwDMMwL2fp0qXSdnmRMeLIoTgF7X3B4lgw4qhTZSM7wguP717GRafzOHfunDFnTx3B0c3jYd+jFepXao1eMzdg9SUv3AvLQma+7smvNUGc3yjOgwgPDzdeDCNOnH2aU6dOoUGDBqhXrx5WrFhhHO5+/nFTEcPiy5atRMWKDf4Hh6odUa1aO9jYDMf+/fvh7u5u8jUZhmEYhnk54tC0uDBGHKoWI4/e3t4FW/93H4tjwTmOojwapLKn1+mMh5mfRpOXgvRHe7B7qi26NBmKGae9cCNFi1ytNP1rXFgtCuTvI855bNWqlfGq6kOHDiE6OtrkdM9HXGRz6NARVK/e9H9ycUzt2p0xefJ03L59G9nZ2SZfk2EYhmGYl6NWqxEREWG8wFQctubFMe8sHdKCb+PG1LoYN3I4mq/yg1v40+JomkGTgezAgzgweyR6tRiFeY4PcZu34yEiInpv8XY87w0D1FnJSPS5DE8Pd7gEZiI159UXuAgGvQbarEhEPPTAHZcHeBSbgWS1+MrBggn+AhZHIiIi5WJxJLNicSQiIlIuFkcyKxZHIiIi5WJxJLNicSQiIlIuFkcyKxZHIiIi5WJxJLNicSQiIlIuFkcyKxZHIiIi5WJxJLNicSQiIlIuFkcyKxZHIiIi5WJxJLNicSQiIlIuFkcyKxZHIiIi5WJxJLNicSQiIlIuFkcyKxZHIiIi5WJxJLNicSQiIlIuFkcyKxZHIiIi5WJxJLNicSQiIlIuFkdZM0j/6KBT5yMnNQ1Z2bnI1Rmg0xugV2UhNyUKEYEP8dDLE17ej+AbGIXo5CzkaKVppKfKEYsjERGRcrE4ypTBYIBBr4E2Px1psaHwu3kbDwMiEJ6jRZ5ahZy4hwi+sQ97V8zAdPuxGDdhNqYtP4hDVx/CLykPmWod9NLvkBsWRyIiIuVicZQpgy4fqrQAPHTehm1Th6F/p35wWH0CRx4nIzbqPm7um4MZXRuiRa2KqFi2DMqWq4yKNRrBops9hi85g4v+SUhQSeWz4PfJBYsjERGRcrE4yo6oegbo8pKR4nMI+6d1RseKv+Lrb6ug+dgtWHcjAD6XV2K1bUNU/vTv+PzDr1DkF6k4VqmISr99iR9/rohfG9ph2nEf3ItXQy+z5sjiSEREpFwsjrIjmp4e6pRgBB21x9RO5VDi5+L4tpY1Bq84jeM3buLiom6wbfg9Pv7Xx/j0p0ZoOnAqpi+fj+U2ddGqSlF89VtdtJxzEQc9M6HTP/mtcsHiSEREpFwsjrIjiqMOubEP4bGul1QQf8TPpWuj5pjDWHPxPtxuHcSG3tXQ7Kd/4W8ffY9vG9lj9AZn3Lx7GQ93DsCYliXxxbdlUNXuEDa4JEArsyFHFkciIiLlYnGUnf8WR7fVPTCkwQ/4pVwDNJzhjE1nHOFyaDKG1i6Kkh/+C/8uUh7Vhm7HKqdHCPK6godb+8HOqji++K4sqo46jI3XWRyfD4sjERFR4bA4ys6T4qhKDIDfriEY27wYfv6tIkp0W4iRDuOwZHgDVPvpM3z0jy/xVckW6LP2Eg67euDOyVVY3a8qLEp9jc9/roFmsy9grwcPVT8fFkciIqLCYXGUHVEc9dBmxyP+7hZsHmWFZqV/wDfFqqF0uTKoVrIIvvjoQ3xctCGq9FiKtRfv4dKZbdg+uhmal/0SPxWthGIWYzDj5EO4JWh4ccxzYXEkIiIqHBZHmTJoc5CX4IF7hxdhkXVrtKpXFdUrV0TFitVQtbYlWljPw8Qd93E3MBhe51Zj05CGaFirFuq0H43BC8/jUmAyktRPaqicsDgSEREpF4ujXBn00GtzkZcajkgfF1w+tBk71q7E8pUbsWGfMy7cD0ZoSjYystKR6O2Mm/tXYMGq3dhx3h2e0ZlIzdNCK7PD1AKLIxERkXKxOMqaAdCroM5JRUp0EIIfecHrgZRHoQiJSkBSWjpSU5ORGOGPYO97cL3vC+/AKMSlZSEzXwuNruDXyAiLIxERkXKxOMqVGHHUZCMzPgShXq5wveIIx9PHcPzwQRw8sB/7978qB3Dk5Hlce5yIiHQ95PatgyyOREREysXiKFMGbS5yE7zhcXoVVo/qjA4Nq6JmpfIoX74CylcQ5zq+KlVQ16orhu94gAtBWl4c81xYHImIiAqHxVF2RNPTQ5sZgxiXNdgwpiWalPkBRT76EJ998S2K/FIKJcpKBVKUx0qVjKn0QqqgnlU3jNjpiQvBLI7Ph8WRiIiocFgcZUc0PXEfR388EvdxbPErvvv6G3z2W33UaTMA1mMmYeK0GZgxcxZmSW1o9kuZi0UrN+PArUg8TNTxUPVzYXEkIiIqHBZH2XlSHPPiHsJ9bU8MafAdvitWDSUG7MbSs/6ISU1HemYmMv8gWdk5yFWJi2Nk1holLI5ERETKxeIoO6LsGaDJiETExYVY3L82apWvjmJdN2DBKX/E5mmh1htgMPxZnvymF734uGnPT2MiBVP9VSyOREREysXiKFOGvCSk+RzEvimd0K5GRfxcZzD6Td+GA863cP3Ofdx3d4e7hwc8XsoDePn6ITg+G6l5+oKiJxU+vQqqrATE+7vh4aMAuIdnIyPv+fv1GKBXZyMnJRLhjz3w4M4NuFy5jCuXr+DKtZu4ec8b3sEJiE3Lg0onTfsXGySLIxERkXKxOMqUPjsRae57cGB2D3SsWwLff/0dvv+1IirUtYJVuy7o0qMXevXpg95S+ryQfrAZNQVLzwbgTpQWOq0G6rxsZKeEI/T+SRyf0Q32k+ej3/Zg+ETnPnkxMZKo1yA33hf+V7Zh4/ShGNq9DVo2aYjGjRqjsWU7tOszGnZLjuPQrRBEZWuM5fGvYHEkIiJSLhZHmdJlRCHx0kKssG2ISr98gY/+8X/429//jX9+9AW+KPIdvvvhR/z400/46aX8gjI1W6Dfhvs445eJ3LQwBLqewsktSzB3VD8MaPgzGnYZBotlj3E/LPvJixnU0KujEXBpK3ZOlKYZPA7DJi3GsrUbsHbtSqxaOAnTRvdHl3b9YTd3Hw77ZiAh9699LQ2LIxERkXKxOMqUPisWyTfXY8vUvmhrZYFGjRq9ZpqgVVdrTDjgjauBiUiPvo8bB1dh5eSxGNKtIzpX/wp1OlijiVQc7z0rjiroVeHwddyMrZNHY/yyY9h1LQTRGfnIzEpGavBFXN8+Cr2qVkWb3jMw52oiQjKeHgZ/M3+1OB45wuJIRET0trE4ypRBkw91Sjgi/D1x/+4d3Lntils3r+P6tau4evkSLl1yhrOz9FOcg3jVBS7Xb+KWqytcb9/BPXdv+MWkIzktAZmx3rh37TpcXO7g6rkD2DekPAZa2/yuOEolUJ+P3LR4JESEITwmBYkZeVBJhU2Vm4r0cBfcOTwNNk0s0XvoEqy6k4KIrD8ujuJCGlH4VCrVC/H09DSWRisrK+M33YSHh780ze+TnZ0tTXsQ1atbSM9bUOjiWKtWZ0yYMBU3btxAenq6yddkGIZhGObl5OTkICQkBFevXsWuXbvg6+tbsOV/98m6OBrLnE4DjTof+Xk5yM9NQ1JUAALcr+OG81mcO3UCx0+cwunzl3HZ1QuegTFISM9CVm4+8vJVUGt10GlyoMpOQlxMAhKS0xD96DquTqiOUUOHvFgcTZKer85AcuB13DywCEvsB6HXgKmYvvkSbkTkIF316tqo1+uRn59vLIVihFHsjTzNyZMnUbduXWOWL1+Oa9euvfC4qYiyuXz5ClSsWB+WlvMLVRz79nVC1artMHjwMGNxdXd3N/maDMMwDMO8HG9vb7i4uODYsWPYsmULfHx8Crb+7z55F0fjldBaaHKSkRLhDZ+bZ3F691qsnTsRk0bZwtZ6IAYMtMbgYWMxdupCLNywHwfO34LroyhEpqmRp5GKp/EWOnrodTqpzGmQGngLLhP/qDhK0+vU0OYkIjHMG143zuDM7pVYPsMB9mOnYtqWSzjjGYekPC20f3CKoxjGTk1NNZbCQ4cO4cCBA8+yePFilC9fHhUqVMCYMWOwYcOGFx43lT179mDUqDEoVaoGmjWbV6ji2KePo/TaLdGhQ1fpz2Zj586dJl+TYRiGYZiXs2/fPmzfvh3r16/H2rVrjYM77wvZF0e9JhfZEbdwb/8U2LeujFq/FcGXn32CTz76CB99+CE+FPnoY3z0yWf48vuSKFq9O/rMOYSD3mmIz9b+7lCyFmlBf14cdXmpyA69jMtbJmJ8l8Zo38MOQ+ZLC4trCEKSspGr1kFnLKQFTzFBrVYjOjraWMpmzpwplbxpzzJkyBD8+uuvxnTt2hVjx4594XFTmTx5Mjp16iI9pxKaNp1byOJ4HmXKNEWDBk0wYMAATJgw4aXXYxiGYRjm1Zk6daq0XZ2NpUuXGm8F+L6Q9zmO6kypNLrgyraJsG9XA1V+/BI//lQSv1Ztiqbte6BH3/5S8emHPt3boV2TKqhR+icU+fY3lKjVHZ3tt2G/WzRCXzgP8Y+KoxjdVCE72hO+F7Zg7ewpmDFlFmYv24hNhy7iglsQAhNzkK3WGkvjn93DUafTGc9LfPz4sfEClNu3bz+L2FOpU6cOatWqhXnz5uHMmTMvPG4q4lzEefPmo3z5ev+DQ9WOqFq1Dfr3H2wcYhfnaJh6TYZhGIZhXs6tW7fg6OhoPN1r48aN8PLyKtj6v/tkWhxFKzNAmxmNGJclWDqwNioV+RIfflkaFSwHYuD0dVi3/xROOTnj8mUnOJ7ci72rp2DqICs0LvE5vv/sB3xTthNsdtyFc3j+cyXv1cVRlEZdTgQCL63HptGt0bBKfTTuMBKj1hzD3jPS67i44JoUF5cbuOsdhICEPOSozXs7Hl5VTURE9PbxqmrZEU1Pj/wEP/hst8Zoq5/x3Xcl8Ukte9ituYC7oTGISkpFalo60tPTkJaSgKRYf3hd2o7N/SrAqvin+PTHqqg/8SR23EmG7llz1CI99B5c5zTD5PHj0HFDAB5E5BgfMWjSoY69CKd1dhjUsCLK/1YMxUtXRMVaDVC3YWM0btIETZpYSLFET4fVWHYpHuFpvz8U/npYHImIiJSLxVF2RB3TIS/2IdzX9oRtw2/x5ffl8KnFIsw85I0YtQ6aJxMW0EtPyULCIyecGVkDnct8iI++LYMqdoexwSUB2mfFUQ9Veiyibx/GDZerOOmZioTMJ7/JoMuDLjMA/nfO4cT2Tdi8bh3WmcwG7D59HVcDMpGS+/zXFb4+FkciIiLlYnGUnYIRx8QAPNozHPYti+HH737Dx1WHYfDCY7joFQj/8GhEx8YjIT4WcdFhCA9wg+vJNVjWtSwa//oZPi1aExbTz2GPW9pzI47ywOJIRESkXCyOsiOKngG6nDgk3tuETaOs0OCXb/D55z+jeK22aDNkOqYtk/58xx7s27sLOzcuw7IpNhjSvjaqFP0c33xdEr/UHgT7w164Fav+0wtZzI3FkYiISLlYHGXKoM1BXoInPE4sxeLBzdCoxNco+t0P+KZYJVSq3RANLZrBspkFLBrUQq0Kv6HEj9/g069LoKyFDQYsOIlzjxIRl/fH3+7yNrA4EhERKReLo1yJG3ers5EV5Q6vs2uwfExP9GvbGI3q1ECNqpVRuWIF4020K1aqgirVa6NO41aw7DYK9qtP4bhXImIz1dDKrTVKWByJiIiUi8VRtqTWJ8qjVgV1TgrSE0IR9OAKrh3fhm2rFmDBLHEDzumYOX8FVmw5jEMX7sE9KAZRqTnIVumMF8XIsDeyOBIRESkYi6NcGL+N5bk8+cMn/67XGe+1mJeZiOSoIAQ+8oKXuxvc3Nzg7vkQvgERiIhPR2a+BmqduEH30+fLD4sjERGRcrE4vm0GLQy6LKQnRCLc/zH8HvshODoJ8Rn5yEmLR0JkMPz9HhsL1+vlMfwDQxCRnIOMfPkVSDGPLI5ERETKxOL4tukzocv1xO2ja7BshC2G2wzD9E3ncPheDAJuHMTxdVMxaqgNBg0a9JoZjBHjZ2GlUxDuxeh4VfVzYXEkIiIqHBbHt02XDG2mM47Pt0bvciVQ9rfSaGa3DnPPBOLuodlYYtMElUr+hp+LFkXR18qvKFe7JfpvdMOZAPHd0gWvIxMsjkRERMrF4vi26dKgzb6BCxsmYmxzC1g1aoY+M/dg7eVQeJ5ZhU0Tu6N54waoW6cu6tath/r165tIPdSrV0+apjZq16yNJq17YfRuLzgHazni+FxYHImIiAqHxfFtM6hh0KUiOTIA/u734X7PDT7BsYhIykJ69CP4u7nA+cIFnL94DdduuBrLzr17936Xu7jteh3XL53BuRNHcOzkeVx9mIiwNL245kZWWByJiIiUi8XxrRPNTgedVg21Kh/5+flQabRQZyUhzfMoTm2cifETZ8Fu2TmcvB2KlJxc5ErTiOn+m2ykRPjA69BcrJ9qi2Gjp2DuEU+4hORyxPG5sDgSEREVDovjWyc1O4MemqxEpEb54aGnB9zd3HDv6hlcWDEAQ5qXxndFy+LTumMwbNFBXL59F3fvP7kVz5Pch9t9V1w6tgnrBlRFq7Kf46tfq6D+xFPYdjuF31X9XFgciYiICofF8a0T92nUINP/Alx3OsCudyd0aNUKLS0bo2m1X1H82w/xj399hP/7shRKVK6PZi1aoqX0eKtnaYlWLZvBol4VVPj+Y3z977/h39+UQqURh7D+WrzxRuBywuJIRESkXCyOb50YcdQhP8EbjxxXYFGfemhW8Wd8W+QrFPn8Q3z0r7/h//7vb/j//vExPvr0S3z9zbf45ttv8e2zfCOlCL7++kt89smn+PK70ijdsC+GbnHFxYBsHqp+LiyOREREhcPiKAuiPGYhLewWbiwfDIfuTVC7WmVUK/MTfv7uc3z66ef4+Ovf8EupSqhWoyZq1vx9aqN2nfqo19ASLbqNxNDZe3HCKxbh2bwB+PNhcSQiIiocFke5MOigyUtHWsRjBPl44L6LIy5vm4zptu3RrEVHNOi7ALM2ncS1O+Icx/u4//u4ucPN/QE8fQLgFxqHxCwV8uV2E0cJiyMREZFysTjKlEGVhdyI+/C4egIHD5/EHidfeIalIl+vl90o4ptgcSQiIlIuFke5MhhgELfoyctCVnoyEuPiEBcbIxWtGMRIZUsUrhcjPRYThajwEISHhiAyOQfpeTxU/XxYHImIiAqHxVHGDHot9HkpSIvyhafLeTgdP4gD+3Zj9x6RPdizdx/279//JPv2YO+uLdi4Yh6WL16ATc7BuBfFb455PiyOREREhcPiKFMGbS7ykx7C22kbts4YDtteHdG5bUu0bGEllScpzZujefMWxgJmTHMrNLe0QON6tWDRvANst7rjLL+r+oWwOBIRERUOi6NM6XITkOi+E9vHt4FVyW/w9Zff49uiv+K3YkXxwxcf4dOPP8NHX/yIosVLonTpEij+y3f45tMP8eln3+HHqu1gvc0DF0J1HHF8LiyOREREhcPiKDui6emhSgzE470jML51cfxY5Ht8XLIlLHsPwajRfdGxyg8o+WMpfFOpC/qOm4KZcxww3rotLEt/jZLlLFCl91rsuBOJsBz5XUjD4khERKRcLI6yI6qeDrkxvnBb3R02Db7Ftz+Xx69dlmPKtvO4eG4XNtnUQavKVfBj1UGw33YWp27fhsvpLdjnYIUelk1QrukoTDvqjbsxKo44PhcWRyIiosJhcZSdJ8UxJ8YHd1d2w+B63+KHkrVQwe4Y1lyKQETQA3hv7I2RljVQtHQnDNvugvPByYgOvIfww0MxsX0F/PBTNTSb4Yg97hn8rurnwuJIRERUOCyOsiOKnh6qpED477ODQ5uSKPpjMRSpbYOBS87i7D1PBF2cjcUDG6LMD2VQr+d0OKzZj307V2LLyMZoV+V7fP59RdQeewxbbiayOD4XFkciIqLCYXGUHVH0DNDlJCDx3nbsmNAWLSv+gq+/r4D6Niux0PExgnxP48T83uha9huULlcH1Zq0RptWFrCs9AN++/ZbfFGsCdovcsZRb444Ph8WRyIiosJhcZQr4+14fOB5eiVWj+yMto0aoKv9eixyjkZ4XAgenV+DTUMs0K5+FVQsVwZlS5dGqVKlUbaaFZr0mIaljn54kKjhOY7PhcWRiIiocFgc5Uqvg16VjezUGET6e8Dd+SRu3POFW3Q+svLykZcSjiivCzi/fSmWThuHcaPHYqTDPCzcegon74YgJCkXORqZtUYJiyMREZFysTjKlD43FVl+zrh2ajfWbdyOrdv34qjTLVx/FIvodKk4qvOhyU1GQogPfO/fws0bN3Hd1RNewbGIzdRCpZVfaRRYHImIiJSLxVGmdGnhiHeaiQVDWqJ6raZo1H4gBo5fiAWbj+Lo5bu47eWHgJAIRMQkICElA+nZ+chXa6HV6aEX33Nd8HvkhsWRiIhIuVgcZUqfEYXEq4ux3LYJqhQvih9+/BlFi5VCqfJVULlWE1i064s+o2Zh1pp92Od4F3ceRyMuPQfZ+WqoNFKB1BuMBVJuWByJiIiUi8VRpgz5GcgJvYFbJzZgxazxGGfbB306WsGqflVUKV0MJYqVQLEyVVGjUWu07j4Ig0ZPwZQFa7Bm+xEcvXgH7uHpSOQ3x7wQFkciIqLCYXGUNan26fKRnxGLWD9X3D6zE7uWSwXRtjM6NamCSr8WwQ9ffIiP/vk3/P2f/8E/P/8Vv1SxRKvBM7DUKQge8f/9rmqDQQttfhYyEyIRF5eIyFQV8jT6Jw8+JU2jU+UgKyUO8ZGhCAkMQGBgEIJCwhEek4ikTBVytVIZLcRIJosjERGRcrE4ypk4V1GngSY/G9lp8UiIDEbwIw88uO2MC4fWY9PsIRjSphqq//oFPv/3P/GPf3+CT776CSVrt8WgLR5wDNJAp9NBq85DfmYson2l5y0fjnkL12LMwXD4xT5fmvTQ5yUgOfAGLu+Yh8VjBqJvp3bo1LELuvQZgREzN2Cz82N4ROcgVyqcf7U6sjgSEREpF4ujXInSqFdDnZ2C1OhABHrdxu1Lp3DqwFZsXT0f8ycPh13f1mhZuyRKfv8lvvjsa3z9U2mUrtYEzXuPwawTj+EakYO8zBhEeF/DtWPbsHH2KIxuUQKW3UfAYtlj3AvLLngxqQjqc5Hqfxk3d06Dve0Q2AwZCftJUzBx0gRMGDMMdsOGot+4DVh9whN+aSrk6Qqe+oZYHImIiJSLxVGmDJo8qJICEHjPEWf2rMHqOfawt+6CLs3rok6lMihbqiRKlC6HchWroErNBmhg1RmdB43DuLnrseHwZdwISEJsegqy4h7g9vENWD/TAXa9u6BbzSKo23EwmjxfHA1q6NUxeHRqCdbZtETz/rPhsPUq3MNiERYhzcPtgzi+wg5dmvTA4Mk7cCwwA4n5f23MkcWRiIhIuVgcZUqfGY2ka8uwZnQr1K1YEsWKfo/vi3yFr776BkV+qYgKDTqg/aAJmLB4G7Yfv4wr93zh6x+KsKh4xKdkIjNXBXVOPDKj3XHzwiVcvHAdF07uxi7rcug/yObF4qjPhi77Pi6tGYvxLVqj75IL2PUg1XhIWqvNgzpLKo83t2Juy/oYYj0N864kICRd95cOV7M4EhERKReLo0zp08IQf3Ya5ls3ReUqtVGzSVu06WGNwaOnYsrCtVi76xiOXXTFbR+pLCZIRVGle/F7qQ16qXFlIj89GuEhUYiMTUb4w+u4MqE6Rg0d8mJx1KVDm3YZpxYOh22Trhi12x3nIjRPHoP0e/RJiH98Gtt71sKIgaMw7kQkHidpxNF0k8TFM/n5+cYFKyAgAP7+/s9y9uxZNGjQAPXr18eqVatw8+bNFx43FbFQrlq1GpUqNYCl5YJCFce+fZ1QrVo72NqOwKFDh+Dl5WXyNRmGYRiGeTliAOjWrVs4ceIEtm7dCh8fn4Kt/7tPxsXRAF1qGGJPz8TSkd1g2XEIBk7ehE1n3eAekYG0PDU0ej30UlEUJe35vOCFx7RIDbwJF5PFMQ3aVCccnz8Cgy16Y/xBT1yM0T55zFgcU5Ho74h9A2rBbpAd7A6H4lHCq4ujuCAnLS0N165dw+HDh3Hw4MFnWbx4McqXL48KFSpg7Nix2Lhx4wuPm8revXsxevRYlC5dE82azStUcezTx1F67Zbo0KEr5syZY9xbMvWaDMMwDMO8nAMHDmDHjh3YsGED1q5dC09Pz4Kt/7tPpsVRtDE9VIkB8N81DA7tK6JYqTooYzUV0/a4wjNNjRydVASfTPwGtEgLugWXiSaKoz4T2qybOLdsFOwsO2P41rs4Gax68g00UuHUa2MR7X0E6zvXxrAB4zDhTDT8k7WvnAdxaDkhIcG4N7JmzRrjyOLTTJgwAaVKlTJm0KBBxvL2/OOmsmzZcgwYMBDFi1dF06aFL45ly1rB0rKVVEZHY8mSJSZfk2EYhmGYl7Ny5UosXbrUuP1csWIFPDw8Crb+7z55F8ekAPjtHQb7VsXxfZHi+KTsMNhtuAaPTC1yfnf7xdfzB8XRkAddvj/u7JyK2Z2t0MFhJ5Y6BSMmS43s3HRkRt/GvWNzYde4GQbaLsTqu8mIyHr1LXnEiGNmZiYePHiAK1eu4NKlS88ihrVr1KiB6tWrY8aMGcYRyecfNxUnJyepKM5AuXK1/wcjjk6oXLk1evbsj9WrV+PcuXMmX5NhGIZhmJdz8eJFHD9+HLt27cL69euNp3y9L2RcHA3QpIUj/NwMzO1VFWV+/AX/+bkTuk/ZiaMegXgYEoHwyChERUUjOvrlxMYnIjlLhVzN89XuD4qj9Jhem47wq5uxz6E9WnYZicFzduP4TXfcuuOC68dXYdOUfmjVzBbD5h3DxahspL3wu18mDo8b7yGp1b4QcS5Eq1at0Lx5c+OQd2Rk5EvT/D7iApaDB49IZbMprKwKd47jk4tjOmPSpOnGczSysrJMvibDMAzDMC9HXMMQHh5uPB1NlEdfX9+CLf+7T9bFUZcdj+Q7W7FzYjs0r1QUX3z6A4qWqYt6bXqhl81I2I2bgImTp2LKtGmYNn06pj/LDMxbtgF7bobDN+G/3xwD6JAWfBs3ptWD/agRaLHKD27hOQWP6aWXVCMv3gd+lzdjzcTBGNKtHdq2skKLFi3Rsk1ndB1kj7GrzuHo3QjE5migfv5CnDfAq6qJiIiUS5RHXlUtQ7rMGCRdX40NI5uhdrEv8fE//g9/+/t/8K9PiuDbosVRTNzDsUJFVKxUCZUqVzamsjFVUa95d4zY6YkLwdoXimNuchhCzq/GqePHsOl6PCJTVAWPCdKE2ixkJzyGj/N+HF6/EPOmTcSUyVIxnbsKq3afwwXvWISlqaH5S+dYPsHiSEREpFwsjjJlLI4uK7HBviMsaldDpYoVULFiJakoVkaVqlVRtVp143mCL6cWGrXuhVG7veD8QnE0QK/TQJ2ThuzsLKTnaY0F8AUGPfRaNVQ5mchKT0VKchKSk5ORnJKGtMwc5KiePOdVV1O/DhZHIiIi5WJxlCm9Oht5Md54ePsizp46YTwR9XVz2vEybgUkIypDX6iS9/8CiyMREZFysTjKlEGvg16VhZyMZCTGhiPS3w0eNy7A6eQhHNq7Ezu37cSuvcfhePcxvHx94efhiiu3PHH/URiiklKRmquBSiuz1ihhcSQiIlIuFke5Muilf9RQ56YiOcIHj67ux6E10zFtRD/069IWbazaoUPPsZh33EMqjDdw//RWLNt4FHsveeNhfBbS83XQ/qXb9vy/xeJIRESkXCyOciVKY2Yogq7uwO6pfdC9WR3UrVIB5UuXQIlffsSP3xVHiRodMWTzFezZtxW7HVrDqoE0TTs7DJxzAucfJSJO9dcvYvl/hcWRiIhIuVgcZUdUPQP0eSlI8TmKI3N7oUftEvju+7IoU6s5WnXsjN4tKqFa8V/xTYmm6LPWGTuPHsCBaR3RofI3+PXn8vit4TBMOOgJ1yjx7S9PfqtcsDgSEREpF4uj7Iimp4c6JRhBR8ZiSocy+PXHYviy2iD0nbUPRxzP4862IRjdtgZ+KNEM/Tdex7F7vnA7vRpr+1dF05Jf4bOfqqHxlHPYdS8NOpk1RxZHIiIi5WJxlB1R9HTIjXsEt7W9MLTh9/ihWDWUHrQHy84GIDLEB3Gnx2Fal7rG4jhg822cCUhHtO81eK7qhCGNfsIn35RGpWEHsf5qPLQsjs/C4khERFQ4LI6y86Q45if4wWe7NUZZ/oyffiqDoq1mYMza87h8xQn3tg3GyNbV8O0v9dB1wTFsc74Hl1ObsWdUQ7Sr+B0+/aEy6k08hR13Ujji+FxYHImIiAqHxVF2RNHTQ5sRhegri7F8SEPULFYUX/5QHTXbDMYQ+4mYY9sUraoXw+dFyqBen/EYNmkyHAa3R8vy36P497+gaPUuGLz1Li4E5/Ecx+fC4khERFQ4LI6yI5qeAXpNNnJi3XD34CzM7lkbFX/4Gt998z1++PlXFP/pS3z9yX/w939+hM9FUfz1V/zy47f4/OOv8UuNrmg98QCOPIhFVI7e+NvkhMWRiIhIuVgc5cqgg06VjpQgV9w9thorJg6Bbc92aGvZCA3r1kTN6lVRpUpVVKtRG3UaNkOztt3RZZA9Jiw/jL0uoQhNzUO+3FqjhMWRiIhIuVgc5c5gkApkFlSJAQi464hz+zdh44oFWDBrKqZOmoBJU2Zh1uL12HjwIpx9YxCWmg+tXn5fNfgUiyMREZFysTjKlgEGvRY6dTayEqMQ5nEPD3184B0cAn//h/BxPY/Lh1Zj1ZxJmGjvgAkzlmHxdkecvx+C8HQVcjV6yPCLY1gciYiIFIzFUaYMeg00ObGI9r6My3vXYenUOdh01AVXIjORkhwMvyu7sHv6INh2aYHmTRqhsUUrNO9kDZupG7DmpDs8YzKRoeU3xzwfFkciIqLCYXGUnYKLY9TpyAxxhuOq4RjatCpK/lYL7R22YeOdMAS67cOeKZ3Q/NcvUPSrr1Hkh5/xS/FiKF70O/xctjGqdZmL1VeC8ChNK7tD1iyOREREysXiKDui6emhSQtHxLlZmN+nOsr//As+L9UW3WYfwr7r7ri1yQbjWxXDV//6Nz7+qhJqtB0Ea/tRGNu+AuqXLooipS3RdbkLTj7KgY7F8VlYHImIiAqHxVF2RNPTIT/+Mbw398eIpkXx46+VUbrnCsw6dB0uN89g7/D66FDqI/ztX1/jqyoDMGD+QRy7cBxXl3XG4MZSyfyuHGqOPY7NN5P5zTHPhcWRiIiocFgcZedJccyN9cX9Vd1gU/97/Fq+EZrMuYYdV13h5rQUk5qWQOXP/oF/flkCpXquxoIT3gh4eAuh+20wvk1pfPltGVQafgDrr8WxOD4XFkciIqLCYXGUnf+OOPps7g87i6L4qXh1VLDZhhnLlmLnrI5oWuIrfPWPj/Fp0XpoM+8M9tzwhdeVPThi3wQdK3+Lz36oiHqTzmD73TR+5eBzYXEkIiIqHBZH2RFFzwBNeiQiLy7AkgF1UKPEr/ihRic0sWyKTg1/w4+ff4SPvq6IUlbjMPOoK847n8SxBQMwsF5RlPmlBH6s0RNDd9zD5bB8fuXgc2FxJCIiKhwWR5kyaDORHXkVTitsYVO7KIp+KZXFDz/Eh//5GB99+g1+qmeNdrMu4oKXL+4cno2F7X9B8SKf4MvSrVHPehsOPohFjOpJDZUTFkciIiLlYnGUKXEfR21uPOL9b+HW8c3YMG8Cpoyxwwg7e4ybvgqr9l+Gs3c0whPiEOZ6BGdXjsPIcTMxbd0JHLsTZvzKwTwZ3gGcxZGIiEi5WBzlzCA1P10u8lLCEe55BdfPHMahvfuw94gjzl+9AzdvX3j7PoSX6xXcvHAKx5zdcScwEalqAzRy/NoYCYsjERGRcrE4ypVBfOWgBuqcFKRGPkbAfWc4H92B7asXY/G82ZgzazZmzZ6P+YtXYsW6rdh+4BROu3jAPTAWMen5yBNfOSi349QSFkciIiLlYnGUK4MWuvxkJPg4wXnjRIzr2RJtGtZCrSoVULFcGZQtXRqlpZQpWwEVKldH9XqWaNxmIIbM3o1t18IQkpoHNYvjC2FxJCIiKhwWR9l5clW1Lj8dGUHOuLhhNEa2qoRSX3+Ob775CT+WqoRKNeqgbv0GaNigAerXkUpjheIoUfRbfPbZj/iteie0t9+Mna7hCOJXDr4QFkciIqLCYXGUnSfFUZMahrDTUzCrR2WUKPI1PvqyNMo17o7uY+Zg9oqN2Lh1B3bt3I6t65dh6bRhGN6lPmr+8iW+/bQIviljiW4rXXDyMb9y8PmwOBIRERUOi6PsiKanR178Y3hu6ocRFj/i+5/KomjbuRi/0Rk3vf3hHxqB8KhoREdHITI8GCF+HrhzZhO22FRHy9Kf4+PvKqDWuGPYciuJNwB/LiyOREREhcPiKDtPiqMqOQiP94/CxLalUapUDZTotxvLncKQotZBK03ytA4aDHrjPR8THznBaUIDdKv6Pb74rT5azjmPAx785pjnw+JIRERUOCyOb5u45Y5BA40qFzlZWcjKzESmlPSEIIS6rMKKIY1Rv2xl/NxiLibtdIVPbAqS0jKM0xiTnoI08fWEzpuwsnsFWJQpjaK1BsLhqDdc47T85pjnwuJIRERUOCyOb5s+F3pVEB5dP4Eja5Zj1dKlWCplyaI5mDdpCGza1UbdUj/hi58qo0LjLug+1AETZi3A/MXSdEsWYv6siZho1wd9WtVFjV++RfHSNVGtyyTMPxsA93gdi+NzYXEkIiIqHBbHt02XCm32dTitHY+RTeujSe1aqFWrIDWqo1rZX1H8u4/wr7//H/7+n8/xybfFUKJCNVStWQu1a1VH1QolUeLHL/Hlh//A3//vX/jk+zKo2NoWDgce4noERxyfD4sjERFR4bA4vm2iOGZdxZnldhhSpypqVayAChWepHz58ihftjTKlCqO4sWKoVjxEihRqgzKlJP+3DiN9LOc9N+lSqJkcenxYsWlx8ujerPuGL7DExeC36w4GvRaaPOzkJEUg9iIEAQHBiIwMAhBweEIj05AQkYectRPbiz+V/soiyMREZFysTi+bfo86FXhCLx7Aed3bcOOLZuxeXNhshU79x+Ho1ccglN1b3AfRwMMqmSkhbrCZc9iLJ9gg4E9OqNb157oMWA0Rs/ZjK2X/eEVk4t8rZ7FkYiI6D3E4vi2GaRyp89HblYaUhPikRAfj/iXEov4uCiEBz3CI487uHPjKq5dvgRn58u4cu0mbt7zgufjYIRFxyAmTvodSSlIzVEjT/O69U58vaEaWeG34XF0Hqba9Eafrl3Rs09f9O0rpWd39O5jjT4TtmOD4yMEZ6qR/xe/C5vFkYiISLlYHN82MSRo/F5qPfQvRAedTgutOh/52SlISwhBwP1LuHx4M7asnI8Fs2Zg+vRZmLNoNVbvOI7jVzzgExaHuLQcZOdLz5N+h+G1hxulaXU5iLy6CXvHWqGOpVQSZ+6Ho28EHgd6w8dxLbaP74z6NaQSOe0QHGNykKoteOobYnEkIiJSLhZH2ZLKozYPufG+eHxpKzZMHgibTpZoWq8GalapiIrly6FcufKoUKkqqtZqgEYtu6GTzSzM3X0VV4IzkZKrlX7D6xLFMRfRVzdi39hmqN7UBn3nnYBLeBqi4kMRdn0rDkzpgnpVe6P35INSccx+reIoiuvvIxawp8Xx8OHDiImJMTnd81Gr1dK0x1C9elOpOC74HxTHzpg8eQbu3LmD3Nxck6/JMAzDMMzLEYM5kZGRxuK4a9cu+Pr6Fmz1332yLo4GqTTmJz00jvatHdkalqWL4Odvv8PXP5dBmco1UbNOXdSrVwe1a1RCpVJF8euP3+HzH6ugeofxGLvhEq4GpiAp/3XPRZQWBr0KqT6ncGmVNbq26YLOAxwwY802rN+4Bmtmj4RDv45o2nE6Jmy6DveUfGTrCp5qghgxFQtWcnKysRg+n6tXr6JJkyZo3Lix8ZzMBw8evDTN7xMeHo5Nm7agcuVGsLScX6ji2Levk1RAO2DkyHE4e/YsgoODTb4mwzAMI+9ER4tvUGPMnYiICOO2+9y5c9i2bRt8fHwKtv7vPpkWR1H1DNDnxCPJfSs2j22BRj9/jc8+/ho/VbJEk34TMGHReqzftgt79mzH1rULsGBcb/SzqohS336KL74qjWJ1bTDphA9uJ2he76pq8e0zunzkxHrA+8wSzOndBC2qlUHxUmVQunRplC5VAZXqtkeHyXux+WowIjLUUP3Bl2DrdDrjzcnv3bsHR0dHnD9//lnWr18vFcDKqFKlCiZPnoy9e/e+8LipnD59GpMmTUGZMrXRrNm8QhXHPn0cUalSK3Tr1gfLly/H8ePHTb4mwzAMwzAvRwy6HDp0CNu3bzdu0728vAq2/u8+GRdHPVRJQfA7MBIT2pbEz9/+io8rDkDvGbtx/JYnHviHICQ8ApGR4QgL9oOf5zU471uA2e1Lot7PX+LzX+qh+WxH7H/drxwUV3bnBsDrjBjd7IcBNg4YPWsN1u/cj917dmDH+gVYNGUYBnTph1Gzd2DX/UTEZmlfOZopzn9ISEjAsWPHsGrVKixbtuxZxo8fjxIlSqBUqVIYMGCAVOZmvvC4qSxevBj9+vVHsWJV0bRpYYvjeZQtayUV0JYYNWoUFi5caPI1GYZhGIYxHbFdFlmxYoVx9PF9IePiqENe7EO4r+0B24bf4svvy+FTi8WYecgHsWodNE8mLCC+sjALCY+ccHZUDXQu8yE++rYMKtsdwgaXBGhfpzjqMqFNv4kLq0ZgaOPGsBq6HvNO+CI4ORtpGYlIDr6GG3smY1iDymjfYzzsT4TBP0kDwyt+tSiOqampuHbtmvE8xoMHDz7LkiVLUKlSJVSsWBFjx47Fxo0bX3jcVMSo5OjRY6WyWfN/MuJYoUILdOjQVfqz2cbzM0y9JsMwDMMwL2f//v3G0cYNGzZgzZo18PT0LNj6v/tkPeKYn+AH723WGGVZFN9+VxKf1HHA6PWX4B4Rj9iUdKRniO+qzkBGWjJSE4Lx8OpubOtfEc2Lf4JPfqiCehNOYfvt5NcbcZSKoy7jNq5sGo+xrVugtc0iTNlyEdfcvPHAyw3u14/g2LrxGGJZD90GTsfUU+EITFa/sjiKk2dFeczKykJaWpqxRD7N7du3YWlpiaZNm2LHjh14/PjxC4+bihi93LFjF6pWbVLoi2PEOY41a3aUSusEODs7G8+TMfWaDMMwDMO8nMTEROMdUi5cuGAskLw45q0TbUwqXpmRiLqyEIv710SFb77Gh99UQfW2w2C3YCu2Hj6Hc85XcO3qJVw8ewiHN8/D3OEd0Krc1yj6xfcoUqY9Bmy5jQuhea95jqMaelUswm8fxrGFI2HXvxe6d+mKbp07o7OULl27omuPvug6cCJmbDyPCwHpSMn9g6tj/gBvx0NERKRcvB2PTBnUGcgKk4rh+jEYYVUJ5b77At8XLY3iNVugRdf+6DfYVipQNhjcrwu6WNVEnTI/4esvv8dPFVrBcshqbLsdgcDM17+qGgYN8pOCEX73BI5tmIcFE0dihM0gDLaWXmP4OIybsRJL91zFJe9oxOdqoeYNwImIiN47LI4yZTDooVNlID3oCm5sH4cRlmVQ9eev8Pmnn+LT3+eTT/DZVz/hq5LN0HrsJqy/EYPQtHxoXnUs+SVPRjkN4qbjWhVU+bnIzclGdlYWsrKykZWdg5zcPOSpNFBr9dBLv/e1f/XvsDgSEREpF4ujbIkip4U2OwFJoW5wu3QUR7Ytw/JZ9rAfYQ3r/n3Ru09f9LMehmFjp2Pa4k3YdOgCLrgHIzApHzma1x1tNC8WRyIiIuVicVQCg06KVAaTIxD1+B7uulzAxXOncerUGZy9cBVX7/jCJyQBybkaqMRF1nJsjAVYHImIiJSLxVERnhxK1us00KjykJebg5zsJ4eRs8Vh5DwVVGqt8QpqGXdGIxZHIiIi5WJxJLNicSQiIlIuFkcyKxZHIiIi5WJxlCtx5bK4yllXEHEY+tlxaPGYvuAx6acCDlE/xeJIRESkXCyOsvPf8xlVORnISk9FWnoWMvN1UItrZAx6KWqoc7ORmZqGtLQsZOWqoBZF88kvkDUWRyIiIuVicXzLDNo86DIiEBX8CJ4PvOH90A9+QSEI8PeB28XDOLl3K/YeOQvHh6kITdNDr8+HTh2BYDdnnNuyA3t3OcLZLRjheRqpPBb8UhljcSQiIlIuFse3TJ8Th3y/IzixcS4cxkzCpNnLsGzjDqxfuwSTOlVCg98+xa/VWqLD+kc46a+GWp0CVYYTjszuidafFkHxnzqi55yjOJeQjYy/+G0u5sTiSEREpFwsjm+ZPjsaeQ93Y+9cG3Rr1hiN6tZD/YaNUK9OTVT8+XMU+fBv+Ojrn/FLU2t0Gj4TMxfMxdLldrBuUwPl//Exvv6qMVqMXo9tnqEITs1BVp4aGul/qlZvMH7Di9ywOBIRESkXi+NbZshLhircGc67FmDa8AHo360DOra2hEW9qqjw06f46j//H/754af49JdKKF29ERo1bYrmLWujWukf8M3f/oWPPiqDii0GwWbReqzbcwSHT52H45VbuPUoBpEpebK7GTiLIxERkXKxOL5lBq0Kuuw4xIf746GnBx6438Ht6444vWMRJrUtgxrf/wOfFfkZxZr2Rcse1hjUtxO6tq2FGiW/xVf/93/4598/weff/YrfKlRGpSrVUb1OIzRuPwADl1/EKfdE4xXXcsLiSEREpFwsjm+ZPi8F6vArcDmxA2tWrMXaTduxXfofsWXVXIxtVRrVv/8XihSvgXr2+7Bg/1VcvXwCjsdnYVLPeqj6j3/hy49KoVyjjug20g7Dh1tjcP8+6Gs9AiNWX8JpFscXwuJIRERUOCyOb5k+Kxp5PruwZ/5w9GrXAR06dUP3Pv3Qo1sHNKvwHX797B/44udKqGazFlM3n8P5i6fhfGEpZg+yQO1/foRvvqiDxv2mYs6hYzh08giOHtiNvfsOYv/lR/AMz5DdeY4sjkRERMrF4viWGfISoQp1hOPWWZhg3RM9O7RAi8Z1ULtiSfxW5CN8+q//D//4zyf49KfyKFm1IRpYWqJV+waoXf5nfP+3f+PjT8qjatuhGLlqB7YeOYszztdx/b4PfMKSkZCplt29HVkciYiIlIvF8S0z3scxMxKRfm64c+0inM+dxMkju7FtxRSMsCyOyt/8HZ98+R1+qtkGDVp3RZeOrdGuRU1UK/Edvvq/v+Ff//gCX/1cFhXqW6BJy3Zo26k7eg0Zj/FbruOCbwr0PFT9LCyOREREhcPi+LaJQ8kGPfQ6LbQaNdQqFdT56Yjzu4qDoxuiQ7nP8XOZmmhgtxaTVu3B7i0rsHahLQa2rI5yH3+Crz/7Gb+Wr4k6zZtLpaopmjZuKBXILug8+zT2u8bxHMfnwuJIRERUOCyOcmMsknlIC7+Ls9PboX/9YqjRtBv6bH+Es365yM1JQHbSBRxfOBg9fiuJauW7oe+0zdjlelP6n+gIp2O7sXfnDmw/64m7gak8x/G5sDgSEREVDouj7Iiip4MqKxGRHs64fvYwTjlexfXADERliq8cVEGvjkWEzy1cO3wUp45fw/UHgQhJTkJiYixiI0MRGhKEoKhUJGWqeI7jc2FxJCIiKhwWRzIrFkciIiLlYnEks2JxJCIiUi4WRzIrFkciIiLlYnEks2JxJCIiUi4WRzIrFkciIiLlYnEks2JxJCIiUi4WRzIrFkciIiLlYnEks2JxJCIiUi4WRzIrFkciIiLlYnEks2JxJCIiUi4WRzIrFkciIiLlYnEks2JxJCIiUi4WRzIrFkciIiLlYnGk5xhgMOig06ihzs9DXm4OcnKk5OYiN08FlUYHrV6apmDqv4LFkYiISLlYHOm/dLnISwlF8M3jOL11MRZMsceEcfYYN3E2Zq/ci33XAuETk4N8rR76gqe8KRZHIiIi5WJxJIlB+keL/KQAhLgexP7lUzFtxAD079YBndu3Q7t2HdG591AMmrIL2y48RnCGGvn6vzbuyOJIRESkXCyOJJVGndQbMxB9YydOzOmHPqMWYtKGs7jk5g33B/dw/9JOHFxqh26Ne2KoVB6PBWciUcXiSERE9L5hcSRAnwddnh/u7pqLeZ1bosdwB9hOnYP5M6dgyvgxGDtiMIba2qLP0CVYut8VHon5yNayOBIREb1vWBwJBl0GNOlXcHrxKAyq0RCdBtqi7zBb2PbogI4tLGFp2QKtug5G/yk7sMXJFwEpKuT+QXE0GAzGBSsjIwPJyclISkp6llu3bqFZs2awsLDAtm3bjAvc84+biiiX27btRJUqjaV5mV+o4ti3r5NUQDtizBgHXLhwwbjwm3pNhmEYhmFeTnx8PHx9fY3b0O3bt8PHx6dg6//uY3EsYNCkQJNwGkdm90KHcpVRrcNE2K08AadbbnC9cwM3nXZh//KxGNi8A2wc1mGrRwqis/WvvLpap9MhMzMTbm5uuHjxIpycnJ5l06ZNqFq1qjFTp07F/v37X3jcVM6dO4cpU6ahTJk6UumcV6ji2KePIypVao0ePfpi5cqVOH36tMnXZBiGYRjm5Tg6OhqPGO7YsQPr16+Hl5dXwdb/3cfiWMCgSYUm8SyOzumFblXrotmYPVh+KRwJ2Wrk5ucgL8UP/lc2YX7b2hg4cDwmnI2Af7IGhlc0RzHamJiYaCxlGzZswNq1a59l8uTJKFWqFEqXLg0bGxvMnz//hcdNZdWqVRg0aDCKF6+Gpk0LXxzLl2+OFi3awN7eHitWrDD5mgzDMAzDmI4YeFm2bJnx54MHDwq2/u8+FsendFnQZrji4srhsGtmgQ5TjmCtSzSSczXIU+VBlRmKkFu7sbJrXQyxtofD6XD4J/1xcUxJScGVK1dw8OBB46jivn37jFm0aBEqVqxozJgxY4x7K08fe1XEORSjRo2WCmeNQo84ikPVFSu2RPv2XTBr1izs3LnT5GsyDMMwDPNy9u7dazzVTGy/V69eDU9Pz4Kt/7uPxfEpvRp6VTR8jszBku51UbPNOAxZeRF3ItIQm5KAxEBnuOywR7/aDdFzyAKsvp+EiCzdK4vj03Mcs7Ozjec5Ph9xQYqVlRWaNm2KXbt2wd/f/6Vpfh9xnuSuXXtQrVoTWFouKHRxrFmzI8aNm4jLly8bz9Uw9ZoMwzAMw7yc1NRU+Pn5wdnZ2Xi4Wpzv+L5gcXzKoIdBl4MUvyu4sWsmJg2zweBBQzB81GiMHDMao0cOxYjhwzFg5CIsPXAD9+Jykal+9cUxf4RXVRMRESkXr6qmJwwG6FUpSAu/gxt7F2LZ2H7o1dYKLZu3RIuO/dDPfhmWn/bCnfAs5Gj00L9quPFPsDgSEREpF4sj/ZdBC50qG1nJsYiLCEFwgL/xULJ/YAhCIuMQl56LbJVOKo0F0/8FLI5ERETKxeJIZsXiSEREpFwsjmRWLI5ERETKxeJIZsXiSEREpFwsjmRWLI5ERETKxeJIZsXiSEREpFwsjmRWLI5ERETKxeJIZsXiSEREpFwsjmRWLI5ERETKxeJIZsXiSEREpFwsjmRWLI5ERETKxeJIZsXiSEREpFwsjmRWLI5ERETKxeJIZsXiSEREpFwsjmRWLI5ERETKxeJIZsXiSEREpFwsjmRWLI5ERETKxeJIZsXiSEREpFwsjmRWLI5ERETKxeJIZsXiSEREpFwsjmRWLI5ERETKxeJIZsXiSEREpFwsjmRWLI5ERETKxeJIZvVXi+PhwyyOREREbxuLI5kViyMREZFysTiSWbE4EhERKReLI5kViyMREZFysTiSWbE4EhERKReLI5kViyMREZFysTiSWbE4EhERKReLI5kViyMREZFysTiSWbE4EhERKReLI5kViyMREZFysTiSWbE4EhERKReLI5lm0ECbn4I4n8u4dvwg9u1zwvXgJETn66HVGwomenMsjkRERMrF4kgvMkil0KCFJicRyaG3cHndMIxsaYE6dWww+awvbqXrkc/iSERE9F5icaTnGKTOmCeVxmiE3DqK04uHY/KwDrCq2wx1a9tgCosjERHRe43FkQqI0piNnAQ/PL60B4fWLsCsSRMwZ6Yt+nfsAst6tpjO4khERPReY3EkGAw66DVZyIjxhe/VA9g12x5z5q3G7L0uuOy4BmsnDEGnJsMw69zrFUeDwWBcsDIzM5GamoqUlJRncXV1RbNmzWBhYYEdO3bg8ePHLzxuKgkJCdK0O1G1ahOpOC4oVHHs29cJNWt2xNixE3Dx4kVER0ebfE2GYRiGYV5OYmKisSxeuHDBuB338fEp2Pq/+1gcC4iRRnXiA9w7uhqrJtpj/JJ92ObsA//oWMR478HuacPQzWL4axdHvV6PjIwM3L9/37hgOTo6PsvGjRulAljVmClTpmD//v0vPG4qZ86cxeTJU1G2bG2pdM4vZHF0ROXKrdGjRx+sWLECp06dMvmaDMMwDMO8nPPnzxuPGIrSuH79enh5eRVs/d99LI5GBmgyY5F4cz22jGuP1nVqo27HoehnPxdLls7Hgkm90cuyLiqXqIfmgydi0q6LOO2VjKRsbcHzXyZGG5OSknDu3Dls2bLFWBafZvr06ShdurQxtra2WLx48QuPm8q6deswePAQlChRTSqO8wpVHPv0cUT58s3RsmVbTJgwAWvWrDH5mgzDMAzDvJwNGzZg9erVxsGXVatWwdPTs2Dr/+5jcTTSQ5USjvCTM7BiqCUa16qKKlVroFrNWqhdqwZqVi6O4j9+gy8//RY/la6KRkMWYNqJUAQnqaTKadrT4igOBYvzH3bu3GncMxGZO3cuypUrZ8yIESOwcuXKZ4+9Klu3bsWwYSNQsmT1/0lxrFChBdq27YipU6di06ZNJl+TYRiGYZiXs337dmOBFOWRxfG9ZIBenYe8+ECEPXLDvTuuxvMQRW5dv4hLB2ZixoCOsKjWCdZL9mH7nSD4xuYgR60veP7LxDmOarUaycnJiImJMZ5H+DRXr141nt/YuHFjY2l78ODBC4+bSnh4uLSQbkaVKo3+J+c41qjRASNHjsOZM2cQHBxs8jUZhmEYhnk5ERER8PDwMB5V3LZtG89xpP8yaDKQHbAf+6a/2TmOf4RXVRMRESkXr6qmVzJoMpETfALHl0yCbdfJWH7JH/cz9FCxOBIREb2XWBzplQx6DbQ5cYgNfgwv98cITspGmsaAQvRGFkciIiIFY3Eks2JxJCIiUi4WRzIrFkciIiLlYnEks2JxJCIiUi4WRzIrFkciIiLlYnEks2JxJCIiUi4WRzIrFkciIiLlYnEks2JxJCIiUi4WRzIrFkciIiLlYnEks2JxJCIiUi4WRzIrFkciIiLlYnEks2JxJCIiUi4WRzIrFkciIiLlYnEks2JxJCIiUi4WRzIrFkciIiLlYnEks2JxJCIiUi4WRzIrFkciIiLlYnEks2JxJCIiUi4WRzIrFkciIiLlYnEks2JxJCIiUi4WRzIrFkciIiLlYnEks2JxJCIiUi4WRzIrFkciIiLlYnEks2JxJCIiUi4WRzIrFkciIiLlYnEks2JxJCIiUi4WRzIrFkciIiLlYnEks2JxJCIiUi4WRzIrFkciIiLlYnEks2JxJCIiUi4WRzIrFkciIiLlYnEks2JxJCIiUi4WRzIrFkciIiLlYnGk/zIYYNDroJMWCq1U1tRqdUE0UnmT/kynh15MUzD5X8HiSEREpFwsjlTAAF1+BrLig+Dv5oLrF87g9PGjOHb0GI6dPIdzl1xxyzcSYUk5yNOKAlnwtDfE4khERKRcLI4kdUa99I8KWVEP4OO4HqunDMXQXh3RvqUVmls1R/PWHdGp30gMm7sPe674ISRdjXzdX2uOLI5ERETKxeJIUnFUQa+KxKPz67BpdA/0GjwRI2etx5a9B7F3307sXD8HCx0GoHOL7hgybTt2e6UhNkcqmwVPfxMsjkRERMrF4khPiqM6Cn5X9mDfgumYveEcDruGIy5ThezsFKSFXMLNXWPQu1o1tO09A3OuJiIkQ8fiSERE9J5hcSTjRTEwaKDKTkdGUiKSUrOQkauGRlo41DmpSA+/hjuHp8PWojn6DVuKtXdTEJn1xyOOer0eKpXKWMyej4eHh7E0WlpaYt++fQgNDX1pmt8nMzMTe/ceQLVqFlJxXFDo4lirVidMmDAFLi4uSE1NNfmaDMMwzPuRnJwc43YmIyPjfxLxu7Kzs5Gbm2vy9ZSerKwsBAcH48qVK9i5cyd8fX0LtvzvPhbHP6SDTpWGhEeXcGn7TMwe0Q/dB8/B7F3XcTcmF5nqV9dGURrFB/Hx48fGUb07d+48y/79+6XiVgs1a9bE/Pnzce7cuRceN5WbN29i3rwFKF++nlQ45xeqOPbt64QqVdpgwIDB2Lp1q7E8mnpNhmEY5v3I5cuXcfz4ceNghhhBK0z27Nlj/F3Ozs5wdXU1+XpKj/h7OTk54cCBA9i0aRO8vb0Ltv7vPhbHlxhg0KmgyYpFbOA93HM+jMNbl2LRtAkY7zAbc3Zfx4WHiUhV6aD9g+FGnU6HlJQUXLhwAbt27cKOHTueZc6cOShbtizKlSuH4cOHY+XKlS88bipbtmzFsGEjULJkDTRrNq9QxbFPH0dUqNACbdp0xNSpU40LvanXZBiGYd6PLFiwALa2Q9GjR2/07DkYgwZNgLX1xDdO795D0alTV2kbNcy4rduyZYvJ11N6tm/fjo0bN2LNmjVYvXo1PD09C7b+7z4Wx2dECxT3cNRAnRmHVD9HOK6zx7hOTdCh12gMX3IMx9yiEJWeD7XOAP2TJ72SOCcxLi4Ohw8fxrJly7Bo0aJnGTt2LEqUKGFMv379pAI47YXHTWX+/AXo1asvihWrgqZNC18cy5a1goWFlbG4zp071+RrMgzDMO9HBg2yRpUqNfDTT2VQpkxrNGs2A5aWs944lSt3wxdf/IBq1WpI25o+xvJo6vXehYiyvXDhQixfvtx4Ctr7gsXxGXE7njxkRtzDg1OrsXiiPSZMnI3Za3Zh16lruOYVipDEbGTnqaHR6aDT//FNwMWhanFuR1hYmPGkWR8fn2c5ceIE6tevj3r16hlL5dWrV1943FQePHiApUuXo2LF+tKHs/CHqqtWbYfBg4dh7969uH//vsnXZBiGYd6PrF+/ES1adJQKXzdYWS2VtjEeGDbM643Ttu1GlCpliQ4dekrbrKXGU7VMvZ7S4+XlhWvXruHo0aPYvHkzD1W/jwy6PGizgvDIcQVW2VqiToWaqNvCGoPnbcO6PYdwVCp7J06cNObCLW88iMpBZv6fjTuaxquqiYhIThwdndCjx2A0azYevXqdw6xZOpPbkD/LwIHXUKvWQAwePNa4fRMXyLyLeFU1waBOhzruEi5uHIuhljVRo1x5VKhcEzUbWKBx02awtLIyxsqqJfpOWoeVV+IRnqY1Xoz9plgciYhITlgc3wyLI8Ggy4cuKwxhXi64dOIwjhzYb7z6+cUckHIIp6+64V5YNtLzOOJIRETKx+L4ZlgcqYABBoO4QEZvPEfxlRHT/IWRxqdYHImISE5YHN8MiyOZFYsjERHJCYvjm2FxJLNicSQiIjlhcXwzLI5kViyOREQkJyyOb4bFkcyKxZGIiOSExfHNsDiSWbE4EhGRnLA4vhkWRzIrFkciIpITFsc3w+JIZsXiSEREcsLi+GZYHMmsWByJiEhOWBzfDIsjmRWLIxERyQmL45thcSSzYnEkIiI5YXF8MyyOZFYsjkREJCcsjm+GxZHMisWRiIjkhMXxzbA4klmxOBIRkZywOL4ZFkcyKxZHIiKSExbHN8PiSGbF4khERHLC4vhmWBzJrFgciYhITlgc3wyLI5kViyMREckJi+ObYXEks2JxJCIiOWFxfDMsjmRWf7U4HjnC4khERP97LI5vhsWRzIrFkYiI5ITF8c2wOJJZsTgSEZGcsDi+GRZHMisWRyIikhMWxzfD4khmxeJIRERywuL4ZlgcyaxYHImISE5YHN8MiyOZFYsjERHJCYvjm2FxJLNicSQiIjlhcXwzLI5kViyOREQkJyyOb4bFkcyKxZGIiOSExfHNsDiSWbE4EhGRnLA4vhkWRzIrFkciIpITFsc3w+JIZsXiSEREcsLi+GZYHMmsWByJiEhOWBzfDIsj/ZdeDU1uKlKiAhHk4wG3O7dx585d3HXzgpdfOCKSc5Cp0kFvMBQ84c2JBaxly5awtLTEwYMHERMTU/DIq73t4miQ/r75+fnIzc2FWq2GXq8veES+xDyL903Ms0qlMn7QxZ/JnU6nM86v+P8i3mslzLNYHp6+12K+lTDPYh7FfIv5FRs3sXzI3dN5FsuHUub5KbF8ZGVlKWaZFsT7K95nse4T77tSPotifp+uP8R/v463WRzF+yrmVcyzmHexDpQ7sWyEh4fj8uXL2LJlC7y8vAoeefexOD7PoIc+Nw6JfpfhuGEqZtl0RQerJrBs2gLNO/RHf4cVWHXOF/cis5GjkVYiBU97U6I4itLYqFEj7Nq1y7jX8mfednEUH+SwsDA8fvwYCQkJxg+33IkVpphXPz8/REZGIjMz87VXom+LWIGKFW10dDQCAgKMOxVKWImKlX5ycrLxvQ4ODlZEoRHvqyi6gYGBePDggbHUyJ1YPkRpjIiIgKenJ9LS0goekT/xWXRzczMu02J5UYL09HS4u7sjNDTUuKwo5bMo1tVBQUGIj483Li+v420WR7F9i4uLM647RBkTn0W5l3TxPoujh+LvOH/+fNy5c6fgkXcfi+MzUhHU5yDJ9zyubLTHCGtb2IyYhJmLlmLhovmYN20MHOxs0GvoCiw+eA8+qSrk/MV1iCiOzZo1k0pgDSxbtsz4Yfkzb7s4iqJ4+PBhLF++HNeuXTOukOROlBdxGGHVqlU4duwY/P39je+jnIl5DgkJwalTp7B+/Xo4Ozu/9or/bRKl8ebNm1izZg327t2LnJycgkfkS8yj2Lhu2rQJc+bMMZYDuRPFRXz2xGdx1qxZxnWJ+DM5b2TFvInl+tatW5g4caJUUByRmpoq+2IgiB1lBwcH7Nmzx1jGXmdd+bZlZGQYlw8xCnblyhXje/063mZxFEXx0qVL2LZtm/E54r2W+06+WBbE+ztb+kv37NkTZ8+eLXjk3cfi+JRBBb06Cj7HFmDVACtYDVyASbtuwTc2BbFx4YjwOI6za0ehW6MuGOSwBQf9MpCQ/9dWfE+LY8WKFaXyN824cvozb7s4ig//0w+IGCUV5UbuxHu2b98+9O3b17hHePv2bdmXMDHPHh4eWLx4MQYNGoStW7caRzrkTozoisI4YMAAabmaYhypkTsxj2KZGDZsmPGcYyUcahLLhyi7ojRaWVnBxcXFWMrkXhzF6IwoM3Xq1MG6deuMI+pyLwaC2BkSO/gTJkxQzKh0UlKScV09YsQI7Nix47XOoRfeZnFMSUkxrutGjhwp/Y7Zxs+i3Ed3xY7n0aNHjetpsVzv37+/4JF3H4vjU/osaLPv4OLK0Rhr2QYDVl3Bft9MqHR6aQFWQ5sXirB7u7C4TV3YDpqEWc7xCE6T9vQLnv4mnhbHChUqGDeySimO06dPR+fOnY17ha8zSvq2ifdMnLTcvXt36e8+2zjioYTiKA7niaIrCq8YDVPC6J04vCR2KHr16mXcyCrhEKqYR7FMWFtbG08dEcVA7sTyIQ6tT506FY0bN8bVq1cVUxwPHDiAqlWrGo8AKKU4iiMWYgd/7NixxkPW4nQXuUtMTDQOSAwZMsQ46vg659ALb7M4iiMWGzduhK2trXE7I07DkHtxFH8vsTPUv39/486F2HF+X7A4PqVLhzbtEk4tGAFbi24Yvccd5yOfnqclreD0SUh4fAY7etXCiIGjMPZ4BB4nihV2wSS/I1aKz58/JVY6TyMWtpo1a+K7774zXlm9efNm4+HfP4oYxp8xYxZKlKgorch6SBu6peja9Qh69jz9Rune/QQaNZqG4sWrSyuJ3sbDoRcuXDD5ms/n/Pnz6NKlCypVqmRcIYk9WVPTySniPbOzs0O5cuXQpk0bLFq06LX+rm8z4tD0ihUr0L59e+MGa/DgwcZDe6amlVPEobyhQ4eiWrVqaNu2LU6fPm1yOjnl5MmTxmWiSZMmxvdalHRT08kpYpkWn70ePXoYP4vi1BGxzIgCaWp6OUTM28WLF407ySVKlDCWA1EixWE+U9PLKStXrsRPP/1kXH+IfxeHI01NJ6eI03LatWsnlbdaxtEw8V6bmu73WbhwkbQz0gLly7dCvXoTpe3FSalAnn7jNGkyG7/+Wk/atrWXtlkzXmv9dfz4cfTr18+4/mjevDlWr15tvOjE1LRyidgmjh8/Xnqv6knb0+LYvn17wdb/3cfi+JQuDdqUCzgxfwRsLHpj/EFPXIx5vjimItH/PPb2r4WRg+ww8nAoHiVoXlkcxSiAGH53cnLCzp07jQvV04jRrzJlyuDf//639AH71fjhFn/2R5k5c6a0seiJokWLSakqPb+19CHrJxVQ6zdKjRoDUaqUJb7//hfjxTmiBIq9U1Ov+XzESr9y5cr4/PPPUb16deMojanp5BSx0mrQoAH+/ve/G1f+HTp0MI7UmJpWLhF72127dpX+HxfFP/7xD+Oe7OTJk01OK6eIMiDmVSwfZcuWNZ7LZmo6OcXe3t64TPz222/S5+F742fB1HRyilimxXzWrl0bP//8s3FjK/7M1LRyiTisLj53nTp1wrfffmss6uIwqvhzU9PLKWI06dNPPzWur7t162YcTTc1nZwybtw4Y5H55JNPjDsX4r02Nd3v069ff2kdX11aV5aVnt9Y2l4Mksrn4DdOqVLNUaTIz9L2qaZxB+d1ti9iRLd8+fLGdV6RIkWk0trTuM0zNa1cItbLTZs2NQ4AffXVV8YR0/cFi+NT+kxos27BccUYjLLqCNtNt3AsIA8avbj9hQY6VRQiHxzE6o51MHSAPSafi0FAivaVh6pFcRTnmoi9EnFoV4wqPo34QIiN65dffvmshImF8I8yceIkqWBaSyvdptIejgXq128hFb+20n+3f6M0btxOKlPNpec3QufOXTB8+HDjRt7Uaz4fsTISxfGLL74w/hSHUU1NJ6eIlbwojv/5z3/www8/oFWrVsayYGpauUSciC/KjCi6Yr5FGRPvvalp5RRxbqM4DCmWabFsjx492uR0cooYjRbnNoqdN1Ecxd/B1HRyilimRZkR6w2xjIgNs1hmJk2aZHJ6OUTMmxiZEaN2ohTUr1/fOJL+Ouudtx1RYERxLFWqlPFzOWrUKJPTySmiKJYsWRKfffaZsYyJ99rUdL+Pjc0Q6fPQRlpnWkjbGEtpW2F6G/JnqV+/OerUaSj9/25rHBQRy6yp13s+Yjsk5lWs88TOhdh5lvvyIcqu2AkS646vv/7aeMTifcHi+JQhTyqHQbi/ZwbmdbVEm9GbsOCMHyIy8pGZnYq0cBe47p8Om4ZW6D9sCTa4JyMq+9W35BHnZ4hz08QtVcTh6fv37z/LoUOHjIVGlAIxkicOJYhDqH8WcaXt3r37jOeS7djxJDt3/rXs3r0HR44cNR56EaOipl7v+YjDeuJQdZUqVYxFVxRgU9PJKaK0i5OtxV63KAjz5s3DmTNnTE4rl5w7dw5LliwxHqoWh21sbGyM/99NTSuniJF0MRImlmlxmEycNG5qOjlFnH8llglxrqA4VC0u2jA1nZwilg/x2ROjX+IcaXGoXfyZqWnlErF+EZ87USCKFStmLDJiHfY66523HfFZFKP/Yqdz6dKlxkOqpqaTU8S9gUXJFRdsiJ0hcZ63qel+H3F6iXjurl17CrVtefLc3dLvOmRcd73O/2exTRTzKkbSxelb4nQdcYjb1LRyifi7iQIp5lesq8WFmO8LFsdndDDoMhB1YyeOTO+BTj3sYDN9A3afvYRzTqdxetdirJwwEO3bjsHYZWdwLSYH6Zo/PiFdnBQuCqQYfXw+vr6+xg+22KsS5yeJ22uIk97/LOIEc3Fxx/8q4veJmHqt30dcSCBKbseOHY17VuJ+faamk1PEOabifDBReMUhYHFeijih2dS0comYZ3GlrzgUIi40EWVGXP1ralo5RVwsJUbWxYVIYlRXnKBvajo5RcyjWCYGDhxoPOQkdupMTSeniOVD3DtObLDEqSZi/SH+7HU/x28jYt7ETrQ4D1bseIrzMsXtVsQ6yNT0coo4D1MUdDHSKO7TJ04/MjWdnCIuhhHLhxjt27Bhg/HCNVPT/T5Ptwe/30781Tz9faZe6/cR93Bcu3bts9FR8VkUt4AzNa1cIm57JHbaxA6ROA1DFMn3BYvjM1IJNGigSvFHyK3d2DLVGkM6NEWTejVQu1Zd1G3cGm37jYfDpis46xWPpDyt8TD2XyHuJyhKY+/evY2303jd+2y9TaJwiXOSRDEQ52wq5XY84ko38T7PnTsXrq6uxhWanIl5FiPUCxcuNO6Bi6silXBVtbghtSgG4pw7seJXwu14xM6QWCbE+Znim5zElZxyJ5YPcTsecbqLuDODKL5iZ1QJV1WLUSVxwYYoCEq6HY8YTRKnA4jbZCnldjxi+RC3mRJHAl73quq3SRRyMZL+9NxXJdyOR9yNROy4iUEJccoI7+P43pJWvtps5CYHwf/mGZzfuxHrli/GsqXLsXzdDuw4fhXX/RMQlaGBViqNf3VVLVaaYq9brEDFoWwlFAOx9ycO7Ylbady4ccM4WiN3YsUj5lW8z+JQu7jCXWx45UzMs7gRtThsJEZ2xYiH3MuuIDZWYiMrrtIXp14oYZkW8yhKmLh/nCjqYmRG7kRJFN/AIk4FEDtDYvRRLDNyL45ivkVJFzsV4gprUdrlPM9PiSMrYkRJ3KNP3KtUCd+YJUbCxLpalEalDEyIQi6uohZHiMTpAOKzKPcdC7Ez5OPjY3yvxRcfiB2L9wWL4+9JKzODXgutOh/5ebnIzck2bmBycnORl6+GWquHrhClURAfEjGq5O3tbbwvmFipyp2YR1FyxaiMOLSuhG9QECseUdLF+yzKmBgFk/vKSGxMxTIhDuWJ+32Kr6OU+563IJYHcbhJrEjFciL3gi6IZVq816J8iXtnKuEefWL5Fe+1ODXg3r17xpEasczIvTiKiJEvsXMhCpjY6CqBeH/FvRzFTqc4JUAJn0WxoynmV9wfWLznSii7YnkQy4WYZ3E0S3wW5bxMC2JZEMuH+CyKEVIlDKb8r7A4vgVPV/7iAy3+Xe4fEEHMo1ghifkWG1wlzLMgCox4n8WKSQkrfUHMp5hfMd9i/pXwXovlWCwXYp7FcqKUZVrM99PlWinLh5hvsXwopcg8JZZlsROulGVaEO+vmGfxfitlnsV8imVaRCnvtZhHMa9insV7LT6XSvD8uloJA0D/KyyORERERPRaWByJiIiI6LWwOBIRERHRa2FxJCIiIqLXwuJIRERERK+FxZGIiIiIXguLIxERERG9FhZHRRP359JDm5+JnMRwRAY9xEMvDzzweIAHntK/B0YiIjELWSod5Hy3N4NODU1OMhIjQhAWEo6oTDWyZXf/aAP0WhXy0+OREBGIwEfe8H7gAQ/pvfbw9IGvXwhCY1KQkqOBRief+6aJm9nr8tKQHh+GkMfe8PV8Ms+ePo/xOCQGMcnZyNHoIaNZ/h0xYzpoVVnIjA9FqJ8/AoKiEZ+rRa6sFmppPvV5UGfHI8rfF77ubnB3czPeWPxJPOD+wA+BkUlIVukhveUyYXjy+ctORmpMCIKlZcSnYBl54C0tI6FxiE3JQa5Wj7/4Dav/Y3rpPU5Fapg3Anzcn3t/f5cHvnB/FIPE1NyC571t4iboWqiyU5AaHSS9zz7wlt7nBw888cDrIR4FRyMySfosqmW2rjZI6z11DvLSYhEb6gc/H2l+PaTl44EPfB4HIzgqCSnZKkiLtPGT+vaI5Viaj6xExIcFSduRCMRkaZDzu1srimVdnZ2EpKhgBEnrcE8Pd+nv4glPX3/4h8UjMSMP+dLfRR7LunyxOCqauHl4LtLC78H38CwsGdkNXa0aoGG9Rmho1RXdRi7BgkPucI/MQLbMmoG44avBIG2MpGKjyYpFou8pHJo/HrMc5mDV/SR4pcrpBrBiXqXSmBGJUJddOLDQDnY9WqNlo7poUK8h6lm0RYeBkzB54zmc8ZUKsNR6xYrnbb/j4v3V5qUiI+gyXPbMwuT+rdGxWQM0qG8Bi7b90W/CRqw/7YWHibnI1kp/x4LnyYa4cbFBJ/2TjYzI+7i7ayqm9reBzeg12BWUgaBc+cyxKAX6/EDE+uzCCusO6FyrOmrXqIEaz1IfdRtbY+Tykzgfp0KSRh7zLuZbkxWHRK/TcNo0GQ59W6ODWEYaNEHjNn3Rb8o2bHJ8hIDUPKmov+1lRLy6GgkPL+PSrFYY2r7Wc++vlOrVUb1aVVStKqVRZ9TsvRnHrvg/eerbJr3POnUKYh6cwcXVo+HQry3aNJXW1Q2bonGL7uhtvwaLj3rBOy4L2TJpLWL9IcpYboL0///yZmycMgAD21mgcd16aNCkHdr1dYD98uM46xmFyBwd1GL5MPusi9fUQa/TQJ0RgSj3I9g1bTSmT1yADR7J8Mt4bpkVNxmXtjVxnidwfNU4jO3VCpb1a6New2Zo1mkIhszag4O3ghGWY0Ce1N7l8X9BnlgcFcygzoI6+iZcDy+BfY9uGDZ8FOwmTcOUqVMwbcJIjBo2DIOHz8ayE25wjc6T1V6UXpOL/GRpj9XNEU77l2PVbFv0btwQbVsOgv2VOLgmyac4GktBdgjiHhzG1ikjMMZ6MGzHTsSEqdMwfdpkTHEYjZEDe6Gf9USMWOKIayHJSJFm/+12dWmFqUmRdipuwGnNNCwYPRSD7adi/JTpmDFdKmCT7DFi4EDYTVyKZU6BeJyQD6351/p/TK+BNjcBsd5OuLpzBuaOaI9mlS3QtO1kLPVJgU+2fObXIM2rLvEmAs9PgU3zNmjVohesHaZg8syZmGnMPMxduB17nDzgla5Blhx25KRioMuKQKzXKexbOQ+zJ03GjNmzMWvWTMyaLu0IOYyETX9rjJq+FpuvhyMkVf2W1yHixbXIjH6EhyeXY9eq2QXvrch0TBk/FEO7NEDdCuVRrnZ3tJp2Fo7u0U+e+pYZ8lORH+aE8+smw65TR/QfMhLDHCZj0mQHTB47ENb9BqH34NlYezEAnonS+kYOi4dUGtUpPvA+vxGrxw3G4MFDMWikAyZMkdZ706dhsv1ojJW2MaMXH8H2a6GIylLB3PtDerENTAlCwJ2zOLdnCZZOtUa3OnXRpu0wTHOJw4NUqfyKCaVyCXWctC45h2MLR2P8sKGwtpuAydOmS+twaV0+ZjiGDRyMkQv3YcNVqQinq6QljV6FxVGxDNBmxiDFZR42O3TFd8V7Y/R6Z1wKS0dyehLSgi/h4rqxGNG8MTpP3o3l15OglUtzlAqKLlcqNQHS/O6QisywDujY3gLVilWS9sAHYtwlmRVHqRTok+4j1HkJJvW1lVb467DZJQCByTnIyEyU3uubuLSsP2xatUH1lnOx8W4ogqS1ztsdVJKKY14E4rwPYe2IoRg3Yj4WXA6DR3Q6sjKiEfPgOHYOt0Cf9h3RbpELLvplGEcM5MKgF4eUEpAQcB2XN0/HomHt0adPG9Sp1BzN28mwOEob2Xz/k/DYPACdWg/DgCk7cOS+N7zEofXAYASFS+95UiYy86SCKS3ab7+jS8uHtFznhbvAfd849O1hi24jVmHnxfu49UCchuGC66fWYsHAVhg4wA5j9/vAXdr51Mlt50L8PcSIkyoVyQFXcWWLA8YNGgJr+/XY45mMYKmky4E+MxxZt+ZhsXV7VCjbBcM3OuNcgLRTFOePmPsbsHZ4GzSvWB99V93AUb98WZw6otdkIcd/Hw7N7oc2dduj25Q92HwrHFEZ2chMDUWg81rssGuMxi3HoNdsR7jGSMu3GHUseL456LLikBUgFfKNkzDFth3atW6MKj9VQKOmQzHl2n+Lo1ifGNLuwP3oTNhZtUAX26WYf84fERl5yEoLQ9jNndg9xgrtuoxB++mX4RqeDrF6kdvSLhcsjoqlRV5SIB5tG4i5w7rgx54HsPVKCBJytVBrpT2/3ESEXtuBfeNaoO2wJRiz21f6c5mUMWnjoxXn+gTcwJ3rF3HS6Qyczq/CjB6d0MdyMBwuy6s4ivk1qDOQmxyKAJ+HeBQQgagUcT6SBqp8aWUZ5Y37W0diQp9eaNx9JXa7RyDirRdHsbLMQ35mHMIfP4L/o2AEJ2ciKSUZKVHS3+HqTqwe1Ax9u/RF/433cT0kG2pZDHNI/9+lQqNKD0O4+1kcWz4Vc+cux5x123Fw51SM7NQTXTpOxTJZFUdxHlg2Em9txfkpDdGkSSvUb94V/fr1RM+undGt50D0t5uB2duc4eQZg8R8nQzOcdRDr81B3N39ODm9NTr3HoQ2A8Zh6lhbDB/QAz27dESHzj3Qpd84TFhxBCe94xGbLb6jvuDpciGVRp0qE+l+Z+GyfTLsrYdi5Owd0rowAGFpauTI5JQAfXY0st1XYY1dd9Su1AlDV53CEY9gBAR5IOD6Kiwf3hGtarSA7ebbOBOskkdxzEtDmusKbJ7YH5ZtJ2HO4bu4l5iDbGm9p5HWexmBTnDbPhjdLHqhg816HHychFiVeYujJiMO6Y8u4da1izhz4STOHFuCCa1boVfzYZjxfHHU5EIdcADOq4ehY4sRGLP6PJwjM5AlfRC10mM50ffx+JgD7LrbomX3tTjyMBYx0jpcRvvSssLiqFhqZMf5wHVxJ0y27ooSk9xwyjvFOLz+5KOrQ/rDc3BZ0lHaIMzE4BW35FMcJTpVDnISwxAVHYPQuAjER5zG9pEDMLTlEEyUW3E0xSCaYQZSwtzgeXYTNk6ywYhhk2G33BnXQ1ORJs2+rFY6hhxo8yPg47QfhxZPwoyRfdGlmRU6DZiCmaf84R0vj0PVBk02dJlB8L20HwdXzcP8ecuxav8VnL/rjkc3VmP+gP7o2XkalsupOErlRZufiMBTC7G5dxnUb9YZLfqOw6TpMzBr+mRMlsrYCOte6NnfHpPWnMGZgCwk5bzlSyDEKJ0mBSHO67F5QHU0atoeTfo4YMb8hdJ7Phtzpk/ExHEjMGSANeymrsaai4EITMyX3UUDBm0W8hIfwHXXVCy07YG+o1ZixUkveEnzKosdoQIGVSryw51wdsUY2Fg2QcfeQzBwzCRMnDgWE4Z3QfeO3dC6+1SscPLHgyR5HKrW56cj4/4abJvcD1bNR2HiDhdcjchAhkoNVW4KkryO4cqSLmhd1QIWPeZjg3s8wnPNWxy1eZnIjQtEZHQsIuJDEPH4MNb06w6bVsMx87niKHbs8tzW4dTcfrBsPwuzDtzHw1xtwc69tOOXFYLk+ysxo5c1Wjefjq33IxAslWCtfBYhWWFxVCwVsmK9cHNBR6k4dke5mV4465tmvCLvaXHMfOSIGyu6om2/6Ri89LqsiqPxwhidBlqt9OHVJCEz9ix2jpJ5cRTFSlxMkCvticcEItjzGq4cXouNs0Zg1PCJmLTiKI49SEBslqbg/4OM6DOgyXmIa5tnY36/DujRrgWsWnZFt2ELsODAXdwLlzYSb30taYAmPRyZ3ruwdWJ/9GnbCb0nr8Pyfedx8eIxnN0xHsNbt4Jl4wEYtdcZR72iEJaiRv7bHr6TlgltfgL8L2zC7jGdMGz8Uszf64Kbj8IRFROOYI/TcN42DsNaSoVhwAxMOB2FgCR1wZPfEnHeriYRAY6rsLJbZVSp0Q5WIzZg/51A+IbHICbSD36uR7B7fHvY9O6LbvMv4tqjFOhk1Rz10r5bKGLvbsQKuz7o0dEWk3bfgUtIpnEkST5rED10eSlIC7oM561TMKWXJdpZWcJC2nGzsmoGyyYN0bSNtCM3ajU2OT/Gw/hceZzjqMlBXtg5OK0fD9uOvdDPYTnm7zkHx6s3cN3lIhx3z8eqoY1Qr1R9NJGK4/q3UByfXMDzZDuiVcciIego1vU3XRxz763FyTl9YdlpLuYedof/88UxOwwpHmsxq/cgtLWcgk13wxGQx+L4KiyOiqVFTvwjuK3ohuk23fCrvStOeia9MOKY4n0Gl+a1RquBMzF49R1ZFccX6JORFXcWu2RfHHXQazOQEnQDt/YtwIyB3TFo0CgMnbsDOy94wD00GUk50spIWuuL/wOyWucYNNLs5yA1Ogzhjx7A685FXNoxEXOGDUDHHnOx0tEHPtlveRRM2sBmh7oiaEsXDLEojm8+/xJFipZAsTIVUKlCWZQv+SO+/+ILfP7Zt/i+VGU0G7sFC50TEf3Wz2OT/n/r1MhJjUV8yGMEh8UgOikLWfnSBk3aqGlyIhHtcxQbBlmgZ8/h6LnBF15Rb/k2McYRx1QEO6/D+kH1UKvzFAxaexvhaXnI1Wih0+YjNzEA/nuHYb5dL7Sw2wPHu1HS30dOn0s1MkJu4vbKHhjQ3Roth+/ECa9YxOU/ub2UfD5/amTH+uDBlqGYZtsbzXrNwLytJ3Dq6i3cvHUF1x33YMssW9h1a4Muk/Zix+VQWRR0ce6oLi8e0Z5ncWbVKIzq3gwWdaujWtVaqNO0MzoPGICRY/vAqkon9BqwEvsfS59FtXmL439Jr6qLQ1LwUax/RXFUe2/BuUUD0bztNMzcdwfeORpIs2t8rj4zCEmuizFJWo6at5iN7R5RCJUe5KFq01gcFUsPVWo4wo+Nw4rR3fBDs4VYfNQDj5JykJWbhZwkP3ieWIrlAyzQbtQaTD0eLKv7C75A7sVRjDRKpSsvJRj+V/bh8PqFmD9zNmbMWozlW4/jyHU/+MVnI0vafZXPOyzNS26cVHKv49yBQzh49JrxEHpslgpqtThN4DECTkzGwgHtUL/RKMw44ob7mW+/OOYnhSLh5lYc3jAf06dOxdSnmTASY61bwKJSRZQrXR/NbBwwcdc1nPXNROrvb9Zmbga1tIGNQvDd8zi3ZSMOnL2LG48TkJCZC5UqCxnR9+F1fimmdWqCrn0nYeSRUONV7G+XGKnJQYLbQZyc3h5N29iiy9TDuByYhNiMXOTnpCI1xBXXlvbC+EG90G7yKVzyTJCKo1yWcGn9oIlB+O3d2NSvEbqJneNNXvCMy0G+NIvyWtPlIz3sNq7MtMKgDm1QqecqbHDyweP4dKSlxyM1/A6c146AQ5uqqN1zKRYe9JFFQRcXT2myAvDQeTs2jrfBiOEjMGTcJEyaOgMz5yzEgjkOmDuhJ9q0scfQGafgEpmBNGkV8nbee+lV/6A4GrR50EWfx83t9ujXoh+GzNqLvR7RSMhRIzcnBcmPL8Jl7UD07TIMLW324Jx/IpKkv4usBthlhMVRsaS9pNwk5PjsxNHFQ1G7UnvYzNiEjeduwsX1Om6e34Kt0l7soLadYbP0NHZ7ZkCuA45yL47Gm2hnhSHGbR+2j26DHi1awrLPNMzaeR6nrrvB08sb3j6+8H0YgIDgGCRkq5Anzf5bXedIZVef9hgR19f+/+3dB1gUZx7HcQsW7DFq7Inn6am5eGqigqAoiA17QxEx1lgRNVFj7yKGiERji8Z6scQSL4mx0lGkqaggKlVAlM7S2f3ezFouyV0MT8w9rjz/z/OM+7DOzrzzPjOzv5l933dYOs4ee/uPWXjgPMe9AggMusKViyc4tWk6CxyUE//I1Ww6E8bNV37HUQm7T396KizIV0LXf6a81Eji/Taz2t6ekYMW4ByYSFBakT7IvPKmmdocCjND8d69mMV9uzJi0koWbv2O0x5+BFzx5OIxN3YuHcOoPiMYN38nO4MziM8ygLpWe1XH+BB8YB6TBw1lgN0nLN57hhOX/PH3PceFY5tZO3GAvlf1jK8CCYjONpyfqnXF6LICCDm5gplm5tjN28UG32zilYsfw/uyzycz9ipeLrY4jh5CF9tlrN19iu+9LuN/2Rv/i0fZt/ojHIf0wHqSO+4nwgwjOBbnUfDYF8+vVzB/mB2TFm3B+ZhyAep/mcu+5/npwEa2zrdj7Cc7WXX4FvfTlPlfWd0rK35RcFT2dV3ObcLPf8Fau8HYjZvPbLcT/OATgJ/PGX7ct561E/oyZPwKJn1xlWsPsvQDgRvcrmQgJDi+xtQhQNS2GXd9/sn+RQ7MtOtPP2tLevRQJmsb+tvNYtrqgxzxv8/9DAPsEfmMNoXspO/ZN2ciMwZMY9HFRPwMJjgqAawwl8ybp/HdPIpRZs15p0FDGrzditYdTOls3g0LCwtlssSix2hGTNzI7qvRhOfplJPoq61wXWEmWQ9CCDjqivsC9Wq6HzbWVlj2sMKq90AGjpjAlIVufP5tIEFxGWQZcIMenSaWR8Hb2ThxImOVL95NN1K5YTC9qpWwUpBGcthPeO36lMVTRjHCpjd9eip1bdkT676DGWw3lZnrDrH/UoT+WMw1hDt3ajvj3Ef6phcXd6/C2XEMtoN601fZR6ys+tBr4GhGfrSSlbt+4kLEYx7nKGHNUKpcuZgrivsXPl/NYaTpMKYpF8dH4op5nG+I+7CWQk0Sj659y8kvFuBoN4gR/XvR28pS2T+Uuu5lQ78hDoyduRqX48Fcico0jPCr/lSdl0xC6Pf8sHku8z4cxMA+PbFS92mb4YwY58Tsldv46ux1gh5oyC58EtJeDWXNxUod3zvOtgl2TB04i1UeSfoHSTwpk/KvVkNmXDBXDzvj4mTP6AG96dXdQvm+tMaqn61y7l7Kqn0enIvMICW3SL2nLX6DBMfXmnpIFKB5dJdY/6Oc2vM5rquXsmzJMpaudsVVuao9qYbGlBzyDfmeu05DfuZtgr47ysk9x/kxMpNogxqjr4Cc2CAizmxh64blLFq4kIX/NS1i4SIX1m8+wbk7D/VtfV59L2WtfqiSzJhAQs8dZK/bWpxXLGHJoqUsXeWCy5ff8M25YELiMknPU0LB008ZIp0SzLIfXMbz6FG+OXAW76QcEg0oJKjtwYqyEnh8xxuPb3exy3Uta1csZcmS5axc747bnpOcDrhPZHLu8zawBkHt2JOTQsodPwK+38tXn69h3Qrl/KEOWL5xOzu+9cXzZhLJOYWvfHipX1BDTcp17vmdYI/7IU76hHNbo9M/3cYQqRf5RdlxxIRc4NyhrWz/bA1rlinHonquXrkBl60H2f+vAIJi0nmc9yoD2M+pd/PVobFieRD6Iz/sd2Pz2uUsXbyEZas/47MdRzl84QY3EzNQW7m88qrXZqFJuYH/0UMcV4638/cySfhVZ53ivHTSowO48v0+5Xy4jtVLFrFkqXJx5LKD7Ue98Y14yCPl3K0eo+K3SXAsFdQDXDnZaLVofzGp7xvQl9QLPdsG9VX9y8Co9ajeofmvOv71ZIDlf1HZ9f/3dD6Dp5RVX27l9ek7Buc361p9/zUst0HvH0/qVC3n63Gee1Le/z5PP50Mtq6VQv1WuQ2u3p+U89n3yP+kr+f/sS0v+oz4BQmOQgghhBCiRCQ4CiGEEEKIEpHgKIQQfwodxQU5ZMSHcy8skKDAEK4G3eHug1QytchgwkKIUkGCoxBCvDQ1FRahSY7k8rZpLBndBQtzazp2dWLhjvNcLYAM6aYphCgFJDgKIcRLexIcM+Ovc26JJWPaVqJGlbqUrWbDyOVHuagExxQJjkKIUkCCoxCiVNA/s1aTQkpSHDFRUdy/H0XcwzRSNMW/emqSTv8c3rzMZBJio4lW5ouOfUBiWg7Z+WrvSnVcRg2ajMc8SoonPjaGmOgooqLuK5PyGq38HZfAg4cppGblkluk0/cu/d3gqA5Wriw3Pz2RhLhoou5HK8tJ5GFmPprnY90orzplO/IzSE2II15dZ3Qs0UkZpGX/7PnWaq/QojzyslJJS05QlvesjMpylfljHySRlJJBRk6Bftt/vvVCCPEyJDgKIV5zaizSUZQRyyO/bexYPI6Rfayx7N4b+6Vf4+bxiJi0Qp49q0UNmPlxXoQcW86s4TbY9OiFzagZfLL3CpciM8lOTyIt4jwXDrrg/MlkptiPYOSQAQzsb0P/AYMYONSWUR/OYtpid748FUBAfA4Z+eo4mC8Ojo8LlBAX5Un44fk42g/EqntfBjt8zLJTEXjHP31sok55LYolKfwYO2fZM8GqO70H2jFw8TH2XIpVZ1A3AG1eKumxwQSe/JKdKxyZNc4W2yGDGDRoCIOH2zN22iIWuX3DPz0jiHyk0Y9vKDc8hRB/BgmOQojX3JPgWJwdz+PAHbhP7Y5ZA2MqlavIWyZTGLLeB++odLKV5KQO1K0tSOeB5xb2O5rw9zrGGFduTIP2dkzb7cOl8LvEhH7HceepzBrSne4mpnQdMIaRE2biOGc2jjMmMm6wJb06vUebDj3oOX4dSw4EE5qYRY72d4Jjfh4FYccI2NgH85ZvYlSmKvVaWTPsy0CO3y18uinKa2E40Vc3sdD8r7Q1KkOVN5tTe5Aby46E60Njce5DEm+c5ey2T1k4pid9zEx5v7MafsczbvIEpn44lP6WPbDsNQzb2S64nAjGPzqL3GKthEchxEuT4CiEKB20GvJSQvBwn4KjaT1qVyxPhXrdaDvcld1XYojOU8Jlkfpc6XB8ts1kXtc61K1iRKUGFrQb4cYe/zvEJIVy86wri4d1p3eHjpj0sGXs+iPsPhdMWPgNQny/48ia8XxkVp/61StRuZE17Wy3cfj6A5KK/9/B8Ta6olxy4r3x3OHEzK7N+Msb1aj9l258YOfC5h+CuHLzKre9drJxfDd6/rUOjZq9T9uxbqw6EU5sdiEG+UQ+IcRrRYKjEKJ00BVRnJtMgqc7ex3NaFWrMsaVG9Lw/dFM23sVj9g88rMTyA4/wC6nPlg0qEqVClVoaDGdkZsC8Y1KIyc/ncyHd7jpf4lL3x3jxD/3snf/fvbs3s6OzWtYNW88Dr3a0aFRFaoooa6scTv+Yr4Y98v3uVP45wfH934VHItzUoj/aT3ukzvzjwY1MTaqR0vrGUw/EMrlmAwyNJlokm8T8vVMPh3QgqZ1GlLjnQEMXniAkzEaHkpyFEK8JAmOQohSQoeuWAmH8R74fT2LUW1q0bRqZao17oiZ40G+8oklIS6U8CMzmWfTkiZVa1Kh+rt0nbYF18tpRKfnoy3WkJ18hwiPY5zcuYENS+Yye+oUpn40jemzHJk5YyqThnTD+t3a1KxUjrJGrWn6vhPOPpGEFfy/g+NN8jPiCf5yHPMs61KnSjXKlG+NqYMLm0PTiNWoP0Tr0Koda/xd2TnLjPfqvkHlCu/QfsQyVvumcCf9WUtPIYT4YyQ4CiFKD10Ruvx4ovz2sMO2Fd2bVqFi9bdpbDGX+bvPcNH3BIeczBnUpgbVazaheusJTHU/j39aMWl5+RSmRnDXcxdfzujD4I5/o8U7rWhlYkM/h7nMW7edLXuPsHfDLBYPbkajmkZKcGxF0w6zWecdyY2XCY6RPwuOBUpwDPicBUpw/PsvguMNclPvcX7VACa0r0TNylUpY9SWTiMWsfoHX84FBBMSEkzQVV/8ji1n7UQz2r5ZDeOyVWlmNZWJ38QTmvh0PUII8QdJcBRClCJqr+N8sqN9idhpyxSLplSvUJ1ajZWwOHcxy7YuZ7LpO/y9RkVqNO7A38YfwP1cNOlFOvJyM0gJPMRpJZhZtq5L3WpvUb+FNUPWHGbnhevcuhdLVNRdrh1bg/uYFrxd61lwdGL9SwTHoVt/FRzzbxF9eSMfmzXn3V8Ex+vkpEZyZmlfHNoaUaNSecqUrUHN+s1p+YEJHU270KWLOplg0r4FLZu8QY0K5SlXxoj6XRwYui2CgJjcJ+sRQog/SIKjEKKU0VGcGY3mxnY2T7Gg4xsVqVOjAa3Nu9F9cE/avlWLN43r0/iD0TjsDuHsvWy0ymcKNMlEf+/Mdgc1FFagnFEz3uk0hU9/iuBKahE6bREFWQ+4fWwFGwc3pUmN8vqfqt/uMAdn30jCfq+NY4ESHG8f5+rnNnRrWVsJjsbUadmDAZuvcjT8P8FRm32Nu5dWMbNzM1qUL4Nx7WfBMYy89Gj8XG2ZYVaL2saVKVO+AU3/YUWfidOZ4uiEk9PPp9nMnu2kTHNYsukAu7wSiUlVCiKEEC9BgqMQovTRZkNRBBc3TWZm2yo0rV4BY+MqVKteDSOjSlSobUL7YRvYE5bM/Ty1w4hWCYVJRHy7HNchDWmshsIKbWhu/jEbfO9xXVNIcaGGrIfX8No2k7lmtalnXEbfxlC94+jsc+d37zimKMGxKPI0IVuHYd2mLsZlK1C7eRes1nqyLySHomItxQUa8hK9CD06G/t2jWhUtgyVngfH2xRlP+TukY9ZPfxvNH1DCZ+VP8Biohs7bz0iRiljUXEx2qIC8rLSSH+cxMOkJBKTUkjNyCGvSFm+fqByIYT44yQ4CiFKH3UgbW0WcRfdODijI52a1KBq+fJKaKxA+QrVqWc6iRHOlwhM1JCtf6qMjuLcVJJ9d3DkY3PaNaxOlYp1eatVP4a5/ItDAZHERYdw5fh61ozrSpfGVZXlKcGx3F9p/I+pLD8fTrAS3F4YHAsLKE72J+L0AiabN6eZcUVqNWhNi5GuLD4UTGRyCgnR17h22pUt07o+KbMSHCs+D47haAuySb99klPOY7Ft34SGNRvQ3GwMo51PcSLwPvcT4nkUE4zPvlVsdBzFqBF2DB67lOW7zuObmEdagQRHIcTLkeAohCiFnoTB/NgLBO6fwbhOjWlSuQzlyhljVKMVnSZ+ztoL8SRpivRzqvNqC3PIjfUl+PBS5g7tjGmLxrz9diva9J7EmDkrWe+8giWz7HAY0JnOrRtRp7IRFcvVp16r4Uw9GMTFxFwyXhQci4vR5cbyMOxb9i6wZYxpS9o0b06jtv2xHjuf5a5b2OT2GRtXODHbrqf+5+z6VcpS6Xkbx3B02kIKs+5z1+sA+xY74GDdEXOzHnQdNIUp81excv06XFbPZ/ZIS/qatqe9mQ3WH65hzUFfgpLzyXz+aEMhhPhjJDgKIUottYd1fOhRdkzvzwiTNrz7ngltzacwZ9tZLibkPr3b+JROCXaFGaTFBBBwaCUbZgxjqKUppiammJhb0qPvEIbaT2GG0zRmTxtJP5MOvN+mA5162jN9TwBn72rISorAd/OHfDKoLR+060LrDlNx+uIMl5XgmK5V1qUr1A+pE+t3kCMbZzLDtjc9zdUOLd3o2rM/A2wnMmn+chatWcWn9lYMN2tDhy69MJm+D/cf76uFVMJjAYWZD0i8eZ6fvlrJWkd7xgzuQx8rCyy6dsW8a3csew1ksL0jjmu/5oBHOGFJGnILtahFEEKIlyHBUQhReunyyctKIi4sgGBfDzw9ffHyv8Ht2MekFqht/p7Op6cGu2KK8jOVAHiPqFtBBPn74OPliaeXN96+V7gSdI0bN8O4FRZMgI83Ph5eeF8O5npMGsnZRRTlZZMaFcqtq8r73r54eF/nZnQyaVp4crNPp2+DmJ+ZxMPoW9wMvsJlH2VeLy+8vP3wU4fUuRnB7bt3iQi9TLCfh369PjfiiErO0ZfyeXjMSSP1wT3u3QohJED5rLIcL6WsHp5KufyV8Btyi1v3EkhMz0WjhEadtG8UQvwJJDgKIYQQQogSkeAohBBCCCFKRIKjEEIIIYQoEQmOQgghhBCiRCQ4CiGEEEKIEpHgKIQQQgghSkSCoxBCCCGEKBEJjkIIIYQQokQkOAohhBBCiBKR4CiEEEIIIUpEgqMQQgghhCgRCY5CCCGEEKJEJDgKIYQQQogSkeAohBBCCCFKAP4NMuMtDvJzHVgAAAAASUVORK5CYII=)"
      ],
      "metadata": {
        "id": "DDa3slY-OzCi"
      }
    },
    {
      "cell_type": "markdown",
      "source": [
        "Para essa questão, vamos usar a forma usual de calcular a média aritmética. Somando todos os elementos e dividindo pela quantidade de elementos.\n",
        "\n",
        "$\\frac{1}{n}\\sum_{i=1}^nVal_i$\n",
        "\n",
        "ou seja\n",
        "\n",
        "$\\frac{1}{22}(20\\times0 + 9\\times2) = 0.82$"
      ],
      "metadata": {
        "id": "Owcu6IUJaOKH"
      }
    },
    {
      "cell_type": "markdown",
      "source": [
        "Para a mediana, precisaremos ter um rol e definir e index de corresponde ao elemento central. No caso da questão, os dados já estão ordenados e temos 22 elementos. Como 22 é par, a mediana é definida pela média aritmética dos dois elementos centrais, que são os elementos de ordem 11 e 12, que são ambos zero. Portanto:\n",
        "\n",
        "$Mediana = 0$"
      ],
      "metadata": {
        "id": "ejDV8NhhdLH5"
      }
    },
    {
      "cell_type": "markdown",
      "source": [
        "#Questão 7: \n",
        "**Joana construiu um algoritmo em python para automatizar a coleta de dados em um servidor. Joana observou\n",
        "que seu algoritmo está gastando muito tempo em determinadas funções. Desta forma, Joana realizou um pequeno teste\n",
        "para verificar o tempo gasto em cada rodada do algoritmo. Os dados coletados foram apresentados em uma tabela (ver\n",
        "abaixo). Joana coletou 400 amostras. Sabe-se que a mediana do tempo gasto pelo algoritmo é igual a 8,8 segundos. Nessas condições, o tempo médio desse\n",
        "algoritmo, considerando os 400 dados, é igual a?**"
      ],
      "metadata": {
        "id": "dnS4FZYecmpo"
      }
    },
    {
      "cell_type": "markdown",
      "source": [
        "![q007.PNG](data:image/png;base64,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)"
      ],
      "metadata": {
        "id": "TXv0JycPhP5S"
      }
    },
    {
      "cell_type": "markdown",
      "source": [
        "Como estamos trabalhando com dados agrupados em classes de intervalos, temos a seguinte formula para mediana:\n",
        "\n",
        "##<center> $Mediana = L_i + \\frac{\\frac{n}{2} - F_{ci-1}}{F_i}(L_s - L_i)$\n",
        "\n",
        "Sendo:\n",
        "\n",
        "\n",
        "*   Ls o limite superior da classe mediana\n",
        "*   Li o limite inferior da classe mediana\n",
        "*   Fi a frequência absoluta da classe mediana\n",
        "*   Fci-1 a frequência acumulada da classe anterior à classe mediana\n",
        "\n",
        "\n"
      ],
      "metadata": {
        "id": "-Rsnx9EphvQz"
      }
    },
    {
      "cell_type": "markdown",
      "source": [
        "Já temos o valor da Mediana: **8.8**\n",
        "Sabemos que a classe mediana é, por definição, (8,10], descobrindo, assim, **Ls=10** e **Li=8**. Também sabemos que **n = 400** e podemos descobrir **Fci-1** pela soma 100 + 48 = **148**"
      ],
      "metadata": {
        "id": "gJsE8z1wowUG"
      }
    },
    {
      "cell_type": "markdown",
      "source": [
        "Com acesso a todas essas informações basta fazer as substituiçoes devidas para descobrir A, que corresponde ao parâmetro **Fi**:\n",
        "\n",
        "##I. $8.8 =8 + \\frac{\\frac{400}{2} -148}{F_i}(10 - 8)$\n",
        "\n",
        "##II. $8.8 =8 + \\frac{104}{F_i}$\n",
        "\n",
        "##III. $0.8Fi = 104 $\n",
        "\n",
        "##IV. $Fi = A = 130$\n"
      ],
      "metadata": {
        "id": "g2H9MgzIptde"
      }
    },
    {
      "cell_type": "markdown",
      "source": [
        "Para descobrir B, também não há mistério:\n",
        "\n",
        "##I. $48 + 100 + 130 + B + 40 = 400$\n",
        "##II. $318 + B = 400$\n",
        "##III. $B = 82$"
      ],
      "metadata": {
        "id": "TeeMcmnIr_HX"
      }
    },
    {
      "cell_type": "markdown",
      "source": [
        "Agora que já temos todas as informações da tabela, vamos calcular a média aritmética para dados agrupados que tem fórmula:\n",
        "\n",
        "\n",
        "## <center>$Media = \\frac{1}{n}\\sum_{i=1}^{k}Xi.Fi$<center>\n",
        "\n",
        "<br> Onde Xi é a média do intervalo de cada grupo e fi é a frequência desse grupo na amostra."
      ],
      "metadata": {
        "id": "YPur8EQVPFKq"
      }
    },
    {
      "cell_type": "markdown",
      "source": [
        "Que para a questão fica:\n",
        "\n",
        "##I.$\\frac{1}{400}(5\\times48 + 7\\times 100 + 9\\times130 + 11\\times 82 + 14\\times40)$\n",
        "##II.$\\frac{3572}{400} = 8,93$"
      ],
      "metadata": {
        "id": "5dPGT58YsxHH"
      }
    },
    {
      "cell_type": "markdown",
      "source": [
        "#Questão 8:\n",
        "**A variável aleatória X apresenta as seguintes observações X = {6; 14; 6; 14; 13; 8}. Assim, o coeficiente de\n",
        "variação e a assimetria seriam respectivamente:**"
      ],
      "metadata": {
        "id": "Hl0fctdL6LWo"
      }
    },
    {
      "cell_type": "markdown",
      "source": [
        "Aqui vamos usar as fórmulas que já conhecemos da questão 4."
      ],
      "metadata": {
        "id": "onQ81kBO_NHw"
      }
    },
    {
      "cell_type": "code",
      "source": [
        "x = [6,14,6,14,13,8]\n",
        "q8media = np.mean(x) #Calculando a média aritmética de dados não agrupados\n",
        "q8mediana = np.median(x) #Calculando a mediana de dados não agrupados\n",
        "q8desviopadrao = np.std(x) ##Calculando o desvio padrão de dados não agrupados\n",
        "print(f'Media de X: {q8media:.2f}\\nMediana de X: {q8mediana:.2f}\\nDesvio Padrão de X: {q8desviopadrao:.2f}')"
      ],
      "metadata": {
        "colab": {
          "base_uri": "https://localhost:8080/"
        },
        "id": "HPUTmMa0_T1-",
        "outputId": "52aea2be-3608-444f-e847-46588531e68e"
      },
      "execution_count": 56,
      "outputs": [
        {
          "output_type": "stream",
          "name": "stdout",
          "text": [
            "Media de X: 10.17\n",
            "Mediana de X: 10.50\n",
            "Desvio Padrão de X: 3.58\n"
          ]
        }
      ]
    },
    {
      "cell_type": "code",
      "source": [
        "q8coefvariacao = coef_var(q8media, q8desviopadrao)\n",
        "print(f'Coeficiente de Variação de X: {q8coefvariacao:.2f}%')"
      ],
      "metadata": {
        "colab": {
          "base_uri": "https://localhost:8080/"
        },
        "id": "q6iSooqiAv32",
        "outputId": "e00bf42f-8bf0-4ac2-83d6-c3b2acc6a3ca"
      },
      "execution_count": 57,
      "outputs": [
        {
          "output_type": "stream",
          "name": "stdout",
          "text": [
            "Coeficiente de Variação de X: 35.20%\n"
          ]
        }
      ]
    },
    {
      "cell_type": "code",
      "source": [
        "q8_as = coef2_pearson(q8media, q8mediana, q8desviopadrao)\n",
        "print(f'Assimetria de X: {q8_as:.2f}')"
      ],
      "metadata": {
        "colab": {
          "base_uri": "https://localhost:8080/"
        },
        "id": "IVZiaSHcBjP8",
        "outputId": "25236951-853e-41a2-860e-fb2ef5dc1f1f"
      },
      "execution_count": 58,
      "outputs": [
        {
          "output_type": "stream",
          "name": "stdout",
          "text": [
            "Assimetria de X: -0.28\n"
          ]
        }
      ]
    },
    {
      "cell_type": "markdown",
      "source": [
        "#Questão 9:\n",
        "\n",
        "**A Tabela abaixo apresenta as notas de 200 alunos de estatística da UFPE. Complete-a e calcule o coeficiente\n",
        "de variação dessas notas. Defina o grau de achatamento da distribuição (mesocúrtica, platocúrtica ou leptocúrtica).\n",
        "Faça o upload do arquivo que comprove seus cálculos.**"
      ],
      "metadata": {
        "id": "3VYiNVVDJgRN"
      }
    },
    {
      "cell_type": "markdown",
      "source": [
        "![tabela009.PNG](data:image/png;base64,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)"
      ],
      "metadata": {
        "id": "ZTneDVg0ibS6"
      }
    },
    {
      "cell_type": "markdown",
      "source": [
        "essa é a tabela já modificada com valores de interesse para os cálculos."
      ],
      "metadata": {
        "id": "sODW25vQjIOS"
      }
    },
    {
      "cell_type": "markdown",
      "source": [
        "  Primeiramente, devemos calcular a média dessa amostra de dados agrupados.\n",
        "\n",
        "I. $\\frac{1}{200}(30\\times1 + 40\\times3 + 20\\times5 + 10\\times7 + 100\\times9)$\n",
        "\n",
        "II.  $\\frac{1}{200}(30 + 120 + 100 + 70 + 900)$\n",
        "\n",
        "III. $𝜇 = \\frac{1220}{200} = 6,1$"
      ],
      "metadata": {
        "id": "aS-XE7_GuyCx"
      }
    },
    {
      "cell_type": "markdown",
      "source": [
        "Agora usaremos a fórmula para calcular o desvio padrão para dados agrupados:\n",
        "\n",
        "$σ=\\sqrt{\\frac{1}{n}∑_i^k (Xi-𝜇)^2.fi}$\n",
        "\n",
        "Fazendo o cálculo na calculadora obtemos: \n",
        "$σ=3,19$"
      ],
      "metadata": {
        "id": "8cQlUoXZxXnJ"
      }
    },
    {
      "cell_type": "markdown",
      "source": [
        "Tendo esses dois parâmetros, poderemos calcular o coeficiente de variação dado por:\n",
        "\n",
        "### $\\frac{\\sigma}{𝜇} = \\frac{3,19}{6,1} = 0,52$"
      ],
      "metadata": {
        "id": "5aLu2cdHyxIs"
      }
    },
    {
      "cell_type": "markdown",
      "source": [
        "Para calcular o grau de achatamento (Curtose) usamos a equação:\n",
        "###$C = \\frac{Q3 - Q1}{2(P_{90}-P_{10})}$"
      ],
      "metadata": {
        "id": "2eDXzoAD0ply"
      }
    },
    {
      "cell_type": "markdown",
      "source": [
        "Sendo assim, é preciso definir os quartis e percentis.\n",
        "\n",
        "Para definir os quartis em um conjunto de dados agrupados usamos a fórmula:\n",
        "\n",
        "###$Q1 = L_{q1} + \\frac{\\frac{n}{4}-F_{ci-1}}{f_{Q1}}.h = $ $2 + \\frac{\\frac{200}{4}-30}{40}\\times2 = 2 + \\frac{20}{40}\\times2 = 3$\n",
        "###$Q3 = L_{q3} + \\frac{\\frac{3n}{4}-F_{ci-1}}{f_{Q3}}.h = 8+\\frac{\\frac{3\\times200}{4} - 100}{100}\\times2 = 8 + \\frac{150-100}{100}\\times2 = 9$\n",
        "\n",
        "Em seguida, devemos calcular os percentis com as fórmulas:\n",
        "\n",
        "###$P_i = L_{pi} + \\frac{(\\frac{i.n}{100} - F_{ci-1})}{F_{pi}}.h$\n",
        "###$P_{10} = 0 + \\frac{(\\frac{10\\times200}{100} - 0)}{30}.2 = \\frac{4}{3}$\n",
        "###$P_{90} = 8 + \\frac{(\\frac{90\\times200}{100} - 100)}{100}.2 = 9.6$\n",
        "\n",
        "Então teremos a curtose:\n",
        "\n",
        "###$C = \\frac{9 - 3}{2(9.6-1.3)} = \\frac{6}{16} = 0,36 $\n",
        "\n",
        "Por ser maior que 0.263, consideramos a distribuição como **platicúrtica.**\n"
      ],
      "metadata": {
        "id": "m_r3CYl41uNz"
      }
    }
  ]
}